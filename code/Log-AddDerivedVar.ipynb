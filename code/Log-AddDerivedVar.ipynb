{
 "cells": [
  {
   "cell_type": "code",
   "execution_count": 103,
   "metadata": {},
   "outputs": [],
   "source": [
    "import pandas as pd\n",
    "import numpy as np"
   ]
  },
  {
   "cell_type": "code",
   "execution_count": 90,
   "metadata": {},
   "outputs": [],
   "source": [
    "# load\n",
    "loan_result=pd.read_csv(\"../data/loan_result.csv\")\n",
    "log_data=pd.read_csv(\"../data/log_data.csv\")\n",
    "user_spec=pd.read_csv(\"../data/user_spec.csv\")\n",
    "\n",
    "# columns localize\n",
    "loan_result.columns=['신청서_번호', '한도조회_일시', '금융사_번호', '상품_번호', '승인한도', '승인금리', '신청_여부(y)']\n",
    "log_data.columns=['유저_번호', '행동명', '행동일시', '운영체제', '앱_버전', '일_코드']\n",
    "user_spec.columns=['신청서_번호', '유저_번호', '유저_생년월일', '유저_성별', '생성일시', '한도조회_당시_유저_신용점수', '연소득', '근로형태', '입사연월', '고용형태', '주거소유형태', '대출희망금액', '대출_목적', '개인회생자_여부', '개인회생자_납입_완료_여부', '기대출수', '기대출금액'] # 건강보험 타입이 정의서에는 있는데 데이터엔 없는듯"
   ]
  },
  {
   "cell_type": "code",
   "execution_count": 91,
   "metadata": {},
   "outputs": [
    {
     "data": {
      "text/plain": [
       "(17843993, 6)"
      ]
     },
     "execution_count": 91,
     "metadata": {},
     "output_type": "execute_result"
    }
   ],
   "source": [
    "log_data.shape"
   ]
  },
  {
   "cell_type": "code",
   "execution_count": 92,
   "metadata": {},
   "outputs": [
    {
     "data": {
      "text/html": [
       "<div>\n",
       "<style scoped>\n",
       "    .dataframe tbody tr th:only-of-type {\n",
       "        vertical-align: middle;\n",
       "    }\n",
       "\n",
       "    .dataframe tbody tr th {\n",
       "        vertical-align: top;\n",
       "    }\n",
       "\n",
       "    .dataframe thead th {\n",
       "        text-align: right;\n",
       "    }\n",
       "</style>\n",
       "<table border=\"1\" class=\"dataframe\">\n",
       "  <thead>\n",
       "    <tr style=\"text-align: right;\">\n",
       "      <th></th>\n",
       "      <th>유저_번호</th>\n",
       "      <th>행동명</th>\n",
       "      <th>행동일시</th>\n",
       "      <th>운영체제</th>\n",
       "      <th>앱_버전</th>\n",
       "      <th>일_코드</th>\n",
       "    </tr>\n",
       "  </thead>\n",
       "  <tbody>\n",
       "    <tr>\n",
       "      <th>0</th>\n",
       "      <td>125129</td>\n",
       "      <td>UseLoanManage</td>\n",
       "      <td>2022-03-01 00:00:00</td>\n",
       "      <td>Android</td>\n",
       "      <td>3.8.0</td>\n",
       "      <td>2022-03-01</td>\n",
       "    </tr>\n",
       "    <tr>\n",
       "      <th>1</th>\n",
       "      <td>385811</td>\n",
       "      <td>Login</td>\n",
       "      <td>2022-03-01 00:00:00</td>\n",
       "      <td>Android</td>\n",
       "      <td>3.8.0</td>\n",
       "      <td>2022-03-01</td>\n",
       "    </tr>\n",
       "    <tr>\n",
       "      <th>2</th>\n",
       "      <td>720911</td>\n",
       "      <td>OpenApp</td>\n",
       "      <td>2022-03-01 00:00:00</td>\n",
       "      <td>iOS</td>\n",
       "      <td>3.6.0</td>\n",
       "      <td>2022-03-01</td>\n",
       "    </tr>\n",
       "    <tr>\n",
       "      <th>3</th>\n",
       "      <td>706858</td>\n",
       "      <td>UseLoanManage</td>\n",
       "      <td>2022-03-01 00:00:03</td>\n",
       "      <td>Android</td>\n",
       "      <td>3.8.0</td>\n",
       "      <td>2022-03-01</td>\n",
       "    </tr>\n",
       "    <tr>\n",
       "      <th>4</th>\n",
       "      <td>512341</td>\n",
       "      <td>EndLoanApply</td>\n",
       "      <td>2022-03-01 00:00:03</td>\n",
       "      <td>Android</td>\n",
       "      <td>3.8.0</td>\n",
       "      <td>2022-03-01</td>\n",
       "    </tr>\n",
       "  </tbody>\n",
       "</table>\n",
       "</div>"
      ],
      "text/plain": [
       "    유저_번호            행동명                 행동일시     운영체제   앱_버전        일_코드\n",
       "0  125129  UseLoanManage  2022-03-01 00:00:00  Android  3.8.0  2022-03-01\n",
       "1  385811          Login  2022-03-01 00:00:00  Android  3.8.0  2022-03-01\n",
       "2  720911        OpenApp  2022-03-01 00:00:00      iOS  3.6.0  2022-03-01\n",
       "3  706858  UseLoanManage  2022-03-01 00:00:03  Android  3.8.0  2022-03-01\n",
       "4  512341   EndLoanApply  2022-03-01 00:00:03  Android  3.8.0  2022-03-01"
      ]
     },
     "execution_count": 92,
     "metadata": {},
     "output_type": "execute_result"
    }
   ],
   "source": [
    "# log_data sort by time(asc)\n",
    "log_data=log_data.sort_values('행동일시').reset_index(drop=True)\n",
    "log_data.head()"
   ]
  },
  {
   "cell_type": "code",
   "execution_count": 93,
   "metadata": {},
   "outputs": [],
   "source": [
    "log_data['행동일시'] = pd.to_datetime(log_data['행동일시'])\n",
    "log_data['일_코드'] = pd.to_datetime(log_data['일_코드'])\n",
    "loan_result['한도조회_일시'] = pd.to_datetime(loan_result['한도조회_일시'])\n",
    "user_spec['생성일시'] = pd.to_datetime(user_spec['생성일시'])"
   ]
  },
  {
   "cell_type": "code",
   "execution_count": 119,
   "metadata": {},
   "outputs": [
    {
     "name": "stdout",
     "output_type": "stream",
     "text": [
      "370436\n"
     ]
    }
   ],
   "source": [
    "users=set(user_spec['유저_번호'])\n",
    "log_user=set(log_data['유저_번호'])\n",
    "count=[]\n",
    "\n",
    "for num in log_user:\n",
    "    if num in users:\n",
    "        count.append(num)\n",
    "\n",
    "print(len(count))"
   ]
  },
  {
   "cell_type": "code",
   "execution_count": 127,
   "metadata": {},
   "outputs": [
    {
     "name": "stderr",
     "output_type": "stream",
     "text": [
      "100%|██████████| 1394216/1394216 [19:22:38<00:00, 19.99it/s]     \n",
      "  0%|          | 24778/17843993 [41:17<494:59:15, 10.00it/s] \n"
     ]
    },
    {
     "ename": "KeyboardInterrupt",
     "evalue": "",
     "output_type": "error",
     "traceback": [
      "\u001b[0;31m---------------------------------------------------------------------------\u001b[0m",
      "\u001b[0;31mKeyboardInterrupt\u001b[0m                         Traceback (most recent call last)",
      "\u001b[0;32m/var/folders/rk/y11_sp2576738b0ssrr5rf7h0000gn/T/ipykernel_11990/1448361315.py\u001b[0m in \u001b[0;36m<module>\u001b[0;34m\u001b[0m\n\u001b[1;32m     12\u001b[0m \u001b[0;32mfor\u001b[0m \u001b[0mi\u001b[0m \u001b[0;32min\u001b[0m \u001b[0mtqdm\u001b[0m\u001b[0;34m(\u001b[0m\u001b[0mrange\u001b[0m\u001b[0;34m(\u001b[0m\u001b[0mlen\u001b[0m\u001b[0;34m(\u001b[0m\u001b[0mlog_data\u001b[0m\u001b[0;34m)\u001b[0m\u001b[0;34m)\u001b[0m\u001b[0;34m)\u001b[0m\u001b[0;34m:\u001b[0m\u001b[0;34m\u001b[0m\u001b[0;34m\u001b[0m\u001b[0m\n\u001b[1;32m     13\u001b[0m     \u001b[0;32mif\u001b[0m \u001b[0mlog_data\u001b[0m\u001b[0;34m[\u001b[0m\u001b[0;34m'유저_번호'\u001b[0m\u001b[0;34m]\u001b[0m\u001b[0;34m.\u001b[0m\u001b[0miloc\u001b[0m\u001b[0;34m[\u001b[0m\u001b[0mi\u001b[0m\u001b[0;34m]\u001b[0m \u001b[0;32mnot\u001b[0m \u001b[0;32min\u001b[0m \u001b[0mcount\u001b[0m\u001b[0;34m:\u001b[0m\u001b[0;34m\u001b[0m\u001b[0;34m\u001b[0m\u001b[0m\n\u001b[0;32m---> 14\u001b[0;31m         \u001b[0mlog_df\u001b[0m\u001b[0;34m.\u001b[0m\u001b[0mdrop\u001b[0m\u001b[0;34m(\u001b[0m\u001b[0;34m[\u001b[0m\u001b[0mi\u001b[0m\u001b[0;34m]\u001b[0m\u001b[0;34m)\u001b[0m\u001b[0;34m\u001b[0m\u001b[0;34m\u001b[0m\u001b[0m\n\u001b[0m",
      "\u001b[0;32m~/opt/anaconda3/envs/smartfarm/lib/python3.7/site-packages/pandas/util/_decorators.py\u001b[0m in \u001b[0;36mwrapper\u001b[0;34m(*args, **kwargs)\u001b[0m\n\u001b[1;32m    309\u001b[0m                     \u001b[0mstacklevel\u001b[0m\u001b[0;34m=\u001b[0m\u001b[0mstacklevel\u001b[0m\u001b[0;34m,\u001b[0m\u001b[0;34m\u001b[0m\u001b[0;34m\u001b[0m\u001b[0m\n\u001b[1;32m    310\u001b[0m                 )\n\u001b[0;32m--> 311\u001b[0;31m             \u001b[0;32mreturn\u001b[0m \u001b[0mfunc\u001b[0m\u001b[0;34m(\u001b[0m\u001b[0;34m*\u001b[0m\u001b[0margs\u001b[0m\u001b[0;34m,\u001b[0m \u001b[0;34m**\u001b[0m\u001b[0mkwargs\u001b[0m\u001b[0;34m)\u001b[0m\u001b[0;34m\u001b[0m\u001b[0;34m\u001b[0m\u001b[0m\n\u001b[0m\u001b[1;32m    312\u001b[0m \u001b[0;34m\u001b[0m\u001b[0m\n\u001b[1;32m    313\u001b[0m         \u001b[0;32mreturn\u001b[0m \u001b[0mwrapper\u001b[0m\u001b[0;34m\u001b[0m\u001b[0;34m\u001b[0m\u001b[0m\n",
      "\u001b[0;32m~/opt/anaconda3/envs/smartfarm/lib/python3.7/site-packages/pandas/core/frame.py\u001b[0m in \u001b[0;36mdrop\u001b[0;34m(self, labels, axis, index, columns, level, inplace, errors)\u001b[0m\n\u001b[1;32m   4911\u001b[0m             \u001b[0mlevel\u001b[0m\u001b[0;34m=\u001b[0m\u001b[0mlevel\u001b[0m\u001b[0;34m,\u001b[0m\u001b[0;34m\u001b[0m\u001b[0;34m\u001b[0m\u001b[0m\n\u001b[1;32m   4912\u001b[0m             \u001b[0minplace\u001b[0m\u001b[0;34m=\u001b[0m\u001b[0minplace\u001b[0m\u001b[0;34m,\u001b[0m\u001b[0;34m\u001b[0m\u001b[0;34m\u001b[0m\u001b[0m\n\u001b[0;32m-> 4913\u001b[0;31m             \u001b[0merrors\u001b[0m\u001b[0;34m=\u001b[0m\u001b[0merrors\u001b[0m\u001b[0;34m,\u001b[0m\u001b[0;34m\u001b[0m\u001b[0;34m\u001b[0m\u001b[0m\n\u001b[0m\u001b[1;32m   4914\u001b[0m         )\n\u001b[1;32m   4915\u001b[0m \u001b[0;34m\u001b[0m\u001b[0m\n",
      "\u001b[0;32m~/opt/anaconda3/envs/smartfarm/lib/python3.7/site-packages/pandas/core/generic.py\u001b[0m in \u001b[0;36mdrop\u001b[0;34m(self, labels, axis, index, columns, level, inplace, errors)\u001b[0m\n\u001b[1;32m   4148\u001b[0m         \u001b[0;32mfor\u001b[0m \u001b[0maxis\u001b[0m\u001b[0;34m,\u001b[0m \u001b[0mlabels\u001b[0m \u001b[0;32min\u001b[0m \u001b[0maxes\u001b[0m\u001b[0;34m.\u001b[0m\u001b[0mitems\u001b[0m\u001b[0;34m(\u001b[0m\u001b[0;34m)\u001b[0m\u001b[0;34m:\u001b[0m\u001b[0;34m\u001b[0m\u001b[0;34m\u001b[0m\u001b[0m\n\u001b[1;32m   4149\u001b[0m             \u001b[0;32mif\u001b[0m \u001b[0mlabels\u001b[0m \u001b[0;32mis\u001b[0m \u001b[0;32mnot\u001b[0m \u001b[0;32mNone\u001b[0m\u001b[0;34m:\u001b[0m\u001b[0;34m\u001b[0m\u001b[0;34m\u001b[0m\u001b[0m\n\u001b[0;32m-> 4150\u001b[0;31m                 \u001b[0mobj\u001b[0m \u001b[0;34m=\u001b[0m \u001b[0mobj\u001b[0m\u001b[0;34m.\u001b[0m\u001b[0m_drop_axis\u001b[0m\u001b[0;34m(\u001b[0m\u001b[0mlabels\u001b[0m\u001b[0;34m,\u001b[0m \u001b[0maxis\u001b[0m\u001b[0;34m,\u001b[0m \u001b[0mlevel\u001b[0m\u001b[0;34m=\u001b[0m\u001b[0mlevel\u001b[0m\u001b[0;34m,\u001b[0m \u001b[0merrors\u001b[0m\u001b[0;34m=\u001b[0m\u001b[0merrors\u001b[0m\u001b[0;34m)\u001b[0m\u001b[0;34m\u001b[0m\u001b[0;34m\u001b[0m\u001b[0m\n\u001b[0m\u001b[1;32m   4151\u001b[0m \u001b[0;34m\u001b[0m\u001b[0m\n\u001b[1;32m   4152\u001b[0m         \u001b[0;32mif\u001b[0m \u001b[0minplace\u001b[0m\u001b[0;34m:\u001b[0m\u001b[0;34m\u001b[0m\u001b[0;34m\u001b[0m\u001b[0m\n",
      "\u001b[0;32m~/opt/anaconda3/envs/smartfarm/lib/python3.7/site-packages/pandas/core/generic.py\u001b[0m in \u001b[0;36m_drop_axis\u001b[0;34m(self, labels, axis, level, errors)\u001b[0m\n\u001b[1;32m   4184\u001b[0m             \u001b[0;32melse\u001b[0m\u001b[0;34m:\u001b[0m\u001b[0;34m\u001b[0m\u001b[0;34m\u001b[0m\u001b[0m\n\u001b[1;32m   4185\u001b[0m                 \u001b[0mnew_axis\u001b[0m \u001b[0;34m=\u001b[0m \u001b[0maxis\u001b[0m\u001b[0;34m.\u001b[0m\u001b[0mdrop\u001b[0m\u001b[0;34m(\u001b[0m\u001b[0mlabels\u001b[0m\u001b[0;34m,\u001b[0m \u001b[0merrors\u001b[0m\u001b[0;34m=\u001b[0m\u001b[0merrors\u001b[0m\u001b[0;34m)\u001b[0m\u001b[0;34m\u001b[0m\u001b[0;34m\u001b[0m\u001b[0m\n\u001b[0;32m-> 4186\u001b[0;31m             \u001b[0mresult\u001b[0m \u001b[0;34m=\u001b[0m \u001b[0mself\u001b[0m\u001b[0;34m.\u001b[0m\u001b[0mreindex\u001b[0m\u001b[0;34m(\u001b[0m\u001b[0;34m**\u001b[0m\u001b[0;34m{\u001b[0m\u001b[0maxis_name\u001b[0m\u001b[0;34m:\u001b[0m \u001b[0mnew_axis\u001b[0m\u001b[0;34m}\u001b[0m\u001b[0;34m)\u001b[0m\u001b[0;34m\u001b[0m\u001b[0;34m\u001b[0m\u001b[0m\n\u001b[0m\u001b[1;32m   4187\u001b[0m \u001b[0;34m\u001b[0m\u001b[0m\n\u001b[1;32m   4188\u001b[0m         \u001b[0;31m# Case for non-unique axis\u001b[0m\u001b[0;34m\u001b[0m\u001b[0;34m\u001b[0m\u001b[0;34m\u001b[0m\u001b[0m\n",
      "\u001b[0;32m~/opt/anaconda3/envs/smartfarm/lib/python3.7/site-packages/pandas/util/_decorators.py\u001b[0m in \u001b[0;36mwrapper\u001b[0;34m(*args, **kwargs)\u001b[0m\n\u001b[1;32m    322\u001b[0m         \u001b[0;34m@\u001b[0m\u001b[0mwraps\u001b[0m\u001b[0;34m(\u001b[0m\u001b[0mfunc\u001b[0m\u001b[0;34m)\u001b[0m\u001b[0;34m\u001b[0m\u001b[0;34m\u001b[0m\u001b[0m\n\u001b[1;32m    323\u001b[0m         \u001b[0;32mdef\u001b[0m \u001b[0mwrapper\u001b[0m\u001b[0;34m(\u001b[0m\u001b[0;34m*\u001b[0m\u001b[0margs\u001b[0m\u001b[0;34m,\u001b[0m \u001b[0;34m**\u001b[0m\u001b[0mkwargs\u001b[0m\u001b[0;34m)\u001b[0m \u001b[0;34m->\u001b[0m \u001b[0mCallable\u001b[0m\u001b[0;34m[\u001b[0m\u001b[0;34m...\u001b[0m\u001b[0;34m,\u001b[0m \u001b[0mAny\u001b[0m\u001b[0;34m]\u001b[0m\u001b[0;34m:\u001b[0m\u001b[0;34m\u001b[0m\u001b[0;34m\u001b[0m\u001b[0m\n\u001b[0;32m--> 324\u001b[0;31m             \u001b[0;32mreturn\u001b[0m \u001b[0mfunc\u001b[0m\u001b[0;34m(\u001b[0m\u001b[0;34m*\u001b[0m\u001b[0margs\u001b[0m\u001b[0;34m,\u001b[0m \u001b[0;34m**\u001b[0m\u001b[0mkwargs\u001b[0m\u001b[0;34m)\u001b[0m\u001b[0;34m\u001b[0m\u001b[0;34m\u001b[0m\u001b[0m\n\u001b[0m\u001b[1;32m    325\u001b[0m \u001b[0;34m\u001b[0m\u001b[0m\n\u001b[1;32m    326\u001b[0m         \u001b[0mkind\u001b[0m \u001b[0;34m=\u001b[0m \u001b[0minspect\u001b[0m\u001b[0;34m.\u001b[0m\u001b[0mParameter\u001b[0m\u001b[0;34m.\u001b[0m\u001b[0mPOSITIONAL_OR_KEYWORD\u001b[0m\u001b[0;34m\u001b[0m\u001b[0;34m\u001b[0m\u001b[0m\n",
      "\u001b[0;32m~/opt/anaconda3/envs/smartfarm/lib/python3.7/site-packages/pandas/core/frame.py\u001b[0m in \u001b[0;36mreindex\u001b[0;34m(self, *args, **kwargs)\u001b[0m\n\u001b[1;32m   4770\u001b[0m         \u001b[0mkwargs\u001b[0m\u001b[0;34m.\u001b[0m\u001b[0mpop\u001b[0m\u001b[0;34m(\u001b[0m\u001b[0;34m\"axis\"\u001b[0m\u001b[0;34m,\u001b[0m \u001b[0;32mNone\u001b[0m\u001b[0;34m)\u001b[0m\u001b[0;34m\u001b[0m\u001b[0;34m\u001b[0m\u001b[0m\n\u001b[1;32m   4771\u001b[0m         \u001b[0mkwargs\u001b[0m\u001b[0;34m.\u001b[0m\u001b[0mpop\u001b[0m\u001b[0;34m(\u001b[0m\u001b[0;34m\"labels\"\u001b[0m\u001b[0;34m,\u001b[0m \u001b[0;32mNone\u001b[0m\u001b[0;34m)\u001b[0m\u001b[0;34m\u001b[0m\u001b[0;34m\u001b[0m\u001b[0m\n\u001b[0;32m-> 4772\u001b[0;31m         \u001b[0;32mreturn\u001b[0m \u001b[0msuper\u001b[0m\u001b[0;34m(\u001b[0m\u001b[0;34m)\u001b[0m\u001b[0;34m.\u001b[0m\u001b[0mreindex\u001b[0m\u001b[0;34m(\u001b[0m\u001b[0;34m**\u001b[0m\u001b[0mkwargs\u001b[0m\u001b[0;34m)\u001b[0m\u001b[0;34m\u001b[0m\u001b[0;34m\u001b[0m\u001b[0m\n\u001b[0m\u001b[1;32m   4773\u001b[0m \u001b[0;34m\u001b[0m\u001b[0m\n\u001b[1;32m   4774\u001b[0m     \u001b[0;34m@\u001b[0m\u001b[0mdeprecate_nonkeyword_arguments\u001b[0m\u001b[0;34m(\u001b[0m\u001b[0mversion\u001b[0m\u001b[0;34m=\u001b[0m\u001b[0;32mNone\u001b[0m\u001b[0;34m,\u001b[0m \u001b[0mallowed_args\u001b[0m\u001b[0;34m=\u001b[0m\u001b[0;34m[\u001b[0m\u001b[0;34m\"self\"\u001b[0m\u001b[0;34m,\u001b[0m \u001b[0;34m\"labels\"\u001b[0m\u001b[0;34m]\u001b[0m\u001b[0;34m)\u001b[0m\u001b[0;34m\u001b[0m\u001b[0;34m\u001b[0m\u001b[0m\n",
      "\u001b[0;32m~/opt/anaconda3/envs/smartfarm/lib/python3.7/site-packages/pandas/core/generic.py\u001b[0m in \u001b[0;36mreindex\u001b[0;34m(self, *args, **kwargs)\u001b[0m\n\u001b[1;32m   4817\u001b[0m         \u001b[0;31m# perform the reindex on the axes\u001b[0m\u001b[0;34m\u001b[0m\u001b[0;34m\u001b[0m\u001b[0;34m\u001b[0m\u001b[0m\n\u001b[1;32m   4818\u001b[0m         return self._reindex_axes(\n\u001b[0;32m-> 4819\u001b[0;31m             \u001b[0maxes\u001b[0m\u001b[0;34m,\u001b[0m \u001b[0mlevel\u001b[0m\u001b[0;34m,\u001b[0m \u001b[0mlimit\u001b[0m\u001b[0;34m,\u001b[0m \u001b[0mtolerance\u001b[0m\u001b[0;34m,\u001b[0m \u001b[0mmethod\u001b[0m\u001b[0;34m,\u001b[0m \u001b[0mfill_value\u001b[0m\u001b[0;34m,\u001b[0m \u001b[0mcopy\u001b[0m\u001b[0;34m\u001b[0m\u001b[0;34m\u001b[0m\u001b[0m\n\u001b[0m\u001b[1;32m   4820\u001b[0m         ).__finalize__(self, method=\"reindex\")\n\u001b[1;32m   4821\u001b[0m \u001b[0;34m\u001b[0m\u001b[0m\n",
      "\u001b[0;32m~/opt/anaconda3/envs/smartfarm/lib/python3.7/site-packages/pandas/core/frame.py\u001b[0m in \u001b[0;36m_reindex_axes\u001b[0;34m(self, axes, level, limit, tolerance, method, fill_value, copy)\u001b[0m\n\u001b[1;32m   4596\u001b[0m         \u001b[0;32mif\u001b[0m \u001b[0mindex\u001b[0m \u001b[0;32mis\u001b[0m \u001b[0;32mnot\u001b[0m \u001b[0;32mNone\u001b[0m\u001b[0;34m:\u001b[0m\u001b[0;34m\u001b[0m\u001b[0;34m\u001b[0m\u001b[0m\n\u001b[1;32m   4597\u001b[0m             frame = frame._reindex_index(\n\u001b[0;32m-> 4598\u001b[0;31m                 \u001b[0mindex\u001b[0m\u001b[0;34m,\u001b[0m \u001b[0mmethod\u001b[0m\u001b[0;34m,\u001b[0m \u001b[0mcopy\u001b[0m\u001b[0;34m,\u001b[0m \u001b[0mlevel\u001b[0m\u001b[0;34m,\u001b[0m \u001b[0mfill_value\u001b[0m\u001b[0;34m,\u001b[0m \u001b[0mlimit\u001b[0m\u001b[0;34m,\u001b[0m \u001b[0mtolerance\u001b[0m\u001b[0;34m\u001b[0m\u001b[0;34m\u001b[0m\u001b[0m\n\u001b[0m\u001b[1;32m   4599\u001b[0m             )\n\u001b[1;32m   4600\u001b[0m \u001b[0;34m\u001b[0m\u001b[0m\n",
      "\u001b[0;32m~/opt/anaconda3/envs/smartfarm/lib/python3.7/site-packages/pandas/core/frame.py\u001b[0m in \u001b[0;36m_reindex_index\u001b[0;34m(self, new_index, method, copy, level, fill_value, limit, tolerance)\u001b[0m\n\u001b[1;32m   4618\u001b[0m             \u001b[0mcopy\u001b[0m\u001b[0;34m=\u001b[0m\u001b[0mcopy\u001b[0m\u001b[0;34m,\u001b[0m\u001b[0;34m\u001b[0m\u001b[0;34m\u001b[0m\u001b[0m\n\u001b[1;32m   4619\u001b[0m             \u001b[0mfill_value\u001b[0m\u001b[0;34m=\u001b[0m\u001b[0mfill_value\u001b[0m\u001b[0;34m,\u001b[0m\u001b[0;34m\u001b[0m\u001b[0;34m\u001b[0m\u001b[0m\n\u001b[0;32m-> 4620\u001b[0;31m             \u001b[0mallow_dups\u001b[0m\u001b[0;34m=\u001b[0m\u001b[0;32mFalse\u001b[0m\u001b[0;34m,\u001b[0m\u001b[0;34m\u001b[0m\u001b[0;34m\u001b[0m\u001b[0m\n\u001b[0m\u001b[1;32m   4621\u001b[0m         )\n\u001b[1;32m   4622\u001b[0m \u001b[0;34m\u001b[0m\u001b[0m\n",
      "\u001b[0;32m~/opt/anaconda3/envs/smartfarm/lib/python3.7/site-packages/pandas/core/generic.py\u001b[0m in \u001b[0;36m_reindex_with_indexers\u001b[0;34m(self, reindexers, fill_value, copy, allow_dups)\u001b[0m\n\u001b[1;32m   4887\u001b[0m                 \u001b[0mfill_value\u001b[0m\u001b[0;34m=\u001b[0m\u001b[0mfill_value\u001b[0m\u001b[0;34m,\u001b[0m\u001b[0;34m\u001b[0m\u001b[0;34m\u001b[0m\u001b[0m\n\u001b[1;32m   4888\u001b[0m                 \u001b[0mallow_dups\u001b[0m\u001b[0;34m=\u001b[0m\u001b[0mallow_dups\u001b[0m\u001b[0;34m,\u001b[0m\u001b[0;34m\u001b[0m\u001b[0;34m\u001b[0m\u001b[0m\n\u001b[0;32m-> 4889\u001b[0;31m                 \u001b[0mcopy\u001b[0m\u001b[0;34m=\u001b[0m\u001b[0mcopy\u001b[0m\u001b[0;34m,\u001b[0m\u001b[0;34m\u001b[0m\u001b[0;34m\u001b[0m\u001b[0m\n\u001b[0m\u001b[1;32m   4890\u001b[0m             )\n\u001b[1;32m   4891\u001b[0m             \u001b[0;31m# If we've made a copy once, no need to make another one\u001b[0m\u001b[0;34m\u001b[0m\u001b[0;34m\u001b[0m\u001b[0;34m\u001b[0m\u001b[0m\n",
      "\u001b[0;32m~/opt/anaconda3/envs/smartfarm/lib/python3.7/site-packages/pandas/core/internals/managers.py\u001b[0m in \u001b[0;36mreindex_indexer\u001b[0;34m(self, new_axis, indexer, axis, fill_value, allow_dups, copy, consolidate, only_slice)\u001b[0m\n\u001b[1;32m    686\u001b[0m                     ),\n\u001b[1;32m    687\u001b[0m                 )\n\u001b[0;32m--> 688\u001b[0;31m                 \u001b[0;32mfor\u001b[0m \u001b[0mblk\u001b[0m \u001b[0;32min\u001b[0m \u001b[0mself\u001b[0m\u001b[0;34m.\u001b[0m\u001b[0mblocks\u001b[0m\u001b[0;34m\u001b[0m\u001b[0;34m\u001b[0m\u001b[0m\n\u001b[0m\u001b[1;32m    689\u001b[0m             ]\n\u001b[1;32m    690\u001b[0m \u001b[0;34m\u001b[0m\u001b[0m\n",
      "\u001b[0;32m~/opt/anaconda3/envs/smartfarm/lib/python3.7/site-packages/pandas/core/internals/managers.py\u001b[0m in \u001b[0;36m<listcomp>\u001b[0;34m(.0)\u001b[0m\n\u001b[1;32m    686\u001b[0m                     ),\n\u001b[1;32m    687\u001b[0m                 )\n\u001b[0;32m--> 688\u001b[0;31m                 \u001b[0;32mfor\u001b[0m \u001b[0mblk\u001b[0m \u001b[0;32min\u001b[0m \u001b[0mself\u001b[0m\u001b[0;34m.\u001b[0m\u001b[0mblocks\u001b[0m\u001b[0;34m\u001b[0m\u001b[0;34m\u001b[0m\u001b[0m\n\u001b[0m\u001b[1;32m    689\u001b[0m             ]\n\u001b[1;32m    690\u001b[0m \u001b[0;34m\u001b[0m\u001b[0m\n",
      "\u001b[0;32m~/opt/anaconda3/envs/smartfarm/lib/python3.7/site-packages/pandas/core/internals/blocks.py\u001b[0m in \u001b[0;36mtake_nd\u001b[0;34m(self, indexer, axis, new_mgr_locs, fill_value)\u001b[0m\n\u001b[1;32m   1143\u001b[0m \u001b[0;34m\u001b[0m\u001b[0m\n\u001b[1;32m   1144\u001b[0m         new_values = algos.take_nd(\n\u001b[0;32m-> 1145\u001b[0;31m             \u001b[0mvalues\u001b[0m\u001b[0;34m,\u001b[0m \u001b[0mindexer\u001b[0m\u001b[0;34m,\u001b[0m \u001b[0maxis\u001b[0m\u001b[0;34m=\u001b[0m\u001b[0maxis\u001b[0m\u001b[0;34m,\u001b[0m \u001b[0mallow_fill\u001b[0m\u001b[0;34m=\u001b[0m\u001b[0mallow_fill\u001b[0m\u001b[0;34m,\u001b[0m \u001b[0mfill_value\u001b[0m\u001b[0;34m=\u001b[0m\u001b[0mfill_value\u001b[0m\u001b[0;34m\u001b[0m\u001b[0;34m\u001b[0m\u001b[0m\n\u001b[0m\u001b[1;32m   1146\u001b[0m         )\n\u001b[1;32m   1147\u001b[0m \u001b[0;34m\u001b[0m\u001b[0m\n",
      "\u001b[0;32m~/opt/anaconda3/envs/smartfarm/lib/python3.7/site-packages/pandas/core/array_algos/take.py\u001b[0m in \u001b[0;36mtake_nd\u001b[0;34m(arr, indexer, axis, fill_value, allow_fill)\u001b[0m\n\u001b[1;32m    106\u001b[0m \u001b[0;34m\u001b[0m\u001b[0m\n\u001b[1;32m    107\u001b[0m     \u001b[0marr\u001b[0m \u001b[0;34m=\u001b[0m \u001b[0mnp\u001b[0m\u001b[0;34m.\u001b[0m\u001b[0masarray\u001b[0m\u001b[0;34m(\u001b[0m\u001b[0marr\u001b[0m\u001b[0;34m)\u001b[0m\u001b[0;34m\u001b[0m\u001b[0;34m\u001b[0m\u001b[0m\n\u001b[0;32m--> 108\u001b[0;31m     \u001b[0;32mreturn\u001b[0m \u001b[0m_take_nd_ndarray\u001b[0m\u001b[0;34m(\u001b[0m\u001b[0marr\u001b[0m\u001b[0;34m,\u001b[0m \u001b[0mindexer\u001b[0m\u001b[0;34m,\u001b[0m \u001b[0maxis\u001b[0m\u001b[0;34m,\u001b[0m \u001b[0mfill_value\u001b[0m\u001b[0;34m,\u001b[0m \u001b[0mallow_fill\u001b[0m\u001b[0;34m)\u001b[0m\u001b[0;34m\u001b[0m\u001b[0;34m\u001b[0m\u001b[0m\n\u001b[0m\u001b[1;32m    109\u001b[0m \u001b[0;34m\u001b[0m\u001b[0m\n\u001b[1;32m    110\u001b[0m \u001b[0;34m\u001b[0m\u001b[0m\n",
      "\u001b[0;32m~/opt/anaconda3/envs/smartfarm/lib/python3.7/site-packages/pandas/core/array_algos/take.py\u001b[0m in \u001b[0;36m_take_nd_ndarray\u001b[0;34m(arr, indexer, axis, fill_value, allow_fill)\u001b[0m\n\u001b[1;32m    147\u001b[0m         \u001b[0mout\u001b[0m \u001b[0;34m=\u001b[0m \u001b[0mnp\u001b[0m\u001b[0;34m.\u001b[0m\u001b[0mempty\u001b[0m\u001b[0;34m(\u001b[0m\u001b[0mout_shape\u001b[0m\u001b[0;34m,\u001b[0m \u001b[0mdtype\u001b[0m\u001b[0;34m=\u001b[0m\u001b[0mdtype\u001b[0m\u001b[0;34m,\u001b[0m \u001b[0morder\u001b[0m\u001b[0;34m=\u001b[0m\u001b[0;34m\"F\"\u001b[0m\u001b[0;34m)\u001b[0m\u001b[0;34m\u001b[0m\u001b[0;34m\u001b[0m\u001b[0m\n\u001b[1;32m    148\u001b[0m     \u001b[0;32melse\u001b[0m\u001b[0;34m:\u001b[0m\u001b[0;34m\u001b[0m\u001b[0;34m\u001b[0m\u001b[0m\n\u001b[0;32m--> 149\u001b[0;31m         \u001b[0mout\u001b[0m \u001b[0;34m=\u001b[0m \u001b[0mnp\u001b[0m\u001b[0;34m.\u001b[0m\u001b[0mempty\u001b[0m\u001b[0;34m(\u001b[0m\u001b[0mout_shape\u001b[0m\u001b[0;34m,\u001b[0m \u001b[0mdtype\u001b[0m\u001b[0;34m=\u001b[0m\u001b[0mdtype\u001b[0m\u001b[0;34m)\u001b[0m\u001b[0;34m\u001b[0m\u001b[0;34m\u001b[0m\u001b[0m\n\u001b[0m\u001b[1;32m    150\u001b[0m \u001b[0;34m\u001b[0m\u001b[0m\n\u001b[1;32m    151\u001b[0m     func = _get_take_nd_function(\n",
      "\u001b[0;31mKeyboardInterrupt\u001b[0m: "
     ]
    }
   ],
   "source": [
    "from tqdm import tqdm\n",
    "\n",
    "user_df=user_spec.copy()\n",
    "log_df=log_data.copy()\n",
    "\n",
    "# 각 13시간 정도...\n",
    "\n",
    "for i in tqdm(range(len(user_spec))):\n",
    "    if user_spec['유저_번호'].iloc[i] not in count:\n",
    "        user_df.drop([i])\n",
    "\n"
   ]
  },
  {
   "cell_type": "code",
   "execution_count": 130,
   "metadata": {},
   "outputs": [
    {
     "data": {
      "text/plain": [
       "(1394216, 1394216)"
      ]
     },
     "execution_count": 130,
     "metadata": {},
     "output_type": "execute_result"
    }
   ],
   "source": [
    "len(user_df), len(user_spec)"
   ]
  },
  {
   "cell_type": "code",
   "execution_count": 129,
   "metadata": {},
   "outputs": [],
   "source": [
    "user_df.to_csv(\"./user_df.csv\", index=False)"
   ]
  },
  {
   "cell_type": "code",
   "execution_count": 145,
   "metadata": {},
   "outputs": [
    {
     "data": {
      "text/html": [
       "<div>\n",
       "<style scoped>\n",
       "    .dataframe tbody tr th:only-of-type {\n",
       "        vertical-align: middle;\n",
       "    }\n",
       "\n",
       "    .dataframe tbody tr th {\n",
       "        vertical-align: top;\n",
       "    }\n",
       "\n",
       "    .dataframe thead th {\n",
       "        text-align: right;\n",
       "    }\n",
       "</style>\n",
       "<table border=\"1\" class=\"dataframe\">\n",
       "  <thead>\n",
       "    <tr style=\"text-align: right;\">\n",
       "      <th></th>\n",
       "      <th>유저_번호</th>\n",
       "      <th>행동명</th>\n",
       "      <th>행동일시</th>\n",
       "      <th>운영체제</th>\n",
       "      <th>앱_버전</th>\n",
       "      <th>일_코드</th>\n",
       "    </tr>\n",
       "  </thead>\n",
       "  <tbody>\n",
       "    <tr>\n",
       "      <th>0</th>\n",
       "      <td>125129</td>\n",
       "      <td>UseLoanManage</td>\n",
       "      <td>2022-03-01 00:00:00</td>\n",
       "      <td>Android</td>\n",
       "      <td>3.8.0</td>\n",
       "      <td>2022-03-01</td>\n",
       "    </tr>\n",
       "    <tr>\n",
       "      <th>1</th>\n",
       "      <td>125129</td>\n",
       "      <td>OpenApp</td>\n",
       "      <td>2022-03-02 01:53:05</td>\n",
       "      <td>Android</td>\n",
       "      <td>3.8.0</td>\n",
       "      <td>2022-03-02</td>\n",
       "    </tr>\n",
       "    <tr>\n",
       "      <th>2</th>\n",
       "      <td>125129</td>\n",
       "      <td>Login</td>\n",
       "      <td>2022-03-02 01:53:12</td>\n",
       "      <td>Android</td>\n",
       "      <td>3.8.0</td>\n",
       "      <td>2022-03-02</td>\n",
       "    </tr>\n",
       "    <tr>\n",
       "      <th>3</th>\n",
       "      <td>125129</td>\n",
       "      <td>StartLoanApply</td>\n",
       "      <td>2022-03-02 01:53:18</td>\n",
       "      <td>Android</td>\n",
       "      <td>3.8.0</td>\n",
       "      <td>2022-03-02</td>\n",
       "    </tr>\n",
       "    <tr>\n",
       "      <th>4</th>\n",
       "      <td>125129</td>\n",
       "      <td>ViewLoanApplyIntro</td>\n",
       "      <td>2022-03-02 01:53:19</td>\n",
       "      <td>Android</td>\n",
       "      <td>3.8.0</td>\n",
       "      <td>2022-03-02</td>\n",
       "    </tr>\n",
       "  </tbody>\n",
       "</table>\n",
       "</div>"
      ],
      "text/plain": [
       "    유저_번호                 행동명                행동일시     운영체제   앱_버전       일_코드\n",
       "0  125129       UseLoanManage 2022-03-01 00:00:00  Android  3.8.0 2022-03-01\n",
       "1  125129             OpenApp 2022-03-02 01:53:05  Android  3.8.0 2022-03-02\n",
       "2  125129               Login 2022-03-02 01:53:12  Android  3.8.0 2022-03-02\n",
       "3  125129      StartLoanApply 2022-03-02 01:53:18  Android  3.8.0 2022-03-02\n",
       "4  125129  ViewLoanApplyIntro 2022-03-02 01:53:19  Android  3.8.0 2022-03-02"
      ]
     },
     "execution_count": 145,
     "metadata": {},
     "output_type": "execute_result"
    }
   ],
   "source": [
    "uid=pd.DataFrame(count, columns=['유저_번호']).copy()\n",
    "user_df2=pd.merge(left=log_data, right=uid, how=\"inner\", on=\"유저_번호\")\n",
    "user_df2.head()"
   ]
  },
  {
   "cell_type": "code",
   "execution_count": 146,
   "metadata": {},
   "outputs": [
    {
     "data": {
      "text/plain": [
       "(16131586, 17843993, 584636)"
      ]
     },
     "execution_count": 146,
     "metadata": {},
     "output_type": "execute_result"
    }
   ],
   "source": [
    "len(user_df2), len(log_data), len(set(log_data['유저_번호']))"
   ]
  },
  {
   "cell_type": "code",
   "execution_count": 147,
   "metadata": {},
   "outputs": [],
   "source": [
    "user_df2.to_csv(\"./user_df2.csv\", index=False)"
   ]
  },
  {
   "cell_type": "code",
   "execution_count": null,
   "metadata": {},
   "outputs": [],
   "source": [
    "for i in tqdm(range(len(log_data))):\n",
    "    if log_data['유저_번호'].iloc[i] not in count:\n",
    "        log_df.drop([i])"
   ]
  },
  {
   "cell_type": "code",
   "execution_count": null,
   "metadata": {},
   "outputs": [],
   "source": [
    "len(user_df), len(log_df), len(user_spec), len(log_data)"
   ]
  },
  {
   "cell_type": "markdown",
   "metadata": {},
   "source": [
    "# 추가변수"
   ]
  },
  {
   "cell_type": "markdown",
   "metadata": {},
   "source": [
    "## (1) user_spec에 추가\n",
    "- log_data -> user_spec"
   ]
  },
  {
   "cell_type": "markdown",
   "metadata": {},
   "source": [
    "### 1. 사용자 관련\n",
    "1) 신규 사용자\n",
    "2) 재방문 사용자 - 재방문까지의 시간 차\n",
    "- 재방문 회수가 여러번이면 평균값\n",
    "5) 사용자별 방문 수 = 세션 수\n",
    "7) 사용자가 방문한 시간대 접속자 수\n",
    "\n",
    "### 2. 화면 - 유저 기준\n",
    "1) 방문 당 스크린 뷰(스크린뷰/세션)\n",
    "2) 방문 당 유니크 뷰(유니크뷰/세션)\n",
    "\n",
    "### 3. 경로 - 유저 기준\n",
    "1) 개별 경로\n",
    "2) 이동수\n",
    "3) 평균 이동수\n",
    "4) 동일 경로 반복 이동\n",
    "\n",
    "### 4. 액션 - 유저 기준\n",
    "1) 방문 당 액션 = 액션수/세션수\n",
    "2) 무반응 액션율\n",
    "\n",
    "### 5. 그 외\n",
    ".."
   ]
  },
  {
   "cell_type": "markdown",
   "metadata": {},
   "source": [
    "#### 신청서_번호 당\n",
    "- \n",
    "\n",
    "#### 유저_번호 당\n",
    "- "
   ]
  },
  {
   "cell_type": "markdown",
   "metadata": {},
   "source": [
    "#### 신경써야할 부분\n",
    "- 신청서를 특정 기간을 두고 여러번 낸 유저의 경우, 처음 낸 신청서 때랑 나중에 낸 신청서 때를 구분하는 게 맞나?!\n",
    "- 근데 로그 데이터에는 신청서 번호가 없음"
   ]
  },
  {
   "cell_type": "markdown",
   "metadata": {},
   "source": [
    "---"
   ]
  },
  {
   "cell_type": "markdown",
   "metadata": {},
   "source": [
    "#### 행동별 회수\n",
    "- 전체 event"
   ]
  },
  {
   "cell_type": "code",
   "execution_count": 94,
   "metadata": {},
   "outputs": [],
   "source": [
    "\n",
    "open_app=log_data[log_data['행동명']==\"OpenApp\"]\n",
    "open_app=open_app.groupby(['유저_번호'], as_index=False).count()[['유저_번호','행동명']]\n",
    "open_app.rename(columns={'행동명':'앱실행'}, inplace=True)\n",
    "\n",
    "open_app2=log_data[log_data['행동명']==\"SignUp\"]\n",
    "open_app2=open_app2.groupby(['유저_번호'], as_index=False).count()[['유저_번호','행동명']]\n",
    "open_app2.rename(columns={'행동명':'회원가입'}, inplace=True)\n",
    "\n",
    "open_app3=log_data[log_data['행동명']==\"Login\"]\n",
    "open_app3=open_app3.groupby(['유저_번호'], as_index=False).count()[['유저_번호','행동명']]\n",
    "open_app3.rename(columns={'행동명':'로그인'}, inplace=True)\n",
    "\n",
    "start_loan=log_data[log_data['행동명']==\"ViewLoanApplyIntro\"]\n",
    "start_loan=start_loan.groupby(['유저_번호'], as_index=False).count()[['유저_번호','행동명']]\n",
    "start_loan.rename(columns={'행동명':'인트로_조회'}, inplace=True)\n",
    "\n",
    "use_loan_manage=log_data[log_data['행동명']==\"StartLoanApply\"]\n",
    "use_loan_manage=use_loan_manage.groupby(['유저_번호'], as_index=False).count()[['유저_번호','행동명']]\n",
    "use_loan_manage.rename(columns={'행동명':'한도조회_시작'}, inplace=True)\n",
    "\n",
    "use_loan_manage2=log_data[log_data['행동명']==\"CompleteIDCertification\"]\n",
    "use_loan_manage2=use_loan_manage2.groupby(['유저_번호'], as_index=False).count()[['유저_번호','행동명']]\n",
    "use_loan_manage2.rename(columns={'행동명':'본인인증완료'}, inplace=True)\n",
    "\n",
    "use_loan_manage3=log_data[log_data['행동명']==\"EndLoanApply\"]\n",
    "use_loan_manage3=use_loan_manage3.groupby(['유저_번호'], as_index=False).count()[['유저_번호','행동명']]\n",
    "use_loan_manage3.rename(columns={'행동명':'대출관리_회수'}, inplace=True)\n",
    "\n",
    "use_loan_manage4=log_data[log_data['행동명']==\"UseLoanManage\"]\n",
    "use_loan_manage4=use_loan_manage4.groupby(['유저_번호'], as_index=False).count()[['유저_번호','행동명']]\n",
    "use_loan_manage4.rename(columns={'행동명':'대출관리_회수'}, inplace=True)\n",
    "\n",
    "use_prepay_calc=log_data[log_data['행동명']==\"UsePrepayCalc\"]\n",
    "use_prepay_calc=use_prepay_calc.groupby(['유저_번호'], as_index=False).count()[['유저_번호','행동명']]\n",
    "use_prepay_calc.rename(columns={'행동명':'여윳돈_회수'}, inplace=True)\n",
    "\n",
    "use_dsr_calc=log_data[log_data['행동명']==\"UseDSRCalc\"]\n",
    "use_dsr_calc=use_dsr_calc.groupby(['유저_번호'], as_index=False).count()[['유저_번호','행동명']]\n",
    "use_dsr_calc.rename(columns={'행동명':'DSR_회수'}, inplace=True)\n",
    "\n",
    "get_credit=log_data[log_data['행동명']==\"GetCreditInfo\"]\n",
    "get_credit=get_credit.groupby(['유저_번호'], as_index=False).count()[['유저_번호','행동명']]\n",
    "get_credit.rename(columns={'행동명':'KCB_회수'}, inplace=True)\n",
    "\n"
   ]
  },
  {
   "cell_type": "code",
   "execution_count": 99,
   "metadata": {},
   "outputs": [
    {
     "data": {
      "text/html": [
       "<div>\n",
       "<style scoped>\n",
       "    .dataframe tbody tr th:only-of-type {\n",
       "        vertical-align: middle;\n",
       "    }\n",
       "\n",
       "    .dataframe tbody tr th {\n",
       "        vertical-align: top;\n",
       "    }\n",
       "\n",
       "    .dataframe thead th {\n",
       "        text-align: right;\n",
       "    }\n",
       "</style>\n",
       "<table border=\"1\" class=\"dataframe\">\n",
       "  <thead>\n",
       "    <tr style=\"text-align: right;\">\n",
       "      <th></th>\n",
       "      <th>신청서_번호</th>\n",
       "      <th>유저_번호</th>\n",
       "      <th>유저_생년월일</th>\n",
       "      <th>유저_성별</th>\n",
       "      <th>생성일시</th>\n",
       "      <th>한도조회_당시_유저_신용점수</th>\n",
       "      <th>연소득</th>\n",
       "      <th>근로형태</th>\n",
       "      <th>입사연월</th>\n",
       "      <th>고용형태</th>\n",
       "      <th>...</th>\n",
       "      <th>인트로_조회</th>\n",
       "      <th>한도조회_시작</th>\n",
       "      <th>여윳돈_회수</th>\n",
       "      <th>DSR_회수</th>\n",
       "      <th>회원가입</th>\n",
       "      <th>로그인</th>\n",
       "      <th>본인인증완료</th>\n",
       "      <th>한도조회_결과</th>\n",
       "      <th>대출관리_회수</th>\n",
       "      <th>KCB_회수</th>\n",
       "    </tr>\n",
       "  </thead>\n",
       "  <tbody>\n",
       "    <tr>\n",
       "      <th>0</th>\n",
       "      <td>1249046</td>\n",
       "      <td>118218</td>\n",
       "      <td>1985.0</td>\n",
       "      <td>1.0</td>\n",
       "      <td>2022-06-07 06:28:18</td>\n",
       "      <td>660.0</td>\n",
       "      <td>108000000.0</td>\n",
       "      <td>PRIVATEBUSINESS</td>\n",
       "      <td>20151101.0</td>\n",
       "      <td>기타</td>\n",
       "      <td>...</td>\n",
       "      <td>NaN</td>\n",
       "      <td>NaN</td>\n",
       "      <td>NaN</td>\n",
       "      <td>NaN</td>\n",
       "      <td>NaN</td>\n",
       "      <td>NaN</td>\n",
       "      <td>NaN</td>\n",
       "      <td>NaN</td>\n",
       "      <td>NaN</td>\n",
       "      <td>4.0</td>\n",
       "    </tr>\n",
       "    <tr>\n",
       "      <th>1</th>\n",
       "      <td>954900</td>\n",
       "      <td>553686</td>\n",
       "      <td>1968.0</td>\n",
       "      <td>1.0</td>\n",
       "      <td>2022-06-07 14:29:03</td>\n",
       "      <td>870.0</td>\n",
       "      <td>30000000.0</td>\n",
       "      <td>PRIVATEBUSINESS</td>\n",
       "      <td>20070201.0</td>\n",
       "      <td>정규직</td>\n",
       "      <td>...</td>\n",
       "      <td>3.0</td>\n",
       "      <td>3.0</td>\n",
       "      <td>NaN</td>\n",
       "      <td>NaN</td>\n",
       "      <td>NaN</td>\n",
       "      <td>5.0</td>\n",
       "      <td>3.0</td>\n",
       "      <td>3.0</td>\n",
       "      <td>2.0</td>\n",
       "      <td>7.0</td>\n",
       "    </tr>\n",
       "    <tr>\n",
       "      <th>2</th>\n",
       "      <td>137274</td>\n",
       "      <td>59516</td>\n",
       "      <td>1997.0</td>\n",
       "      <td>1.0</td>\n",
       "      <td>2022-06-07 21:40:22</td>\n",
       "      <td>710.0</td>\n",
       "      <td>30000000.0</td>\n",
       "      <td>FREELANCER</td>\n",
       "      <td>20210901.0</td>\n",
       "      <td>기타</td>\n",
       "      <td>...</td>\n",
       "      <td>2.0</td>\n",
       "      <td>3.0</td>\n",
       "      <td>NaN</td>\n",
       "      <td>NaN</td>\n",
       "      <td>NaN</td>\n",
       "      <td>3.0</td>\n",
       "      <td>2.0</td>\n",
       "      <td>5.0</td>\n",
       "      <td>3.0</td>\n",
       "      <td>3.0</td>\n",
       "    </tr>\n",
       "    <tr>\n",
       "      <th>3</th>\n",
       "      <td>1570936</td>\n",
       "      <td>167320</td>\n",
       "      <td>1989.0</td>\n",
       "      <td>1.0</td>\n",
       "      <td>2022-06-07 09:40:27</td>\n",
       "      <td>820.0</td>\n",
       "      <td>62000000.0</td>\n",
       "      <td>EARNEDINCOME</td>\n",
       "      <td>20170101.0</td>\n",
       "      <td>정규직</td>\n",
       "      <td>...</td>\n",
       "      <td>8.0</td>\n",
       "      <td>7.0</td>\n",
       "      <td>NaN</td>\n",
       "      <td>NaN</td>\n",
       "      <td>NaN</td>\n",
       "      <td>8.0</td>\n",
       "      <td>6.0</td>\n",
       "      <td>8.0</td>\n",
       "      <td>3.0</td>\n",
       "      <td>5.0</td>\n",
       "    </tr>\n",
       "    <tr>\n",
       "      <th>4</th>\n",
       "      <td>967833</td>\n",
       "      <td>33400</td>\n",
       "      <td>2000.0</td>\n",
       "      <td>1.0</td>\n",
       "      <td>2022-06-07 08:55:07</td>\n",
       "      <td>630.0</td>\n",
       "      <td>36000000.0</td>\n",
       "      <td>EARNEDINCOME</td>\n",
       "      <td>20210901.0</td>\n",
       "      <td>정규직</td>\n",
       "      <td>...</td>\n",
       "      <td>14.0</td>\n",
       "      <td>11.0</td>\n",
       "      <td>NaN</td>\n",
       "      <td>NaN</td>\n",
       "      <td>NaN</td>\n",
       "      <td>NaN</td>\n",
       "      <td>10.0</td>\n",
       "      <td>13.0</td>\n",
       "      <td>18.0</td>\n",
       "      <td>12.0</td>\n",
       "    </tr>\n",
       "  </tbody>\n",
       "</table>\n",
       "<p>5 rows × 28 columns</p>\n",
       "</div>"
      ],
      "text/plain": [
       "    신청서_번호   유저_번호  유저_생년월일  유저_성별                생성일시  한도조회_당시_유저_신용점수  \\\n",
       "0  1249046  118218   1985.0    1.0 2022-06-07 06:28:18            660.0   \n",
       "1   954900  553686   1968.0    1.0 2022-06-07 14:29:03            870.0   \n",
       "2   137274   59516   1997.0    1.0 2022-06-07 21:40:22            710.0   \n",
       "3  1570936  167320   1989.0    1.0 2022-06-07 09:40:27            820.0   \n",
       "4   967833   33400   2000.0    1.0 2022-06-07 08:55:07            630.0   \n",
       "\n",
       "           연소득             근로형태        입사연월 고용형태  ... 인트로_조회  한도조회_시작 여윳돈_회수  \\\n",
       "0  108000000.0  PRIVATEBUSINESS  20151101.0   기타  ...    NaN      NaN    NaN   \n",
       "1   30000000.0  PRIVATEBUSINESS  20070201.0  정규직  ...    3.0      3.0    NaN   \n",
       "2   30000000.0       FREELANCER  20210901.0   기타  ...    2.0      3.0    NaN   \n",
       "3   62000000.0     EARNEDINCOME  20170101.0  정규직  ...    8.0      7.0    NaN   \n",
       "4   36000000.0     EARNEDINCOME  20210901.0  정규직  ...   14.0     11.0    NaN   \n",
       "\n",
       "   DSR_회수  회원가입  로그인  본인인증완료  한도조회_결과  대출관리_회수  KCB_회수  \n",
       "0     NaN   NaN  NaN     NaN      NaN      NaN     4.0  \n",
       "1     NaN   NaN  5.0     3.0      3.0      2.0     7.0  \n",
       "2     NaN   NaN  3.0     2.0      5.0      3.0     3.0  \n",
       "3     NaN   NaN  8.0     6.0      8.0      3.0     5.0  \n",
       "4     NaN   NaN  NaN    10.0     13.0     18.0    12.0  \n",
       "\n",
       "[5 rows x 28 columns]"
      ]
     },
     "execution_count": 99,
     "metadata": {},
     "output_type": "execute_result"
    }
   ],
   "source": [
    "# 없으면 NaN\n",
    "user_spec_1=pd.merge(left=user_spec, right=open_app, how=\"left\", on=\"유저_번호\")\n",
    "user_spec_2=pd.merge(left=user_spec_1, right=start_loan, how=\"left\", on=\"유저_번호\")\n",
    "user_spec_3=pd.merge(left=user_spec_2, right=use_loan_manage, how=\"left\", on=\"유저_번호\")\n",
    "user_spec_4=pd.merge(left=user_spec_3, right=use_prepay_calc, how=\"left\", on=\"유저_번호\")\n",
    "user_spec_5=pd.merge(left=user_spec_4, right=use_dsr_calc, how=\"left\", on=\"유저_번호\")\n",
    "user_spec_6=pd.merge(left=user_spec_5, right=open_app2, how=\"left\", on=\"유저_번호\")\n",
    "user_spec_7=pd.merge(left=user_spec_6, right=open_app3, how=\"left\", on=\"유저_번호\")\n",
    "user_spec_8=pd.merge(left=user_spec_7, right=use_loan_manage2, how=\"left\", on=\"유저_번호\")\n",
    "user_spec_9=pd.merge(left=user_spec_8, right=use_loan_manage3, how=\"left\", on=\"유저_번호\")\n",
    "user_spec_10=pd.merge(left=user_spec_9, right=use_loan_manage4, how=\"left\", on=\"유저_번호\")\n",
    "user_spec_add_counts=pd.merge(left=user_spec_10, right=get_credit, how=\"left\", on=\"유저_번호\")\n",
    "# user_spec_add_counts['총_이벤트수']=\n",
    "user_spec_add_counts.head(5)\n",
    "\n",
    "# fillna하고 싶은데, 애초에 접속을 아예 안 한 사람들도 있을 것 같아서 좀 어려움!"
   ]
  },
  {
   "cell_type": "markdown",
   "metadata": {},
   "source": [
    "#### 세션 당 스크린수"
   ]
  },
  {
   "cell_type": "code",
   "execution_count": 106,
   "metadata": {},
   "outputs": [
    {
     "data": {
      "text/html": [
       "<div>\n",
       "<style scoped>\n",
       "    .dataframe tbody tr th:only-of-type {\n",
       "        vertical-align: middle;\n",
       "    }\n",
       "\n",
       "    .dataframe tbody tr th {\n",
       "        vertical-align: top;\n",
       "    }\n",
       "\n",
       "    .dataframe thead th {\n",
       "        text-align: right;\n",
       "    }\n",
       "</style>\n",
       "<table border=\"1\" class=\"dataframe\">\n",
       "  <thead>\n",
       "    <tr style=\"text-align: right;\">\n",
       "      <th></th>\n",
       "      <th>신청서_번호</th>\n",
       "      <th>유저_번호</th>\n",
       "      <th>유저_생년월일</th>\n",
       "      <th>유저_성별</th>\n",
       "      <th>생성일시</th>\n",
       "      <th>한도조회_당시_유저_신용점수</th>\n",
       "      <th>연소득</th>\n",
       "      <th>근로형태</th>\n",
       "      <th>입사연월</th>\n",
       "      <th>고용형태</th>\n",
       "      <th>...</th>\n",
       "      <th>로그인</th>\n",
       "      <th>본인인증완료</th>\n",
       "      <th>한도조회_결과</th>\n",
       "      <th>대출관리_회수</th>\n",
       "      <th>KCB_회수</th>\n",
       "      <th>앱실행당_한도조회</th>\n",
       "      <th>앱실행당_대출관리</th>\n",
       "      <th>앱실행당_여윳돈</th>\n",
       "      <th>앱실행당_DSR</th>\n",
       "      <th>앱실행당_KCB</th>\n",
       "    </tr>\n",
       "  </thead>\n",
       "  <tbody>\n",
       "    <tr>\n",
       "      <th>0</th>\n",
       "      <td>1249046</td>\n",
       "      <td>118218</td>\n",
       "      <td>1985.0</td>\n",
       "      <td>1.0</td>\n",
       "      <td>2022-06-07 06:28:18</td>\n",
       "      <td>660.0</td>\n",
       "      <td>108000000.0</td>\n",
       "      <td>PRIVATEBUSINESS</td>\n",
       "      <td>20151101.0</td>\n",
       "      <td>기타</td>\n",
       "      <td>...</td>\n",
       "      <td>NaN</td>\n",
       "      <td>NaN</td>\n",
       "      <td>NaN</td>\n",
       "      <td>NaN</td>\n",
       "      <td>4.0</td>\n",
       "      <td>NaN</td>\n",
       "      <td>NaN</td>\n",
       "      <td>NaN</td>\n",
       "      <td>NaN</td>\n",
       "      <td>NaN</td>\n",
       "    </tr>\n",
       "    <tr>\n",
       "      <th>1</th>\n",
       "      <td>954900</td>\n",
       "      <td>553686</td>\n",
       "      <td>1968.0</td>\n",
       "      <td>1.0</td>\n",
       "      <td>2022-06-07 14:29:03</td>\n",
       "      <td>870.0</td>\n",
       "      <td>30000000.0</td>\n",
       "      <td>PRIVATEBUSINESS</td>\n",
       "      <td>20070201.0</td>\n",
       "      <td>정규직</td>\n",
       "      <td>...</td>\n",
       "      <td>5.0</td>\n",
       "      <td>3.0</td>\n",
       "      <td>3.0</td>\n",
       "      <td>2.0</td>\n",
       "      <td>7.0</td>\n",
       "      <td>0.75</td>\n",
       "      <td>0.5</td>\n",
       "      <td>NaN</td>\n",
       "      <td>NaN</td>\n",
       "      <td>1.75</td>\n",
       "    </tr>\n",
       "    <tr>\n",
       "      <th>2</th>\n",
       "      <td>137274</td>\n",
       "      <td>59516</td>\n",
       "      <td>1997.0</td>\n",
       "      <td>1.0</td>\n",
       "      <td>2022-06-07 21:40:22</td>\n",
       "      <td>710.0</td>\n",
       "      <td>30000000.0</td>\n",
       "      <td>FREELANCER</td>\n",
       "      <td>20210901.0</td>\n",
       "      <td>기타</td>\n",
       "      <td>...</td>\n",
       "      <td>3.0</td>\n",
       "      <td>2.0</td>\n",
       "      <td>5.0</td>\n",
       "      <td>3.0</td>\n",
       "      <td>3.0</td>\n",
       "      <td>1.50</td>\n",
       "      <td>1.5</td>\n",
       "      <td>NaN</td>\n",
       "      <td>NaN</td>\n",
       "      <td>1.50</td>\n",
       "    </tr>\n",
       "  </tbody>\n",
       "</table>\n",
       "<p>3 rows × 33 columns</p>\n",
       "</div>"
      ],
      "text/plain": [
       "    신청서_번호   유저_번호  유저_생년월일  유저_성별                생성일시  한도조회_당시_유저_신용점수  \\\n",
       "0  1249046  118218   1985.0    1.0 2022-06-07 06:28:18            660.0   \n",
       "1   954900  553686   1968.0    1.0 2022-06-07 14:29:03            870.0   \n",
       "2   137274   59516   1997.0    1.0 2022-06-07 21:40:22            710.0   \n",
       "\n",
       "           연소득             근로형태        입사연월 고용형태  ...  로그인  본인인증완료 한도조회_결과  \\\n",
       "0  108000000.0  PRIVATEBUSINESS  20151101.0   기타  ...  NaN     NaN     NaN   \n",
       "1   30000000.0  PRIVATEBUSINESS  20070201.0  정규직  ...  5.0     3.0     3.0   \n",
       "2   30000000.0       FREELANCER  20210901.0   기타  ...  3.0     2.0     5.0   \n",
       "\n",
       "   대출관리_회수  KCB_회수  앱실행당_한도조회  앱실행당_대출관리  앱실행당_여윳돈  앱실행당_DSR  앱실행당_KCB  \n",
       "0      NaN     4.0        NaN        NaN       NaN       NaN       NaN  \n",
       "1      2.0     7.0       0.75        0.5       NaN       NaN      1.75  \n",
       "2      3.0     3.0       1.50        1.5       NaN       NaN      1.50  \n",
       "\n",
       "[3 rows x 33 columns]"
      ]
     },
     "execution_count": 106,
     "metadata": {},
     "output_type": "execute_result"
    }
   ],
   "source": [
    "# 앱실행(세션) 수만 fillna\n",
    "user_spec_add_counts.loc[user_spec_add_counts['앱실행'] != user_spec_add_counts['앱실행'], '앱실행'] = 0.0\n",
    "\n",
    "user_spec_add_counts['앱실행당_한도조회']=user_spec_add_counts['한도조회_시작']/user_spec_add_counts['앱실행']\n",
    "user_spec_add_counts['앱실행당_대출관리']=user_spec_add_counts['대출관리_회수']/user_spec_add_counts['앱실행']\n",
    "user_spec_add_counts['앱실행당_여윳돈']=user_spec_add_counts['여윳돈_회수']/user_spec_add_counts['앱실행']\n",
    "user_spec_add_counts['앱실행당_DSR']=user_spec_add_counts['DSR_회수']/user_spec_add_counts['앱실행']\n",
    "user_spec_add_counts['앱실행당_KCB']=user_spec_add_counts['KCB_회수']/user_spec_add_counts['앱실행']\n",
    "\n",
    "user_spec_add_counts=user_spec_add_counts.replace([np.inf, -np.inf], np.nan)\n",
    "\n",
    "user_spec_add_counts.head(3)"
   ]
  },
  {
   "cell_type": "markdown",
   "metadata": {},
   "source": [
    "### 문제 있는 것들\n",
    "- Log df에서 한 줄 씩 읽어야하는 것들\n",
    "- 신청서 작성 전 방문, 로그인, 한도조회, 대출관리, 여윳돈, dsr, kcb 회수 "
   ]
  },
  {
   "cell_type": "markdown",
   "metadata": {},
   "source": [
    "#### 신규 방문, 재방문(로그인 기준)"
   ]
  },
  {
   "cell_type": "code",
   "execution_count": 116,
   "metadata": {},
   "outputs": [
    {
     "name": "stderr",
     "output_type": "stream",
     "text": [
      "/Users/nkeum/opt/anaconda3/envs/smartfarm/lib/python3.7/site-packages/ipykernel_launcher.py:2: SettingWithCopyWarning: \n",
      "A value is trying to be set on a copy of a slice from a DataFrame.\n",
      "Try using .loc[row_indexer,col_indexer] = value instead\n",
      "\n",
      "See the caveats in the documentation: https://pandas.pydata.org/pandas-docs/stable/user_guide/indexing.html#returning-a-view-versus-a-copy\n",
      "  \n"
     ]
    },
    {
     "name": "stdout",
     "output_type": "stream",
     "text": [
      "0\n"
     ]
    },
    {
     "name": "stderr",
     "output_type": "stream",
     "text": [
      "/Users/nkeum/opt/anaconda3/envs/smartfarm/lib/python3.7/site-packages/pandas/core/indexing.py:1732: SettingWithCopyWarning: \n",
      "A value is trying to be set on a copy of a slice from a DataFrame\n",
      "\n",
      "See the caveats in the documentation: https://pandas.pydata.org/pandas-docs/stable/user_guide/indexing.html#returning-a-view-versus-a-copy\n",
      "  self._setitem_single_block(indexer, value, name)\n"
     ]
    },
    {
     "ename": "KeyboardInterrupt",
     "evalue": "",
     "output_type": "error",
     "traceback": [
      "\u001b[0;31m---------------------------------------------------------------------------\u001b[0m",
      "\u001b[0;31mKeyboardInterrupt\u001b[0m                         Traceback (most recent call last)",
      "\u001b[0;32m/var/folders/rk/y11_sp2576738b0ssrr5rf7h0000gn/T/ipykernel_11990/3333619178.py\u001b[0m in \u001b[0;36m<module>\u001b[0;34m\u001b[0m\n\u001b[1;32m      9\u001b[0m     \u001b[0;32mif\u001b[0m \u001b[0mi\u001b[0m\u001b[0;34m%\u001b[0m\u001b[0;36m1000000\u001b[0m\u001b[0;34m==\u001b[0m\u001b[0;36m0\u001b[0m\u001b[0;34m:\u001b[0m \u001b[0mprint\u001b[0m\u001b[0;34m(\u001b[0m\u001b[0mi\u001b[0m\u001b[0;34m)\u001b[0m\u001b[0;34m\u001b[0m\u001b[0;34m\u001b[0m\u001b[0m\n\u001b[1;32m     10\u001b[0m     \u001b[0;32mfor\u001b[0m \u001b[0mj\u001b[0m \u001b[0;32min\u001b[0m \u001b[0mrange\u001b[0m\u001b[0;34m(\u001b[0m\u001b[0mlen\u001b[0m\u001b[0;34m(\u001b[0m\u001b[0muser_enter\u001b[0m\u001b[0;34m)\u001b[0m\u001b[0;34m)\u001b[0m\u001b[0;34m:\u001b[0m\u001b[0;34m\u001b[0m\u001b[0;34m\u001b[0m\u001b[0m\n\u001b[0;32m---> 11\u001b[0;31m         \u001b[0;32mif\u001b[0m \u001b[0muser_enter\u001b[0m\u001b[0;34m[\u001b[0m\u001b[0;34m'유저_번호'\u001b[0m\u001b[0;34m]\u001b[0m\u001b[0;34m.\u001b[0m\u001b[0miloc\u001b[0m\u001b[0;34m[\u001b[0m\u001b[0mj\u001b[0m\u001b[0;34m]\u001b[0m\u001b[0;34m==\u001b[0m\u001b[0mlogin_app\u001b[0m\u001b[0;34m[\u001b[0m\u001b[0;34m'유저_번호'\u001b[0m\u001b[0;34m]\u001b[0m\u001b[0;34m.\u001b[0m\u001b[0miloc\u001b[0m\u001b[0;34m[\u001b[0m\u001b[0mi\u001b[0m\u001b[0;34m]\u001b[0m\u001b[0;34m:\u001b[0m\u001b[0;34m\u001b[0m\u001b[0;34m\u001b[0m\u001b[0m\n\u001b[0m\u001b[1;32m     12\u001b[0m             \u001b[0muser_enter\u001b[0m\u001b[0;34m[\u001b[0m\u001b[0;34m'진행회수'\u001b[0m\u001b[0;34m]\u001b[0m\u001b[0;34m.\u001b[0m\u001b[0miloc\u001b[0m\u001b[0;34m[\u001b[0m\u001b[0mj\u001b[0m\u001b[0;34m]\u001b[0m\u001b[0;34m+=\u001b[0m\u001b[0;36m1\u001b[0m\u001b[0;34m\u001b[0m\u001b[0;34m\u001b[0m\u001b[0m\n\u001b[1;32m     13\u001b[0m             \u001b[0;32mcontinue\u001b[0m\u001b[0;34m\u001b[0m\u001b[0;34m\u001b[0m\u001b[0m\n",
      "\u001b[0;32m~/opt/anaconda3/envs/smartfarm/lib/python3.7/site-packages/pandas/core/indexing.py\u001b[0m in \u001b[0;36m__getitem__\u001b[0;34m(self, key)\u001b[0m\n\u001b[1;32m    929\u001b[0m \u001b[0;34m\u001b[0m\u001b[0m\n\u001b[1;32m    930\u001b[0m             \u001b[0mmaybe_callable\u001b[0m \u001b[0;34m=\u001b[0m \u001b[0mcom\u001b[0m\u001b[0;34m.\u001b[0m\u001b[0mapply_if_callable\u001b[0m\u001b[0;34m(\u001b[0m\u001b[0mkey\u001b[0m\u001b[0;34m,\u001b[0m \u001b[0mself\u001b[0m\u001b[0;34m.\u001b[0m\u001b[0mobj\u001b[0m\u001b[0;34m)\u001b[0m\u001b[0;34m\u001b[0m\u001b[0;34m\u001b[0m\u001b[0m\n\u001b[0;32m--> 931\u001b[0;31m             \u001b[0;32mreturn\u001b[0m \u001b[0mself\u001b[0m\u001b[0;34m.\u001b[0m\u001b[0m_getitem_axis\u001b[0m\u001b[0;34m(\u001b[0m\u001b[0mmaybe_callable\u001b[0m\u001b[0;34m,\u001b[0m \u001b[0maxis\u001b[0m\u001b[0;34m=\u001b[0m\u001b[0maxis\u001b[0m\u001b[0;34m)\u001b[0m\u001b[0;34m\u001b[0m\u001b[0;34m\u001b[0m\u001b[0m\n\u001b[0m\u001b[1;32m    932\u001b[0m \u001b[0;34m\u001b[0m\u001b[0m\n\u001b[1;32m    933\u001b[0m     \u001b[0;32mdef\u001b[0m \u001b[0m_is_scalar_access\u001b[0m\u001b[0;34m(\u001b[0m\u001b[0mself\u001b[0m\u001b[0;34m,\u001b[0m \u001b[0mkey\u001b[0m\u001b[0;34m:\u001b[0m \u001b[0mtuple\u001b[0m\u001b[0;34m)\u001b[0m\u001b[0;34m:\u001b[0m\u001b[0;34m\u001b[0m\u001b[0;34m\u001b[0m\u001b[0m\n",
      "\u001b[0;32m~/opt/anaconda3/envs/smartfarm/lib/python3.7/site-packages/pandas/core/indexing.py\u001b[0m in \u001b[0;36m_getitem_axis\u001b[0;34m(self, key, axis)\u001b[0m\n\u001b[1;32m   1549\u001b[0m             \u001b[0mkey\u001b[0m \u001b[0;34m=\u001b[0m \u001b[0mnp\u001b[0m\u001b[0;34m.\u001b[0m\u001b[0masarray\u001b[0m\u001b[0;34m(\u001b[0m\u001b[0mkey\u001b[0m\u001b[0;34m)\u001b[0m\u001b[0;34m\u001b[0m\u001b[0;34m\u001b[0m\u001b[0m\n\u001b[1;32m   1550\u001b[0m \u001b[0;34m\u001b[0m\u001b[0m\n\u001b[0;32m-> 1551\u001b[0;31m         \u001b[0;32mif\u001b[0m \u001b[0mcom\u001b[0m\u001b[0;34m.\u001b[0m\u001b[0mis_bool_indexer\u001b[0m\u001b[0;34m(\u001b[0m\u001b[0mkey\u001b[0m\u001b[0;34m)\u001b[0m\u001b[0;34m:\u001b[0m\u001b[0;34m\u001b[0m\u001b[0;34m\u001b[0m\u001b[0m\n\u001b[0m\u001b[1;32m   1552\u001b[0m             \u001b[0mself\u001b[0m\u001b[0;34m.\u001b[0m\u001b[0m_validate_key\u001b[0m\u001b[0;34m(\u001b[0m\u001b[0mkey\u001b[0m\u001b[0;34m,\u001b[0m \u001b[0maxis\u001b[0m\u001b[0;34m)\u001b[0m\u001b[0;34m\u001b[0m\u001b[0;34m\u001b[0m\u001b[0m\n\u001b[1;32m   1553\u001b[0m             \u001b[0;32mreturn\u001b[0m \u001b[0mself\u001b[0m\u001b[0;34m.\u001b[0m\u001b[0m_getbool_axis\u001b[0m\u001b[0;34m(\u001b[0m\u001b[0mkey\u001b[0m\u001b[0;34m,\u001b[0m \u001b[0maxis\u001b[0m\u001b[0;34m=\u001b[0m\u001b[0maxis\u001b[0m\u001b[0;34m)\u001b[0m\u001b[0;34m\u001b[0m\u001b[0;34m\u001b[0m\u001b[0m\n",
      "\u001b[0;32m~/opt/anaconda3/envs/smartfarm/lib/python3.7/site-packages/pandas/core/common.py\u001b[0m in \u001b[0;36mis_bool_indexer\u001b[0;34m(key)\u001b[0m\n\u001b[1;32m    126\u001b[0m         \u001b[0;32mand\u001b[0m \u001b[0mconvert\u001b[0m \u001b[0mto\u001b[0m \u001b[0man\u001b[0m \u001b[0mndarray\u001b[0m\u001b[0;34m.\u001b[0m\u001b[0;34m\u001b[0m\u001b[0;34m\u001b[0m\u001b[0m\n\u001b[1;32m    127\u001b[0m     \"\"\"\n\u001b[0;32m--> 128\u001b[0;31m     if isinstance(key, (ABCSeries, np.ndarray, ABCIndex)) or (\n\u001b[0m\u001b[1;32m    129\u001b[0m         \u001b[0mis_array_like\u001b[0m\u001b[0;34m(\u001b[0m\u001b[0mkey\u001b[0m\u001b[0;34m)\u001b[0m \u001b[0;32mand\u001b[0m \u001b[0mis_extension_array_dtype\u001b[0m\u001b[0;34m(\u001b[0m\u001b[0mkey\u001b[0m\u001b[0;34m.\u001b[0m\u001b[0mdtype\u001b[0m\u001b[0;34m)\u001b[0m\u001b[0;34m\u001b[0m\u001b[0;34m\u001b[0m\u001b[0m\n\u001b[1;32m    130\u001b[0m     ):\n",
      "\u001b[0;32m~/opt/anaconda3/envs/smartfarm/lib/python3.7/site-packages/pandas/core/dtypes/generic.py\u001b[0m in \u001b[0;36m_check\u001b[0;34m(cls, inst)\u001b[0m\n\u001b[1;32m     43\u001b[0m     \u001b[0;34m@\u001b[0m\u001b[0mclassmethod\u001b[0m  \u001b[0;31m# type: ignore[misc]\u001b[0m\u001b[0;34m\u001b[0m\u001b[0;34m\u001b[0m\u001b[0m\n\u001b[1;32m     44\u001b[0m     \u001b[0;32mdef\u001b[0m \u001b[0m_check\u001b[0m\u001b[0;34m(\u001b[0m\u001b[0mcls\u001b[0m\u001b[0;34m,\u001b[0m \u001b[0minst\u001b[0m\u001b[0;34m)\u001b[0m \u001b[0;34m->\u001b[0m \u001b[0mbool\u001b[0m\u001b[0;34m:\u001b[0m\u001b[0;34m\u001b[0m\u001b[0;34m\u001b[0m\u001b[0m\n\u001b[0;32m---> 45\u001b[0;31m         \u001b[0;32mreturn\u001b[0m \u001b[0mgetattr\u001b[0m\u001b[0;34m(\u001b[0m\u001b[0minst\u001b[0m\u001b[0;34m,\u001b[0m \u001b[0mattr\u001b[0m\u001b[0;34m,\u001b[0m \u001b[0;34m\"_typ\"\u001b[0m\u001b[0;34m)\u001b[0m \u001b[0;32min\u001b[0m \u001b[0mcomp\u001b[0m\u001b[0;34m\u001b[0m\u001b[0;34m\u001b[0m\u001b[0m\n\u001b[0m\u001b[1;32m     46\u001b[0m \u001b[0;34m\u001b[0m\u001b[0m\n\u001b[1;32m     47\u001b[0m     \u001b[0mdct\u001b[0m \u001b[0;34m=\u001b[0m \u001b[0;34m{\u001b[0m\u001b[0;34m\"__instancecheck__\"\u001b[0m\u001b[0;34m:\u001b[0m \u001b[0m_check\u001b[0m\u001b[0;34m,\u001b[0m \u001b[0;34m\"__subclasscheck__\"\u001b[0m\u001b[0;34m:\u001b[0m \u001b[0m_check\u001b[0m\u001b[0;34m}\u001b[0m\u001b[0;34m\u001b[0m\u001b[0;34m\u001b[0m\u001b[0m\n",
      "\u001b[0;31mKeyboardInterrupt\u001b[0m: "
     ]
    }
   ],
   "source": [
    "user_enter=user_spec_add_counts[['신청서_번호', '유저_번호', '로그인']]\n",
    "user_enter['진행회수']=0\n",
    "\n",
    "login_app=log_data[log_data['행동명']==\"Login\"]\n",
    "# login_app=login_app.groupby(['유저_번호'], as_index=False).count()[['유저_번호','행동명']]\n",
    "# login_app.rename(columns={'행동명':'로그인_회수'}, inplace=True)\n",
    "\n",
    "for i in range(len(login_app)):\n",
    "    if i%1000000==0: print(i)\n",
    "    for j in range(len(user_enter)):\n",
    "        if user_enter['유저_번호'].iloc[j]==login_app['유저_번호'].iloc[i]:\n",
    "            user_enter['진행회수'].iloc[j]+=1\n",
    "            continue\n",
    "user_enter.head()"
   ]
  },
  {
   "cell_type": "code",
   "execution_count": null,
   "metadata": {},
   "outputs": [],
   "source": [
    "# 1) 신규 사용자 + 재방문 사용자 = 신청서 작성 전 방문 회수, 로그인 회수, \n",
    "# - 기준을 앱실행(OpenApp), 회원가입(SignUp), 로그인(Login)?\n",
    "# 시간이 너무 오래걸려서, 거를 거 거르고 돌리려구용\n",
    "from datetime import datetime\n",
    "from tqdm import tqdm\n",
    "\n",
    "user_spec['작성_전_방문_회수']=-1\n",
    "\n",
    "\n",
    "for i in tqdm(range(len(user_spec))):\n",
    "    aid=user_spec['신청서_번호'].iloc[i]\n",
    "    uid=user_spec['유저_번호'].iloc[i]\n",
    "    created_time=user_spec['생성일시'].iloc[i]\n",
    "    \n",
    "    # log_data 중 유저 번호가 같고, 행동이 OpenApp인 df\n",
    "    uid_log_df=log_data[(log_data['유저_번호']==uid)&(log_data['행동명']=='OpenApp')]\n",
    "    \n",
    "    count=0\n",
    "    for j in range(len(uid_log_df)):\n",
    "        # 신청서를 작성한 시기보다 이전에 OpenApp한 회수\n",
    "        if uid_log_df['행동일시'].iloc[j] < created_time:\n",
    "            count+=1\n",
    "    user_spec['작성_전_방문_회수'].iloc[i]=count\n"
   ]
  },
  {
   "cell_type": "code",
   "execution_count": null,
   "metadata": {},
   "outputs": [
    {
     "data": {
      "text/plain": [
       "count    1394216.0\n",
       "mean          -1.0\n",
       "std            0.0\n",
       "min           -1.0\n",
       "25%           -1.0\n",
       "50%           -1.0\n",
       "75%           -1.0\n",
       "max           -1.0\n",
       "Name: 작성_전_방문_회수, dtype: float64"
      ]
     },
     "execution_count": 37,
     "metadata": {},
     "output_type": "execute_result"
    }
   ],
   "source": [
    "user_spec['작성_전_방문_회수'].describe()"
   ]
  },
  {
   "cell_type": "code",
   "execution_count": null,
   "metadata": {},
   "outputs": [],
   "source": [
    "user_spec['작성_전_로그인_회수']=-1\n",
    "user_spec['작성_전_한도조회_인트로_회수']=-1\n",
    "user_spec['작성_전_대출관리_회수']=-1\n",
    "user_spec['작성_전_여윳돈_회수']=-1\n",
    "user_spec['작성_전_DSR_회수']=-1\n",
    "user_spec['작성_전_KCB_회수']=-1\n",
    "\n",
    "event_list=['Login', 'ViewLoanApplyIntro', 'UseLoanManage', 'UserPrepayCalc', 'UserDSRCalc', 'GetCreditInfo']\n",
    "count_list=['작성_전_로그인_회수', '작성_전_한도조회_인트로_회수', '작성_전_대출관리_회수', '작성_전_여윳돈_회수', '작성_전_DSR_회수', '작성_전_KCB_회수']\n",
    "\n",
    "for i in tqdm(range(len(user_spec))):\n",
    "    aid=user_spec['신청서_번호'].iloc[i]\n",
    "    uid=user_spec['유저_번호'].iloc[i]\n",
    "    created_time=user_spec['생성일시'].iloc[i]\n",
    "    \n",
    "    \n",
    "    # log_data 중 유저 번호가 같고, 행동이 k인 df\n",
    "    for k in range(len(count_list)):\n",
    "        uid_log_df=log_data[(log_data['유저_번호']==uid)&(log_data['행동명']==event_list[k])]\n",
    "        \n",
    "        count=0\n",
    "        for j in range(len(uid_log_df)):\n",
    "            # 신청서를 작성한 시기보다 이전에 OpenApp한 회수\n",
    "            if uid_log_df['행동일시'].iloc[j] < created_time:\n",
    "                count+=1\n",
    "        user_spec[count_list[k]].iloc[i]=count"
   ]
  },
  {
   "cell_type": "code",
   "execution_count": 83,
   "metadata": {},
   "outputs": [
    {
     "data": {
      "text/html": [
       "<div>\n",
       "<style scoped>\n",
       "    .dataframe tbody tr th:only-of-type {\n",
       "        vertical-align: middle;\n",
       "    }\n",
       "\n",
       "    .dataframe tbody tr th {\n",
       "        vertical-align: top;\n",
       "    }\n",
       "\n",
       "    .dataframe thead th {\n",
       "        text-align: right;\n",
       "    }\n",
       "</style>\n",
       "<table border=\"1\" class=\"dataframe\">\n",
       "  <thead>\n",
       "    <tr style=\"text-align: right;\">\n",
       "      <th></th>\n",
       "      <th>유저_번호</th>\n",
       "      <th>행동명</th>\n",
       "      <th>행동일시</th>\n",
       "      <th>운영체제</th>\n",
       "      <th>앱_버전</th>\n",
       "      <th>일_코드</th>\n",
       "    </tr>\n",
       "  </thead>\n",
       "  <tbody>\n",
       "    <tr>\n",
       "      <th>305199</th>\n",
       "      <td>118218</td>\n",
       "      <td>GetCreditInfo</td>\n",
       "      <td>2022-03-02 19:44:40</td>\n",
       "      <td>android</td>\n",
       "      <td>447</td>\n",
       "      <td>2022-03-02</td>\n",
       "    </tr>\n",
       "    <tr>\n",
       "      <th>3534618</th>\n",
       "      <td>118218</td>\n",
       "      <td>GetCreditInfo</td>\n",
       "      <td>2022-03-28 11:09:28</td>\n",
       "      <td>android</td>\n",
       "      <td>451</td>\n",
       "      <td>2022-03-28</td>\n",
       "    </tr>\n",
       "    <tr>\n",
       "      <th>6422224</th>\n",
       "      <td>118218</td>\n",
       "      <td>GetCreditInfo</td>\n",
       "      <td>2022-04-18 11:04:06</td>\n",
       "      <td>android</td>\n",
       "      <td>460</td>\n",
       "      <td>2022-04-18</td>\n",
       "    </tr>\n",
       "    <tr>\n",
       "      <th>16490174</th>\n",
       "      <td>118218</td>\n",
       "      <td>GetCreditInfo</td>\n",
       "      <td>2022-06-23 14:39:20</td>\n",
       "      <td>android</td>\n",
       "      <td>469</td>\n",
       "      <td>2022-06-23</td>\n",
       "    </tr>\n",
       "  </tbody>\n",
       "</table>\n",
       "</div>"
      ],
      "text/plain": [
       "           유저_번호            행동명                행동일시     운영체제 앱_버전       일_코드\n",
       "305199    118218  GetCreditInfo 2022-03-02 19:44:40  android  447 2022-03-02\n",
       "3534618   118218  GetCreditInfo 2022-03-28 11:09:28  android  451 2022-03-28\n",
       "6422224   118218  GetCreditInfo 2022-04-18 11:04:06  android  460 2022-04-18\n",
       "16490174  118218  GetCreditInfo 2022-06-23 14:39:20  android  469 2022-06-23"
      ]
     },
     "execution_count": 83,
     "metadata": {},
     "output_type": "execute_result"
    }
   ],
   "source": [
    "log_data[log_data['유저_번호']==118218]"
   ]
  },
  {
   "cell_type": "code",
   "execution_count": null,
   "metadata": {},
   "outputs": [],
   "source": [
    "user_spec[count_list].describe()"
   ]
  },
  {
   "cell_type": "code",
   "execution_count": 24,
   "metadata": {},
   "outputs": [
    {
     "data": {
      "text/plain": [
       "(34892, 584636, 17843993)"
      ]
     },
     "execution_count": 24,
     "metadata": {},
     "output_type": "execute_result"
    }
   ],
   "source": [
    "len(log_data[log_data['행동명']=='SignUp']), len(set(log_data['유저_번호'])), len(log_data)"
   ]
  },
  {
   "cell_type": "code",
   "execution_count": null,
   "metadata": {},
   "outputs": [],
   "source": [
    "# 5) 사용자별 방문 수 = 세션 수\n"
   ]
  },
  {
   "cell_type": "code",
   "execution_count": null,
   "metadata": {},
   "outputs": [],
   "source": [
    "# 7) 사용자가 방문한 시간대 접속자 수"
   ]
  },
  {
   "cell_type": "markdown",
   "metadata": {},
   "source": [
    "## 주요 경로\n",
    "### 1. 경로의 종류\n",
    "#### 1) 5개의 스크린\n",
    "- 한도조회시작(StartLoanApply), 대출관리서비스 이용(UseLoanManage), 여윳돈 계산기 이용(UsePrepayCalc), DSR 계산기 이용(UseDSRCalc), KCB 신용정보 조회(GetCreditInfo)\n",
    "- ['StartLoanApply', 'UseLoanManage', 'UsePrepayCalc', 'UseDSRCalc', 'GetCreditInfo']\n",
    "#### 2) 시작점-종료점\n",
    "- OpenApp부터 그 다음 OpenApp 까지\n",
    "\n",
    "### 2. 슬라이싱\n",
    "- 0. log_data에서 5개의 스크린만 뽑기\n",
    "- 1. log_data를 user별로 \n",
    "- 2. OpenApp 앞뒤를 쪼개서 여러개의 리스트로 합친\n",
    "- 3. 전체 route_list에 넣음\n",
    "- 4. 겹치는 것의 종류 확인\n",
    "    + 5!+4!+3!+2!+1!=153 보다 많다면 쪼개야하나.. 일단 최대 길이 찾아서 대기..\n",
    "- 5. value_counts()"
   ]
  },
  {
   "cell_type": "code",
   "execution_count": 165,
   "metadata": {},
   "outputs": [
    {
     "data": {
      "text/plain": [
       "(9587604, 17843993, 574778)"
      ]
     },
     "execution_count": 165,
     "metadata": {},
     "output_type": "execute_result"
    }
   ],
   "source": [
    "screens=['StartLoanApply', 'UseLoanManage', 'UsePrepayCalc', 'UseDSRCalc', 'GetCreditInfo']\n",
    "main_route_log_df=log_data[(log_data['행동명']==\"OpenApp\")|\n",
    "                           (log_data['행동명']==screens[0])|\n",
    "                           (log_data['행동명']==screens[1])|\n",
    "                           (log_data['행동명']==screens[2])|\n",
    "                           (log_data['행동명']==screens[3])|\n",
    "                           (log_data['행동명']==screens[4])\n",
    "                           ]\n",
    "main_route_log_df.reset_index(drop=True, inplace=True)\n",
    "len(main_route_log_df), len(log_data), len(set(main_route_log_df['유저_번호']))"
   ]
  },
  {
   "cell_type": "code",
   "execution_count": null,
   "metadata": {},
   "outputs": [],
   "source": [
    "users=list(set(main_route_log_df['유저_번호']))\n",
    "route_list=[]\n",
    "\n",
    "# target의 idx들(복수)를 list로 추출\n",
    "def list_idx(arr, target):\n",
    "    return [i for i in range(len(arr)) if arr[i]==target]\n",
    "\n",
    "# 유저별로 OpenApp 기준 슬라이싱\n",
    "for i in tqdm(range(len(users))):\n",
    "    df=main_route_log_df[main_route_log_df['유저_번호']==users[i]]\n",
    "    idx_list=list_idx(list(df['행동명']), 'OpenApp')\n",
    "    if len(idx_list)>0 and len(df)>0:\n",
    "        for i in range(len(idx_list)):\n",
    "            start=idx_list[i]\n",
    "            try:\n",
    "                end=idx_list[i+1]\n",
    "            except:\n",
    "                end=len(df)\n",
    "            route_list.append(list(df['행동명'].iloc[start:end]))\n",
    "        # route_list.append([df['행동명'].iloc[idx_list[i]:min(idx_list[i+1], len(df))] for i in range(len(idx_list))])\n",
    "    else: continue"
   ]
  },
  {
   "cell_type": "code",
   "execution_count": 179,
   "metadata": {},
   "outputs": [
    {
     "data": {
      "text/plain": [
       "3460762"
      ]
     },
     "execution_count": 179,
     "metadata": {},
     "output_type": "execute_result"
    }
   ],
   "source": [
    "len(route_list)"
   ]
  },
  {
   "cell_type": "code",
   "execution_count": 192,
   "metadata": {},
   "outputs": [
    {
     "name": "stderr",
     "output_type": "stream",
     "text": [
      "100%|██████████| 3460762/3460762 [00:13<00:00, 260638.53it/s]\n"
     ]
    },
    {
     "data": {
      "text/plain": [
       "24883"
      ]
     },
     "execution_count": 192,
     "metadata": {},
     "output_type": "execute_result"
    }
   ],
   "source": [
    "route_set = []\n",
    "\n",
    "for i in tqdm(range(len(route_list))):\n",
    "    if route_list[i] not in route_set:\n",
    "        route_set.append(route_list[i])\n",
    "\n",
    "route_set.sort()\n",
    "len(route_set)"
   ]
  },
  {
   "cell_type": "code",
   "execution_count": 193,
   "metadata": {},
   "outputs": [
    {
     "data": {
      "text/plain": [
       "(24883, ['OpenApp', 'UsePrepayCalc', 'UseDSRCalc'])"
      ]
     },
     "execution_count": 193,
     "metadata": {},
     "output_type": "execute_result"
    }
   ],
   "source": [
    "len(route_set), route_set[-1]"
   ]
  },
  {
   "cell_type": "code",
   "execution_count": 194,
   "metadata": {},
   "outputs": [
    {
     "data": {
      "text/plain": [
       "[['OpenApp'],\n",
       " ['OpenApp', 'GetCreditInfo'],\n",
       " ['OpenApp', 'GetCreditInfo', 'GetCreditInfo'],\n",
       " ['OpenApp', 'GetCreditInfo', 'GetCreditInfo', 'GetCreditInfo'],\n",
       " ['OpenApp',\n",
       "  'GetCreditInfo',\n",
       "  'GetCreditInfo',\n",
       "  'GetCreditInfo',\n",
       "  'GetCreditInfo']]"
      ]
     },
     "execution_count": 194,
     "metadata": {},
     "output_type": "execute_result"
    }
   ],
   "source": [
    "route_set[:5]\n"
   ]
  },
  {
   "cell_type": "code",
   "execution_count": 185,
   "metadata": {},
   "outputs": [],
   "source": [
    "np.save('./route_set', np.array(route_set))\n",
    "np.save('./route_set.npy', np.array(route_set))"
   ]
  },
  {
   "cell_type": "code",
   "execution_count": 398,
   "metadata": {},
   "outputs": [
    {
     "data": {
      "text/plain": [
       "(326, 326)"
      ]
     },
     "execution_count": 398,
     "metadata": {},
     "output_type": "execute_result"
    }
   ],
   "source": [
    "from asyncore import poll3\n",
    "from itertools import permutations\n",
    "from itertools import combinations\n",
    "\n",
    "log_init=[('StartLoanApply'), ('UseLoanManage'), ('UsePrepayCalc'), ('UseDSRCalc'), ('GetCreditInfo')]\n",
    "log_columns=[('StartLoanApply'), ('UseLoanManage'), ('UsePrepayCalc'), ('UseDSRCalc'), ('GetCreditInfo')]\n",
    "\n",
    "p2=list(permutations(log_init, 2))\n",
    "p3=list(permutations(log_init, 3))\n",
    "p4=list(permutations(log_init, 4))\n",
    "p5=list(permutations(log_init, 5))\n",
    "\n",
    "n1=5\n",
    "n2=len(p2)\n",
    "n3=len(p3)\n",
    "n4=len(p4)\n",
    "n5=len(p5)\n",
    "\n",
    "for arr in p2:\n",
    "    log_columns.append(arr)\n",
    "for arr in p3:\n",
    "    log_columns.append(arr)\n",
    "for arr in p4:\n",
    "    log_columns.append(arr)\n",
    "for arr in p5:\n",
    "    log_columns.append(arr)\n",
    "    \n",
    "log_columns.append((''))\n",
    "\n",
    "len(log_columns), n1+n2+n3+n4+n5+1"
   ]
  },
  {
   "cell_type": "code",
   "execution_count": 399,
   "metadata": {},
   "outputs": [
    {
     "data": {
      "text/html": [
       "<div>\n",
       "<style scoped>\n",
       "    .dataframe tbody tr th:only-of-type {\n",
       "        vertical-align: middle;\n",
       "    }\n",
       "\n",
       "    .dataframe tbody tr th {\n",
       "        vertical-align: top;\n",
       "    }\n",
       "\n",
       "    .dataframe thead th {\n",
       "        text-align: right;\n",
       "    }\n",
       "</style>\n",
       "<table border=\"1\" class=\"dataframe\">\n",
       "  <thead>\n",
       "    <tr style=\"text-align: right;\">\n",
       "      <th></th>\n",
       "      <th>count</th>\n",
       "    </tr>\n",
       "  </thead>\n",
       "  <tbody>\n",
       "    <tr>\n",
       "      <th>StartLoanApply</th>\n",
       "      <td>0</td>\n",
       "    </tr>\n",
       "    <tr>\n",
       "      <th>UseLoanManage</th>\n",
       "      <td>0</td>\n",
       "    </tr>\n",
       "    <tr>\n",
       "      <th>UsePrepayCalc</th>\n",
       "      <td>0</td>\n",
       "    </tr>\n",
       "    <tr>\n",
       "      <th>UseDSRCalc</th>\n",
       "      <td>0</td>\n",
       "    </tr>\n",
       "    <tr>\n",
       "      <th>GetCreditInfo</th>\n",
       "      <td>0</td>\n",
       "    </tr>\n",
       "    <tr>\n",
       "      <th>...</th>\n",
       "      <td>...</td>\n",
       "    </tr>\n",
       "    <tr>\n",
       "      <th>(GetCreditInfo, UseDSRCalc, UseLoanManage, StartLoanApply, UsePrepayCalc)</th>\n",
       "      <td>0</td>\n",
       "    </tr>\n",
       "    <tr>\n",
       "      <th>(GetCreditInfo, UseDSRCalc, UseLoanManage, UsePrepayCalc, StartLoanApply)</th>\n",
       "      <td>0</td>\n",
       "    </tr>\n",
       "    <tr>\n",
       "      <th>(GetCreditInfo, UseDSRCalc, UsePrepayCalc, StartLoanApply, UseLoanManage)</th>\n",
       "      <td>0</td>\n",
       "    </tr>\n",
       "    <tr>\n",
       "      <th>(GetCreditInfo, UseDSRCalc, UsePrepayCalc, UseLoanManage, StartLoanApply)</th>\n",
       "      <td>0</td>\n",
       "    </tr>\n",
       "    <tr>\n",
       "      <th></th>\n",
       "      <td>1050222</td>\n",
       "    </tr>\n",
       "  </tbody>\n",
       "</table>\n",
       "<p>326 rows × 1 columns</p>\n",
       "</div>"
      ],
      "text/plain": [
       "                                                      count\n",
       "StartLoanApply                                            0\n",
       "UseLoanManage                                             0\n",
       "UsePrepayCalc                                             0\n",
       "UseDSRCalc                                                0\n",
       "GetCreditInfo                                             0\n",
       "...                                                     ...\n",
       "(GetCreditInfo, UseDSRCalc, UseLoanManage, Star...        0\n",
       "(GetCreditInfo, UseDSRCalc, UseLoanManage, UseP...        0\n",
       "(GetCreditInfo, UseDSRCalc, UsePrepayCalc, Star...        0\n",
       "(GetCreditInfo, UseDSRCalc, UsePrepayCalc, UseL...        0\n",
       "                                                    1050222\n",
       "\n",
       "[326 rows x 1 columns]"
      ]
     },
     "execution_count": 399,
     "metadata": {},
     "output_type": "execute_result"
    }
   ],
   "source": [
    "log_ngram_df=pd.DataFrame([0]*len(log_columns), index=log_columns, columns=['count'])\n",
    "\n",
    "count=0\n",
    "for i in range(len(route_list)):\n",
    "    if len(route_list[i])==1: count+=1\n",
    "log_ngram_df.loc['']=count\n",
    "\n",
    "log_ngram_df"
   ]
  },
  {
   "cell_type": "code",
   "execution_count": 401,
   "metadata": {},
   "outputs": [
    {
     "name": "stderr",
     "output_type": "stream",
     "text": [
      "100%|██████████| 3460762/3460762 [1:05:21<00:00, 882.49it/s] \n"
     ]
    },
    {
     "data": {
      "text/html": [
       "<div>\n",
       "<style scoped>\n",
       "    .dataframe tbody tr th:only-of-type {\n",
       "        vertical-align: middle;\n",
       "    }\n",
       "\n",
       "    .dataframe tbody tr th {\n",
       "        vertical-align: top;\n",
       "    }\n",
       "\n",
       "    .dataframe thead th {\n",
       "        text-align: right;\n",
       "    }\n",
       "</style>\n",
       "<table border=\"1\" class=\"dataframe\">\n",
       "  <thead>\n",
       "    <tr style=\"text-align: right;\">\n",
       "      <th></th>\n",
       "      <th>count</th>\n",
       "    </tr>\n",
       "  </thead>\n",
       "  <tbody>\n",
       "    <tr>\n",
       "      <th>StartLoanApply</th>\n",
       "      <td>1694042</td>\n",
       "    </tr>\n",
       "    <tr>\n",
       "      <th>UseLoanManage</th>\n",
       "      <td>1423937</td>\n",
       "    </tr>\n",
       "    <tr>\n",
       "      <th>UsePrepayCalc</th>\n",
       "      <td>5784</td>\n",
       "    </tr>\n",
       "    <tr>\n",
       "      <th>UseDSRCalc</th>\n",
       "      <td>3660</td>\n",
       "    </tr>\n",
       "    <tr>\n",
       "      <th>GetCreditInfo</th>\n",
       "      <td>2113765</td>\n",
       "    </tr>\n",
       "  </tbody>\n",
       "</table>\n",
       "</div>"
      ],
      "text/plain": [
       "                  count\n",
       "StartLoanApply  1694042\n",
       "UseLoanManage   1423937\n",
       "UsePrepayCalc      5784\n",
       "UseDSRCalc         3660\n",
       "GetCreditInfo   2113765"
      ]
     },
     "execution_count": 401,
     "metadata": {},
     "output_type": "execute_result"
    }
   ],
   "source": [
    "# screens=['StartLoanApply', 'UseLoanManage', 'UsePrepayCalc', 'UseDSRCalc', 'GetCreditInfo']\n",
    "\n",
    "for i in tqdm(range(len(route_list))):\n",
    "    if len(route_list[i])==1: continue\n",
    "    for n in range(1, len(route_list[i])):\n",
    "        # 원소 안의 2~5개의 순서 지킨 조합에서\n",
    "            # range에서도 1 빠지고 슬라이싱에서도 1 빠져서 머리 터지는 줄\n",
    "        for k in range(n+1, min(n+1+5, len(route_list[i])+1)):\n",
    "            # print(tuple(route_list[i][n:k]))\n",
    "            # 하나일 때랑 여러개 일 때 들어가는 [] 계층이 다름\n",
    "            if len(route_list[i][n:k])==1: \n",
    "                log_ngram_df.loc[route_list[i][n:k]]+=1\n",
    "            else: \n",
    "                try: \n",
    "                    log_ngram_df.loc[[tuple(route_list[i][n:k])]]+=1\n",
    "                except KeyError:\n",
    "                    continue\n",
    "log_ngram_df.head()"
   ]
  },
  {
   "cell_type": "code",
   "execution_count": 402,
   "metadata": {},
   "outputs": [],
   "source": [
    "log_ngram_df.to_csv(\"./log_ngram_df.csv\", index=False)"
   ]
  },
  {
   "cell_type": "code",
   "execution_count": 404,
   "metadata": {},
   "outputs": [
    {
     "data": {
      "text/html": [
       "<div>\n",
       "<style scoped>\n",
       "    .dataframe tbody tr th:only-of-type {\n",
       "        vertical-align: middle;\n",
       "    }\n",
       "\n",
       "    .dataframe tbody tr th {\n",
       "        vertical-align: top;\n",
       "    }\n",
       "\n",
       "    .dataframe thead th {\n",
       "        text-align: right;\n",
       "    }\n",
       "</style>\n",
       "<table border=\"1\" class=\"dataframe\">\n",
       "  <thead>\n",
       "    <tr style=\"text-align: right;\">\n",
       "      <th></th>\n",
       "      <th>count</th>\n",
       "    </tr>\n",
       "  </thead>\n",
       "  <tbody>\n",
       "    <tr>\n",
       "      <th>StartLoanApply</th>\n",
       "      <td>1694042</td>\n",
       "    </tr>\n",
       "    <tr>\n",
       "      <th>UseLoanManage</th>\n",
       "      <td>1423937</td>\n",
       "    </tr>\n",
       "    <tr>\n",
       "      <th>UsePrepayCalc</th>\n",
       "      <td>5784</td>\n",
       "    </tr>\n",
       "    <tr>\n",
       "      <th>UseDSRCalc</th>\n",
       "      <td>3660</td>\n",
       "    </tr>\n",
       "    <tr>\n",
       "      <th>GetCreditInfo</th>\n",
       "      <td>2113765</td>\n",
       "    </tr>\n",
       "    <tr>\n",
       "      <th>(StartLoanApply, UseLoanManage)</th>\n",
       "      <td>138206</td>\n",
       "    </tr>\n",
       "    <tr>\n",
       "      <th>(StartLoanApply, UsePrepayCalc)</th>\n",
       "      <td>6</td>\n",
       "    </tr>\n",
       "    <tr>\n",
       "      <th>(StartLoanApply, UseDSRCalc)</th>\n",
       "      <td>6</td>\n",
       "    </tr>\n",
       "    <tr>\n",
       "      <th>(StartLoanApply, GetCreditInfo)</th>\n",
       "      <td>175437</td>\n",
       "    </tr>\n",
       "    <tr>\n",
       "      <th>(UseLoanManage, StartLoanApply)</th>\n",
       "      <td>127845</td>\n",
       "    </tr>\n",
       "    <tr>\n",
       "      <th>(UseLoanManage, UsePrepayCalc)</th>\n",
       "      <td>2798</td>\n",
       "    </tr>\n",
       "    <tr>\n",
       "      <th>(UseLoanManage, UseDSRCalc)</th>\n",
       "      <td>2108</td>\n",
       "    </tr>\n",
       "    <tr>\n",
       "      <th>(UseLoanManage, GetCreditInfo)</th>\n",
       "      <td>704835</td>\n",
       "    </tr>\n",
       "    <tr>\n",
       "      <th>(UsePrepayCalc, StartLoanApply)</th>\n",
       "      <td>608</td>\n",
       "    </tr>\n",
       "    <tr>\n",
       "      <th>(UsePrepayCalc, UseLoanManage)</th>\n",
       "      <td>322</td>\n",
       "    </tr>\n",
       "    <tr>\n",
       "      <th>(UsePrepayCalc, UseDSRCalc)</th>\n",
       "      <td>349</td>\n",
       "    </tr>\n",
       "    <tr>\n",
       "      <th>(UsePrepayCalc, GetCreditInfo)</th>\n",
       "      <td>1230</td>\n",
       "    </tr>\n",
       "    <tr>\n",
       "      <th>(UseDSRCalc, StartLoanApply)</th>\n",
       "      <td>410</td>\n",
       "    </tr>\n",
       "    <tr>\n",
       "      <th>(UseDSRCalc, UseLoanManage)</th>\n",
       "      <td>164</td>\n",
       "    </tr>\n",
       "    <tr>\n",
       "      <th>(UseDSRCalc, UsePrepayCalc)</th>\n",
       "      <td>633</td>\n",
       "    </tr>\n",
       "  </tbody>\n",
       "</table>\n",
       "</div>"
      ],
      "text/plain": [
       "                                   count\n",
       "StartLoanApply                   1694042\n",
       "UseLoanManage                    1423937\n",
       "UsePrepayCalc                       5784\n",
       "UseDSRCalc                          3660\n",
       "GetCreditInfo                    2113765\n",
       "(StartLoanApply, UseLoanManage)   138206\n",
       "(StartLoanApply, UsePrepayCalc)        6\n",
       "(StartLoanApply, UseDSRCalc)           6\n",
       "(StartLoanApply, GetCreditInfo)   175437\n",
       "(UseLoanManage, StartLoanApply)   127845\n",
       "(UseLoanManage, UsePrepayCalc)      2798\n",
       "(UseLoanManage, UseDSRCalc)         2108\n",
       "(UseLoanManage, GetCreditInfo)    704835\n",
       "(UsePrepayCalc, StartLoanApply)      608\n",
       "(UsePrepayCalc, UseLoanManage)       322\n",
       "(UsePrepayCalc, UseDSRCalc)          349\n",
       "(UsePrepayCalc, GetCreditInfo)      1230\n",
       "(UseDSRCalc, StartLoanApply)         410\n",
       "(UseDSRCalc, UseLoanManage)          164\n",
       "(UseDSRCalc, UsePrepayCalc)          633"
      ]
     },
     "execution_count": 404,
     "metadata": {},
     "output_type": "execute_result"
    }
   ],
   "source": [
    "log_ngram_df.head(20)"
   ]
  },
  {
   "cell_type": "code",
   "execution_count": null,
   "metadata": {},
   "outputs": [],
   "source": []
  },
  {
   "cell_type": "code",
   "execution_count": null,
   "metadata": {},
   "outputs": [],
   "source": []
  },
  {
   "cell_type": "markdown",
   "metadata": {},
   "source": [
    "## (2) 일시 별로 추가"
   ]
  },
  {
   "cell_type": "markdown",
   "metadata": {},
   "source": [
    "### 1. 사용자 관련\n",
    "3) DAU, WAU, MAU\n",
    "- 일간, 주간, 월간 순사용자\n",
    "4) 시간대별 방문자 수\n",
    "- 시간, 일, 주, 월, 휴일 중 사용자 수\n",
    "5) 사용자별 방문 수 = 세션 수\n",
    "6) 사용자당 방문 수 = 세션 수/사용자 수\n",
    "\n",
    "### 2. 화면 - 유저 기준\n",
    "\n",
    "### 3. 경로 - 스크린 기준\n",
    "\n",
    "### 4. 액션 - 유저 기준\n",
    "\n",
    "### 5. 그 외\n",
    ".."
   ]
  },
  {
   "cell_type": "markdown",
   "metadata": {},
   "source": []
  }
 ],
 "metadata": {
  "kernelspec": {
   "display_name": "Python 3.7.13 ('smartfarm')",
   "language": "python",
   "name": "python3"
  },
  "language_info": {
   "codemirror_mode": {
    "name": "ipython",
    "version": 3
   },
   "file_extension": ".py",
   "mimetype": "text/x-python",
   "name": "python",
   "nbconvert_exporter": "python",
   "pygments_lexer": "ipython3",
   "version": "3.7.13"
  },
  "orig_nbformat": 4,
  "vscode": {
   "interpreter": {
    "hash": "2f339d95b8d17851c48fc92de03245aeb578afe773ced39b669b273fa397e1a6"
   }
  }
 },
 "nbformat": 4,
 "nbformat_minor": 2
}
