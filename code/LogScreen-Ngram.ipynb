{
 "cells": [
  {
   "cell_type": "code",
   "execution_count": 1,
   "metadata": {},
   "outputs": [],
   "source": [
    "import pandas as pd\n",
    "import numpy as np"
   ]
  },
  {
   "cell_type": "code",
   "execution_count": 90,
   "metadata": {},
   "outputs": [],
   "source": [
    "# load\n",
    "loan_result=pd.read_csv(\"../data/loan_result.csv\")\n",
    "log_data=pd.read_csv(\"../data/log_data.csv\")\n",
    "user_spec=pd.read_csv(\"../data/user_spec.csv\")\n",
    "\n",
    "# columns localize\n",
    "loan_result.columns=['신청서_번호', '한도조회_일시', '금융사_번호', '상품_번호', '승인한도', '승인금리', '신청_여부(y)']\n",
    "log_data.columns=['유저_번호', '행동명', '행동일시', '운영체제', '앱_버전', '일_코드']\n",
    "user_spec.columns=['신청서_번호', '유저_번호', '유저_생년월일', '유저_성별', '생성일시', '한도조회_당시_유저_신용점수', '연소득', '근로형태', '입사연월', '고용형태', '주거소유형태', '대출희망금액', '대출_목적', '개인회생자_여부', '개인회생자_납입_완료_여부', '기대출수', '기대출금액'] # 건강보험 타입이 정의서에는 있는데 데이터엔 없는듯"
   ]
  },
  {
   "cell_type": "code",
   "execution_count": 91,
   "metadata": {},
   "outputs": [
    {
     "data": {
      "text/plain": [
       "(17843993, 6)"
      ]
     },
     "execution_count": 91,
     "metadata": {},
     "output_type": "execute_result"
    }
   ],
   "source": [
    "log_data.shape"
   ]
  },
  {
   "cell_type": "code",
   "execution_count": 92,
   "metadata": {},
   "outputs": [
    {
     "data": {
      "text/html": [
       "<div>\n",
       "<style scoped>\n",
       "    .dataframe tbody tr th:only-of-type {\n",
       "        vertical-align: middle;\n",
       "    }\n",
       "\n",
       "    .dataframe tbody tr th {\n",
       "        vertical-align: top;\n",
       "    }\n",
       "\n",
       "    .dataframe thead th {\n",
       "        text-align: right;\n",
       "    }\n",
       "</style>\n",
       "<table border=\"1\" class=\"dataframe\">\n",
       "  <thead>\n",
       "    <tr style=\"text-align: right;\">\n",
       "      <th></th>\n",
       "      <th>유저_번호</th>\n",
       "      <th>행동명</th>\n",
       "      <th>행동일시</th>\n",
       "      <th>운영체제</th>\n",
       "      <th>앱_버전</th>\n",
       "      <th>일_코드</th>\n",
       "    </tr>\n",
       "  </thead>\n",
       "  <tbody>\n",
       "    <tr>\n",
       "      <th>0</th>\n",
       "      <td>125129</td>\n",
       "      <td>UseLoanManage</td>\n",
       "      <td>2022-03-01 00:00:00</td>\n",
       "      <td>Android</td>\n",
       "      <td>3.8.0</td>\n",
       "      <td>2022-03-01</td>\n",
       "    </tr>\n",
       "    <tr>\n",
       "      <th>1</th>\n",
       "      <td>385811</td>\n",
       "      <td>Login</td>\n",
       "      <td>2022-03-01 00:00:00</td>\n",
       "      <td>Android</td>\n",
       "      <td>3.8.0</td>\n",
       "      <td>2022-03-01</td>\n",
       "    </tr>\n",
       "    <tr>\n",
       "      <th>2</th>\n",
       "      <td>720911</td>\n",
       "      <td>OpenApp</td>\n",
       "      <td>2022-03-01 00:00:00</td>\n",
       "      <td>iOS</td>\n",
       "      <td>3.6.0</td>\n",
       "      <td>2022-03-01</td>\n",
       "    </tr>\n",
       "    <tr>\n",
       "      <th>3</th>\n",
       "      <td>706858</td>\n",
       "      <td>UseLoanManage</td>\n",
       "      <td>2022-03-01 00:00:03</td>\n",
       "      <td>Android</td>\n",
       "      <td>3.8.0</td>\n",
       "      <td>2022-03-01</td>\n",
       "    </tr>\n",
       "    <tr>\n",
       "      <th>4</th>\n",
       "      <td>512341</td>\n",
       "      <td>EndLoanApply</td>\n",
       "      <td>2022-03-01 00:00:03</td>\n",
       "      <td>Android</td>\n",
       "      <td>3.8.0</td>\n",
       "      <td>2022-03-01</td>\n",
       "    </tr>\n",
       "  </tbody>\n",
       "</table>\n",
       "</div>"
      ],
      "text/plain": [
       "    유저_번호            행동명                 행동일시     운영체제   앱_버전        일_코드\n",
       "0  125129  UseLoanManage  2022-03-01 00:00:00  Android  3.8.0  2022-03-01\n",
       "1  385811          Login  2022-03-01 00:00:00  Android  3.8.0  2022-03-01\n",
       "2  720911        OpenApp  2022-03-01 00:00:00      iOS  3.6.0  2022-03-01\n",
       "3  706858  UseLoanManage  2022-03-01 00:00:03  Android  3.8.0  2022-03-01\n",
       "4  512341   EndLoanApply  2022-03-01 00:00:03  Android  3.8.0  2022-03-01"
      ]
     },
     "execution_count": 92,
     "metadata": {},
     "output_type": "execute_result"
    }
   ],
   "source": [
    "# log_data sort by time(asc)\n",
    "log_data=log_data.sort_values('행동일시').reset_index(drop=True)\n",
    "log_data.head()"
   ]
  },
  {
   "cell_type": "code",
   "execution_count": 93,
   "metadata": {},
   "outputs": [],
   "source": [
    "log_data['행동일시'] = pd.to_datetime(log_data['행동일시'])\n",
    "log_data['일_코드'] = pd.to_datetime(log_data['일_코드'])\n",
    "loan_result['한도조회_일시'] = pd.to_datetime(loan_result['한도조회_일시'])\n",
    "user_spec['생성일시'] = pd.to_datetime(user_spec['생성일시'])"
   ]
  },
  {
   "cell_type": "code",
   "execution_count": 119,
   "metadata": {},
   "outputs": [
    {
     "name": "stdout",
     "output_type": "stream",
     "text": [
      "370436\n"
     ]
    }
   ],
   "source": [
    "users=set(user_spec['유저_번호'])\n",
    "log_user=set(log_data['유저_번호'])\n",
    "count=[]\n",
    "\n",
    "for num in log_user:\n",
    "    if num in users:\n",
    "        count.append(num)\n",
    "\n",
    "print(len(count))"
   ]
  },
  {
   "cell_type": "code",
   "execution_count": null,
   "metadata": {},
   "outputs": [],
   "source": [
    "from tqdm import tqdm\n",
    "\n",
    "user_df=user_spec.copy()\n",
    "log_df=log_data.copy()\n",
    "\n",
    "# 각 13시간 정도...\n",
    "\n",
    "for i in tqdm(range(len(user_spec))):\n",
    "    if user_spec['유저_번호'].iloc[i] not in count:\n",
    "        user_df.drop([i])\n",
    "\n"
   ]
  },
  {
   "cell_type": "markdown",
   "metadata": {},
   "source": [
    "## 주요 경로\n",
    "### 1. 경로의 종류\n",
    "#### 1) 5개의 스크린\n",
    "- 한도조회시작(StartLoanApply), 대출관리서비스 이용(UseLoanManage), 여윳돈 계산기 이용(UsePrepayCalc), DSR 계산기 이용(UseDSRCalc), KCB 신용정보 조회(GetCreditInfo)\n",
    "- ['StartLoanApply', 'UseLoanManage', 'UsePrepayCalc', 'UseDSRCalc', 'GetCreditInfo']\n",
    "#### 2) 시작점-종료점\n",
    "- OpenApp부터 그 다음 OpenApp 까지\n",
    "\n",
    "### 2. 슬라이싱\n",
    "- 0. log_data에서 5개의 스크린만 뽑기\n",
    "- 1. log_data를 user별로 \n",
    "- 2. OpenApp 앞뒤를 쪼개서 여러개의 리스트로 합친\n",
    "- 3. 전체 route_list에 넣음\n",
    "- 4. 겹치는 것의 종류 확인\n",
    "    + 5!+4!+3!+2!+1!=153 보다 많다면 쪼개야하나.. 일단 최대 길이 찾아서 대기..\n",
    "- 5. value_counts()"
   ]
  },
  {
   "cell_type": "code",
   "execution_count": 165,
   "metadata": {},
   "outputs": [
    {
     "data": {
      "text/plain": [
       "(9587604, 17843993, 574778)"
      ]
     },
     "execution_count": 165,
     "metadata": {},
     "output_type": "execute_result"
    }
   ],
   "source": [
    "screens=['StartLoanApply', 'UseLoanManage', 'UsePrepayCalc', 'UseDSRCalc', 'GetCreditInfo']\n",
    "main_route_log_df=log_data[(log_data['행동명']==\"OpenApp\")|\n",
    "                           (log_data['행동명']==screens[0])|\n",
    "                           (log_data['행동명']==screens[1])|\n",
    "                           (log_data['행동명']==screens[2])|\n",
    "                           (log_data['행동명']==screens[3])|\n",
    "                           (log_data['행동명']==screens[4])\n",
    "                           ]\n",
    "main_route_log_df.reset_index(drop=True, inplace=True)\n",
    "len(main_route_log_df), len(log_data), len(set(main_route_log_df['유저_번호']))"
   ]
  },
  {
   "cell_type": "code",
   "execution_count": null,
   "metadata": {},
   "outputs": [],
   "source": [
    "users=list(set(main_route_log_df['유저_번호']))\n",
    "route_list=[]\n",
    "\n",
    "# target의 idx들(복수)를 list로 추출\n",
    "def list_idx(arr, target):\n",
    "    return [i for i in range(len(arr)) if arr[i]==target]\n",
    "\n",
    "# 유저별로 OpenApp 기준 슬라이싱\n",
    "for i in tqdm(range(len(users))):\n",
    "    df=main_route_log_df[main_route_log_df['유저_번호']==users[i]]\n",
    "    idx_list=list_idx(list(df['행동명']), 'OpenApp')\n",
    "    if len(idx_list)>0 and len(df)>0:\n",
    "        for i in range(len(idx_list)):\n",
    "            start=idx_list[i]\n",
    "            try:\n",
    "                end=idx_list[i+1]\n",
    "            except:\n",
    "                end=len(df)\n",
    "            route_list.append(list(df['행동명'].iloc[start:end]))\n",
    "        # route_list.append([df['행동명'].iloc[idx_list[i]:min(idx_list[i+1], len(df))] for i in range(len(idx_list))])\n",
    "    else: continue"
   ]
  },
  {
   "cell_type": "code",
   "execution_count": 179,
   "metadata": {},
   "outputs": [
    {
     "data": {
      "text/plain": [
       "3460762"
      ]
     },
     "execution_count": 179,
     "metadata": {},
     "output_type": "execute_result"
    }
   ],
   "source": [
    "len(route_list)"
   ]
  },
  {
   "cell_type": "code",
   "execution_count": 192,
   "metadata": {},
   "outputs": [
    {
     "name": "stderr",
     "output_type": "stream",
     "text": [
      "100%|██████████| 3460762/3460762 [00:13<00:00, 260638.53it/s]\n"
     ]
    },
    {
     "data": {
      "text/plain": [
       "24883"
      ]
     },
     "execution_count": 192,
     "metadata": {},
     "output_type": "execute_result"
    }
   ],
   "source": [
    "route_set = []\n",
    "\n",
    "for i in tqdm(range(len(route_list))):\n",
    "    if route_list[i] not in route_set:\n",
    "        route_set.append(route_list[i])\n",
    "\n",
    "route_set.sort()\n",
    "len(route_set)"
   ]
  },
  {
   "cell_type": "code",
   "execution_count": 185,
   "metadata": {},
   "outputs": [],
   "source": [
    "np.save('../data/route_set', np.array(route_set)) # 중복 제거한 루트 종류"
   ]
  },
  {
   "cell_type": "code",
   "execution_count": 398,
   "metadata": {},
   "outputs": [
    {
     "data": {
      "text/plain": [
       "(326, 326)"
      ]
     },
     "execution_count": 398,
     "metadata": {},
     "output_type": "execute_result"
    }
   ],
   "source": [
    "from asyncore import poll3\n",
    "from itertools import permutations\n",
    "from itertools import combinations\n",
    "\n",
    "log_init=[('StartLoanApply'), ('UseLoanManage'), ('UsePrepayCalc'), ('UseDSRCalc'), ('GetCreditInfo')]\n",
    "log_columns=[('StartLoanApply'), ('UseLoanManage'), ('UsePrepayCalc'), ('UseDSRCalc'), ('GetCreditInfo')]\n",
    "\n",
    "p2=list(permutations(log_init, 2))\n",
    "p3=list(permutations(log_init, 3))\n",
    "p4=list(permutations(log_init, 4))\n",
    "p5=list(permutations(log_init, 5))\n",
    "\n",
    "n1=5\n",
    "n2=len(p2)\n",
    "n3=len(p3)\n",
    "n4=len(p4)\n",
    "n5=len(p5)\n",
    "\n",
    "for arr in p2:\n",
    "    log_columns.append(arr)\n",
    "for arr in p3:\n",
    "    log_columns.append(arr)\n",
    "for arr in p4:\n",
    "    log_columns.append(arr)\n",
    "for arr in p5:\n",
    "    log_columns.append(arr)\n",
    "    \n",
    "log_columns.append((''))\n",
    "\n",
    "len(log_columns), n1+n2+n3+n4+n5+1 # 5개의 스크린의 1, 2, 3, 4, 5 순열 합"
   ]
  },
  {
   "cell_type": "code",
   "execution_count": 399,
   "metadata": {},
   "outputs": [
    {
     "data": {
      "text/html": [
       "<div>\n",
       "<style scoped>\n",
       "    .dataframe tbody tr th:only-of-type {\n",
       "        vertical-align: middle;\n",
       "    }\n",
       "\n",
       "    .dataframe tbody tr th {\n",
       "        vertical-align: top;\n",
       "    }\n",
       "\n",
       "    .dataframe thead th {\n",
       "        text-align: right;\n",
       "    }\n",
       "</style>\n",
       "<table border=\"1\" class=\"dataframe\">\n",
       "  <thead>\n",
       "    <tr style=\"text-align: right;\">\n",
       "      <th></th>\n",
       "      <th>count</th>\n",
       "    </tr>\n",
       "  </thead>\n",
       "  <tbody>\n",
       "    <tr>\n",
       "      <th>StartLoanApply</th>\n",
       "      <td>0</td>\n",
       "    </tr>\n",
       "    <tr>\n",
       "      <th>UseLoanManage</th>\n",
       "      <td>0</td>\n",
       "    </tr>\n",
       "    <tr>\n",
       "      <th>UsePrepayCalc</th>\n",
       "      <td>0</td>\n",
       "    </tr>\n",
       "    <tr>\n",
       "      <th>UseDSRCalc</th>\n",
       "      <td>0</td>\n",
       "    </tr>\n",
       "    <tr>\n",
       "      <th>GetCreditInfo</th>\n",
       "      <td>0</td>\n",
       "    </tr>\n",
       "    <tr>\n",
       "      <th>...</th>\n",
       "      <td>...</td>\n",
       "    </tr>\n",
       "    <tr>\n",
       "      <th>(GetCreditInfo, UseDSRCalc, UseLoanManage, StartLoanApply, UsePrepayCalc)</th>\n",
       "      <td>0</td>\n",
       "    </tr>\n",
       "    <tr>\n",
       "      <th>(GetCreditInfo, UseDSRCalc, UseLoanManage, UsePrepayCalc, StartLoanApply)</th>\n",
       "      <td>0</td>\n",
       "    </tr>\n",
       "    <tr>\n",
       "      <th>(GetCreditInfo, UseDSRCalc, UsePrepayCalc, StartLoanApply, UseLoanManage)</th>\n",
       "      <td>0</td>\n",
       "    </tr>\n",
       "    <tr>\n",
       "      <th>(GetCreditInfo, UseDSRCalc, UsePrepayCalc, UseLoanManage, StartLoanApply)</th>\n",
       "      <td>0</td>\n",
       "    </tr>\n",
       "    <tr>\n",
       "      <th></th>\n",
       "      <td>1050222</td>\n",
       "    </tr>\n",
       "  </tbody>\n",
       "</table>\n",
       "<p>326 rows × 1 columns</p>\n",
       "</div>"
      ],
      "text/plain": [
       "                                                      count\n",
       "StartLoanApply                                            0\n",
       "UseLoanManage                                             0\n",
       "UsePrepayCalc                                             0\n",
       "UseDSRCalc                                                0\n",
       "GetCreditInfo                                             0\n",
       "...                                                     ...\n",
       "(GetCreditInfo, UseDSRCalc, UseLoanManage, Star...        0\n",
       "(GetCreditInfo, UseDSRCalc, UseLoanManage, UseP...        0\n",
       "(GetCreditInfo, UseDSRCalc, UsePrepayCalc, Star...        0\n",
       "(GetCreditInfo, UseDSRCalc, UsePrepayCalc, UseL...        0\n",
       "                                                    1050222\n",
       "\n",
       "[326 rows x 1 columns]"
      ]
     },
     "execution_count": 399,
     "metadata": {},
     "output_type": "execute_result"
    }
   ],
   "source": [
    "log_ngram_df=pd.DataFrame([0]*len(log_columns), index=log_columns, columns=['count'])\n",
    "\n",
    "count=0\n",
    "for i in range(len(route_list)):\n",
    "    if len(route_list[i])==1: count+=1\n",
    "log_ngram_df.loc['']=count\n",
    "\n",
    "log_ngram_df"
   ]
  },
  {
   "cell_type": "code",
   "execution_count": 401,
   "metadata": {},
   "outputs": [
    {
     "name": "stderr",
     "output_type": "stream",
     "text": [
      "100%|██████████| 3460762/3460762 [1:05:21<00:00, 882.49it/s] \n"
     ]
    },
    {
     "data": {
      "text/html": [
       "<div>\n",
       "<style scoped>\n",
       "    .dataframe tbody tr th:only-of-type {\n",
       "        vertical-align: middle;\n",
       "    }\n",
       "\n",
       "    .dataframe tbody tr th {\n",
       "        vertical-align: top;\n",
       "    }\n",
       "\n",
       "    .dataframe thead th {\n",
       "        text-align: right;\n",
       "    }\n",
       "</style>\n",
       "<table border=\"1\" class=\"dataframe\">\n",
       "  <thead>\n",
       "    <tr style=\"text-align: right;\">\n",
       "      <th></th>\n",
       "      <th>count</th>\n",
       "    </tr>\n",
       "  </thead>\n",
       "  <tbody>\n",
       "    <tr>\n",
       "      <th>StartLoanApply</th>\n",
       "      <td>1694042</td>\n",
       "    </tr>\n",
       "    <tr>\n",
       "      <th>UseLoanManage</th>\n",
       "      <td>1423937</td>\n",
       "    </tr>\n",
       "    <tr>\n",
       "      <th>UsePrepayCalc</th>\n",
       "      <td>5784</td>\n",
       "    </tr>\n",
       "    <tr>\n",
       "      <th>UseDSRCalc</th>\n",
       "      <td>3660</td>\n",
       "    </tr>\n",
       "    <tr>\n",
       "      <th>GetCreditInfo</th>\n",
       "      <td>2113765</td>\n",
       "    </tr>\n",
       "  </tbody>\n",
       "</table>\n",
       "</div>"
      ],
      "text/plain": [
       "                  count\n",
       "StartLoanApply  1694042\n",
       "UseLoanManage   1423937\n",
       "UsePrepayCalc      5784\n",
       "UseDSRCalc         3660\n",
       "GetCreditInfo   2113765"
      ]
     },
     "execution_count": 401,
     "metadata": {},
     "output_type": "execute_result"
    }
   ],
   "source": [
    "# screens=['StartLoanApply', 'UseLoanManage', 'UsePrepayCalc', 'UseDSRCalc', 'GetCreditInfo']\n",
    "\n",
    "for i in tqdm(range(len(route_list))):\n",
    "    if len(route_list[i])==1: continue\n",
    "    for n in range(1, len(route_list[i])):\n",
    "        # 원소 안의 2~5개의 순서 지킨 조합에서\n",
    "            # range에서도 1 빠지고 슬라이싱에서도 1 빠져서 머리 터지는 줄\n",
    "        for k in range(n+1, min(n+1+5, len(route_list[i])+1)):\n",
    "            # print(tuple(route_list[i][n:k]))\n",
    "            # 하나일 때랑 여러개 일 때 들어가는 [] 계층이 다름\n",
    "            if len(route_list[i][n:k])==1: \n",
    "                log_ngram_df.loc[route_list[i][n:k]]+=1\n",
    "            else: \n",
    "                try: \n",
    "                    log_ngram_df.loc[[tuple(route_list[i][n:k])]]+=1\n",
    "                except KeyError:\n",
    "                    continue\n",
    "log_ngram_df.head()"
   ]
  },
  {
   "cell_type": "code",
   "execution_count": 404,
   "metadata": {},
   "outputs": [
    {
     "data": {
      "text/html": [
       "<div>\n",
       "<style scoped>\n",
       "    .dataframe tbody tr th:only-of-type {\n",
       "        vertical-align: middle;\n",
       "    }\n",
       "\n",
       "    .dataframe tbody tr th {\n",
       "        vertical-align: top;\n",
       "    }\n",
       "\n",
       "    .dataframe thead th {\n",
       "        text-align: right;\n",
       "    }\n",
       "</style>\n",
       "<table border=\"1\" class=\"dataframe\">\n",
       "  <thead>\n",
       "    <tr style=\"text-align: right;\">\n",
       "      <th></th>\n",
       "      <th>count</th>\n",
       "    </tr>\n",
       "  </thead>\n",
       "  <tbody>\n",
       "    <tr>\n",
       "      <th>StartLoanApply</th>\n",
       "      <td>1694042</td>\n",
       "    </tr>\n",
       "    <tr>\n",
       "      <th>UseLoanManage</th>\n",
       "      <td>1423937</td>\n",
       "    </tr>\n",
       "    <tr>\n",
       "      <th>UsePrepayCalc</th>\n",
       "      <td>5784</td>\n",
       "    </tr>\n",
       "    <tr>\n",
       "      <th>UseDSRCalc</th>\n",
       "      <td>3660</td>\n",
       "    </tr>\n",
       "    <tr>\n",
       "      <th>GetCreditInfo</th>\n",
       "      <td>2113765</td>\n",
       "    </tr>\n",
       "    <tr>\n",
       "      <th>(StartLoanApply, UseLoanManage)</th>\n",
       "      <td>138206</td>\n",
       "    </tr>\n",
       "    <tr>\n",
       "      <th>(StartLoanApply, UsePrepayCalc)</th>\n",
       "      <td>6</td>\n",
       "    </tr>\n",
       "    <tr>\n",
       "      <th>(StartLoanApply, UseDSRCalc)</th>\n",
       "      <td>6</td>\n",
       "    </tr>\n",
       "    <tr>\n",
       "      <th>(StartLoanApply, GetCreditInfo)</th>\n",
       "      <td>175437</td>\n",
       "    </tr>\n",
       "    <tr>\n",
       "      <th>(UseLoanManage, StartLoanApply)</th>\n",
       "      <td>127845</td>\n",
       "    </tr>\n",
       "    <tr>\n",
       "      <th>(UseLoanManage, UsePrepayCalc)</th>\n",
       "      <td>2798</td>\n",
       "    </tr>\n",
       "    <tr>\n",
       "      <th>(UseLoanManage, UseDSRCalc)</th>\n",
       "      <td>2108</td>\n",
       "    </tr>\n",
       "    <tr>\n",
       "      <th>(UseLoanManage, GetCreditInfo)</th>\n",
       "      <td>704835</td>\n",
       "    </tr>\n",
       "    <tr>\n",
       "      <th>(UsePrepayCalc, StartLoanApply)</th>\n",
       "      <td>608</td>\n",
       "    </tr>\n",
       "    <tr>\n",
       "      <th>(UsePrepayCalc, UseLoanManage)</th>\n",
       "      <td>322</td>\n",
       "    </tr>\n",
       "    <tr>\n",
       "      <th>(UsePrepayCalc, UseDSRCalc)</th>\n",
       "      <td>349</td>\n",
       "    </tr>\n",
       "    <tr>\n",
       "      <th>(UsePrepayCalc, GetCreditInfo)</th>\n",
       "      <td>1230</td>\n",
       "    </tr>\n",
       "    <tr>\n",
       "      <th>(UseDSRCalc, StartLoanApply)</th>\n",
       "      <td>410</td>\n",
       "    </tr>\n",
       "    <tr>\n",
       "      <th>(UseDSRCalc, UseLoanManage)</th>\n",
       "      <td>164</td>\n",
       "    </tr>\n",
       "    <tr>\n",
       "      <th>(UseDSRCalc, UsePrepayCalc)</th>\n",
       "      <td>633</td>\n",
       "    </tr>\n",
       "  </tbody>\n",
       "</table>\n",
       "</div>"
      ],
      "text/plain": [
       "                                   count\n",
       "StartLoanApply                   1694042\n",
       "UseLoanManage                    1423937\n",
       "UsePrepayCalc                       5784\n",
       "UseDSRCalc                          3660\n",
       "GetCreditInfo                    2113765\n",
       "(StartLoanApply, UseLoanManage)   138206\n",
       "(StartLoanApply, UsePrepayCalc)        6\n",
       "(StartLoanApply, UseDSRCalc)           6\n",
       "(StartLoanApply, GetCreditInfo)   175437\n",
       "(UseLoanManage, StartLoanApply)   127845\n",
       "(UseLoanManage, UsePrepayCalc)      2798\n",
       "(UseLoanManage, UseDSRCalc)         2108\n",
       "(UseLoanManage, GetCreditInfo)    704835\n",
       "(UsePrepayCalc, StartLoanApply)      608\n",
       "(UsePrepayCalc, UseLoanManage)       322\n",
       "(UsePrepayCalc, UseDSRCalc)          349\n",
       "(UsePrepayCalc, GetCreditInfo)      1230\n",
       "(UseDSRCalc, StartLoanApply)         410\n",
       "(UseDSRCalc, UseLoanManage)          164\n",
       "(UseDSRCalc, UsePrepayCalc)          633"
      ]
     },
     "execution_count": 404,
     "metadata": {},
     "output_type": "execute_result"
    }
   ],
   "source": [
    "log_ngram_df.head(20)"
   ]
  },
  {
   "cell_type": "code",
   "execution_count": 402,
   "metadata": {},
   "outputs": [],
   "source": [
    "log_ngram_df.to_csv(\"../data/log_ngram_df.csv\", index=False)"
   ]
  },
  {
   "cell_type": "code",
   "execution_count": null,
   "metadata": {},
   "outputs": [],
   "source": []
  },
  {
   "cell_type": "code",
   "execution_count": null,
   "metadata": {},
   "outputs": [],
   "source": []
  }
 ],
 "metadata": {
  "kernelspec": {
   "display_name": "Python 3.7.13 ('smartfarm')",
   "language": "python",
   "name": "python3"
  },
  "language_info": {
   "codemirror_mode": {
    "name": "ipython",
    "version": 3
   },
   "file_extension": ".py",
   "mimetype": "text/x-python",
   "name": "python",
   "nbconvert_exporter": "python",
   "pygments_lexer": "ipython3",
   "version": "3.7.13"
  },
  "orig_nbformat": 4,
  "vscode": {
   "interpreter": {
    "hash": "2f339d95b8d17851c48fc92de03245aeb578afe773ced39b669b273fa397e1a6"
   }
  }
 },
 "nbformat": 4,
 "nbformat_minor": 2
}
