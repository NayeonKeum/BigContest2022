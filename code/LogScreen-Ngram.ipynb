{
 "cells": [
  {
   "cell_type": "code",
   "execution_count": 257,
   "metadata": {},
   "outputs": [],
   "source": [
    "import pandas as pd\n",
    "import numpy as np\n",
    "import matplotlib.pyplot as plt\n",
    "from tqdm import tqdm\n",
    "\n",
    "import warnings\n",
    "warnings.filterwarnings('ignore')"
   ]
  },
  {
   "cell_type": "code",
   "execution_count": 258,
   "metadata": {},
   "outputs": [],
   "source": [
    "# load\n",
    "loan_result=pd.read_csv(\"../data/loan_result.csv\")\n",
    "log_data=pd.read_csv(\"../data/log_data.csv\")\n",
    "user_spec=pd.read_csv(\"../data/user_spec.csv\")\n",
    "\n",
    "# columns localize\n",
    "loan_result.columns=['신청서_번호', '한도조회_일시', '금융사_번호', '상품_번호', '승인한도', '승인금리', '신청_여부(y)']\n",
    "log_data.columns=['유저_번호', '행동명', '행동일시', '운영체제', '앱_버전', '일_코드']\n",
    "user_spec.columns=['신청서_번호', '유저_번호', '유저_생년월일', '유저_성별', '생성일시', '한도조회_당시_유저_신용점수', '연소득', '근로형태', '입사연월', '고용형태', '주거소유형태', '대출희망금액', '대출_목적', '개인회생자_여부', '개인회생자_납입_완료_여부', '기대출수', '기대출금액'] # 건강보험 타입이 정의서에는 있는데 데이터엔 없는듯"
   ]
  },
  {
   "cell_type": "code",
   "execution_count": 259,
   "metadata": {},
   "outputs": [
    {
     "data": {
      "text/plain": [
       "(17843993, 6)"
      ]
     },
     "execution_count": 259,
     "metadata": {},
     "output_type": "execute_result"
    }
   ],
   "source": [
    "log_data.shape"
   ]
  },
  {
   "cell_type": "code",
   "execution_count": 260,
   "metadata": {},
   "outputs": [
    {
     "data": {
      "text/html": [
       "<div>\n",
       "<style scoped>\n",
       "    .dataframe tbody tr th:only-of-type {\n",
       "        vertical-align: middle;\n",
       "    }\n",
       "\n",
       "    .dataframe tbody tr th {\n",
       "        vertical-align: top;\n",
       "    }\n",
       "\n",
       "    .dataframe thead th {\n",
       "        text-align: right;\n",
       "    }\n",
       "</style>\n",
       "<table border=\"1\" class=\"dataframe\">\n",
       "  <thead>\n",
       "    <tr style=\"text-align: right;\">\n",
       "      <th></th>\n",
       "      <th>유저_번호</th>\n",
       "      <th>행동명</th>\n",
       "      <th>행동일시</th>\n",
       "      <th>운영체제</th>\n",
       "      <th>앱_버전</th>\n",
       "      <th>일_코드</th>\n",
       "    </tr>\n",
       "  </thead>\n",
       "  <tbody>\n",
       "    <tr>\n",
       "      <th>0</th>\n",
       "      <td>125129</td>\n",
       "      <td>UseLoanManage</td>\n",
       "      <td>2022-03-01 00:00:00</td>\n",
       "      <td>Android</td>\n",
       "      <td>3.8.0</td>\n",
       "      <td>2022-03-01</td>\n",
       "    </tr>\n",
       "    <tr>\n",
       "      <th>1</th>\n",
       "      <td>385811</td>\n",
       "      <td>Login</td>\n",
       "      <td>2022-03-01 00:00:00</td>\n",
       "      <td>Android</td>\n",
       "      <td>3.8.0</td>\n",
       "      <td>2022-03-01</td>\n",
       "    </tr>\n",
       "    <tr>\n",
       "      <th>2</th>\n",
       "      <td>720911</td>\n",
       "      <td>OpenApp</td>\n",
       "      <td>2022-03-01 00:00:00</td>\n",
       "      <td>iOS</td>\n",
       "      <td>3.6.0</td>\n",
       "      <td>2022-03-01</td>\n",
       "    </tr>\n",
       "    <tr>\n",
       "      <th>3</th>\n",
       "      <td>706858</td>\n",
       "      <td>UseLoanManage</td>\n",
       "      <td>2022-03-01 00:00:03</td>\n",
       "      <td>Android</td>\n",
       "      <td>3.8.0</td>\n",
       "      <td>2022-03-01</td>\n",
       "    </tr>\n",
       "    <tr>\n",
       "      <th>4</th>\n",
       "      <td>512341</td>\n",
       "      <td>EndLoanApply</td>\n",
       "      <td>2022-03-01 00:00:03</td>\n",
       "      <td>Android</td>\n",
       "      <td>3.8.0</td>\n",
       "      <td>2022-03-01</td>\n",
       "    </tr>\n",
       "  </tbody>\n",
       "</table>\n",
       "</div>"
      ],
      "text/plain": [
       "    유저_번호            행동명                 행동일시     운영체제   앱_버전        일_코드\n",
       "0  125129  UseLoanManage  2022-03-01 00:00:00  Android  3.8.0  2022-03-01\n",
       "1  385811          Login  2022-03-01 00:00:00  Android  3.8.0  2022-03-01\n",
       "2  720911        OpenApp  2022-03-01 00:00:00      iOS  3.6.0  2022-03-01\n",
       "3  706858  UseLoanManage  2022-03-01 00:00:03  Android  3.8.0  2022-03-01\n",
       "4  512341   EndLoanApply  2022-03-01 00:00:03  Android  3.8.0  2022-03-01"
      ]
     },
     "execution_count": 260,
     "metadata": {},
     "output_type": "execute_result"
    }
   ],
   "source": [
    "# log_data sort by time(asc)\n",
    "log_data=log_data.sort_values('행동일시').reset_index(drop=True)\n",
    "log_data.head()"
   ]
  },
  {
   "cell_type": "code",
   "execution_count": 261,
   "metadata": {},
   "outputs": [],
   "source": [
    "# Datetime 변환\n",
    "log_data['행동일시'] = pd.to_datetime(log_data['행동일시'])\n",
    "log_data['일_코드'] = pd.to_datetime(log_data['일_코드'])\n",
    "loan_result['한도조회_일시'] = pd.to_datetime(loan_result['한도조회_일시'])\n",
    "user_spec['생성일시'] = pd.to_datetime(user_spec['생성일시'])"
   ]
  },
  {
   "cell_type": "code",
   "execution_count": 262,
   "metadata": {},
   "outputs": [
    {
     "name": "stdout",
     "output_type": "stream",
     "text": [
      "370436\n"
     ]
    }
   ],
   "source": [
    "# user_spec & log_data\n",
    "users=set(user_spec['유저_번호'])\n",
    "log_user=set(log_data['유저_번호'])\n",
    "count=[]\n",
    "\n",
    "for num in log_user:\n",
    "    if num in users:\n",
    "        count.append(num)\n",
    "\n",
    "print(len(count))"
   ]
  },
  {
   "cell_type": "markdown",
   "metadata": {},
   "source": [
    "## 주요 경로\n",
    "### 1. 경로의 종류\n",
    "#### 1) 5개의 스크린\n",
    "- 한도조회시작(StartLoanApply), 대출관리서비스 이용(UseLoanManage), 여윳돈 계산기 이용(UsePrepayCalc), DSR 계산기 이용(UseDSRCalc), KCB 신용정보 조회(GetCreditInfo)\n",
    "- ['StartLoanApply', 'UseLoanManage', 'UsePrepayCalc', 'UseDSRCalc', 'GetCreditInfo']\n",
    "#### 2) 시작점-종료점\n",
    "- OpenApp부터 그 다음 OpenApp 까지\n",
    "\n",
    "### 2. 슬라이싱\n",
    "- 0. log_data에서 5개의 스크린만 뽑기\n",
    "- 1. log_data를 user별로 \n",
    "- 2. OpenApp 앞뒤를 쪼개서 여러개의 리스트로 합친\n",
    "- 3. 전체 route_list에 넣음\n",
    "- 4. 겹치는 것의 종류 확인\n",
    "    + 5!+4!+3!+2!+1!=153 보다 많다면 쪼개야하나.. 일단 최대 길이 찾아서 대기..\n",
    "- 5. value_counts()"
   ]
  },
  {
   "cell_type": "code",
   "execution_count": 263,
   "metadata": {},
   "outputs": [
    {
     "data": {
      "text/plain": [
       "(9587604, 17843993, 574778)"
      ]
     },
     "execution_count": 263,
     "metadata": {},
     "output_type": "execute_result"
    }
   ],
   "source": [
    "screens=['StartLoanApply', 'UseLoanManage', 'UsePrepayCalc', 'UseDSRCalc', 'GetCreditInfo']\n",
    "main_route_log_df=log_data[(log_data['행동명']==\"OpenApp\")|\n",
    "                           (log_data['행동명']==screens[0])|\n",
    "                           (log_data['행동명']==screens[1])|\n",
    "                           (log_data['행동명']==screens[2])|\n",
    "                           (log_data['행동명']==screens[3])|\n",
    "                           (log_data['행동명']==screens[4])\n",
    "                           ]\n",
    "main_route_log_df.reset_index(drop=True, inplace=True)\n",
    "len(main_route_log_df), len(log_data), len(set(main_route_log_df['유저_번호']))"
   ]
  },
  {
   "cell_type": "markdown",
   "metadata": {},
   "source": [
    "#### OpenApp 기준 슬라이싱"
   ]
  },
  {
   "cell_type": "code",
   "execution_count": 266,
   "metadata": {},
   "outputs": [
    {
     "name": "stderr",
     "output_type": "stream",
     "text": [
      "100%|██████████| 574778/574778 [35:09<00:00, 272.47it/s]   \n"
     ]
    }
   ],
   "source": [
    "users=list(set(main_route_log_df['유저_번호']))\n",
    "route_list=[]\n",
    "user_list=[]\n",
    "\n",
    "# target의 idx들(복수)를 list로 추출\n",
    "def list_idx(arr, target):\n",
    "    return [i for i in range(len(arr)) if arr[i]==target]\n",
    "\n",
    "# 유저별로 OpenApp 기준 슬라이싱\n",
    "for i in tqdm(range(len(users))):\n",
    "    df=main_route_log_df[main_route_log_df['유저_번호']==users[i]]\n",
    "    idx_list=list_idx(list(df['행동명']), 'OpenApp')\n",
    "    if len(idx_list)>0 and len(df)>0:\n",
    "        for i in range(len(idx_list)):\n",
    "            start=idx_list[i]\n",
    "            try:\n",
    "                end=idx_list[i+1]\n",
    "            except:\n",
    "                end=len(df)\n",
    "            route_list.append(list(df['행동명'].iloc[start:end]))\n",
    "            user_list.append(users[i])\n",
    "        # route_list.append([df['행동명'].iloc[idx_list[i]:min(idx_list[i+1], len(df))] for i in range(len(idx_list))])\n",
    "    else: continue"
   ]
  },
  {
   "cell_type": "markdown",
   "metadata": {},
   "source": [
    "- route_list와 user_list가 같은 idx를 공유"
   ]
  },
  {
   "cell_type": "code",
   "execution_count": 267,
   "metadata": {},
   "outputs": [
    {
     "data": {
      "text/plain": [
       "(3460762, 3460762)"
      ]
     },
     "execution_count": 267,
     "metadata": {},
     "output_type": "execute_result"
    }
   ],
   "source": [
    "len(route_list), len(user_list) # 같아야 함"
   ]
  },
  {
   "cell_type": "code",
   "execution_count": 269,
   "metadata": {},
   "outputs": [],
   "source": [
    "np.save('../data/route_list', np.array(route_list)) # 모든 루트\n",
    "np.save('../data/user_list', np.array(user_list)) # 해당 루트의 유저 번호(동일 idx)"
   ]
  },
  {
   "cell_type": "markdown",
   "metadata": {},
   "source": [
    "## 경로\n",
    "- 5개의 스크린을 기준으로 1~5개의 순서에 대한 permutation을 돌림\n",
    "- 0개부터 5개까지 [1 + 5 + 5*4 + 5*4*3 + 5*4*3*2 + 5*4*3*2*1 = **326**]\n",
    "- **326가지의 루트**가 있다"
   ]
  },
  {
   "cell_type": "code",
   "execution_count": 270,
   "metadata": {},
   "outputs": [
    {
     "data": {
      "text/plain": [
       "(326, 326)"
      ]
     },
     "execution_count": 270,
     "metadata": {},
     "output_type": "execute_result"
    }
   ],
   "source": [
    "from asyncore import poll3\n",
    "from itertools import permutations\n",
    "from itertools import combinations\n",
    "\n",
    "log_init=[('StartLoanApply'), ('UseLoanManage'), ('UsePrepayCalc'), ('UseDSRCalc'), ('GetCreditInfo')]\n",
    "log_columns=[('StartLoanApply'), ('UseLoanManage'), ('UsePrepayCalc'), ('UseDSRCalc'), ('GetCreditInfo')]\n",
    "\n",
    "p2=list(permutations(log_init, 2))\n",
    "p3=list(permutations(log_init, 3))\n",
    "p4=list(permutations(log_init, 4))\n",
    "p5=list(permutations(log_init, 5))\n",
    "\n",
    "n1=5\n",
    "n2=len(p2)\n",
    "n3=len(p3)\n",
    "n4=len(p4)\n",
    "n5=len(p5)\n",
    "\n",
    "for arr in p2:\n",
    "    log_columns.append(arr)\n",
    "for arr in p3:\n",
    "    log_columns.append(arr)\n",
    "for arr in p4:\n",
    "    log_columns.append(arr)\n",
    "for arr in p5:\n",
    "    log_columns.append(arr)\n",
    "    \n",
    "log_columns.append((''))\n",
    "\n",
    "len(log_columns), n1+n2+n3+n4+n5+1 # 5개의 스크린의 1, 2, 3, 4, 5 순열 합"
   ]
  },
  {
   "cell_type": "markdown",
   "metadata": {},
   "source": [
    "- 아무 활동도 하지 않은 경로의 개수"
   ]
  },
  {
   "cell_type": "code",
   "execution_count": 303,
   "metadata": {},
   "outputs": [
    {
     "name": "stdout",
     "output_type": "stream",
     "text": [
      "1050222명의 유저가 경로가 없음.\n"
     ]
    },
    {
     "data": {
      "text/html": [
       "<div>\n",
       "<style scoped>\n",
       "    .dataframe tbody tr th:only-of-type {\n",
       "        vertical-align: middle;\n",
       "    }\n",
       "\n",
       "    .dataframe tbody tr th {\n",
       "        vertical-align: top;\n",
       "    }\n",
       "\n",
       "    .dataframe thead th {\n",
       "        text-align: right;\n",
       "    }\n",
       "</style>\n",
       "<table border=\"1\" class=\"dataframe\">\n",
       "  <thead>\n",
       "    <tr style=\"text-align: right;\">\n",
       "      <th></th>\n",
       "      <th>count</th>\n",
       "    </tr>\n",
       "  </thead>\n",
       "  <tbody>\n",
       "    <tr>\n",
       "      <th>StartLoanApply</th>\n",
       "      <td>0</td>\n",
       "    </tr>\n",
       "    <tr>\n",
       "      <th>UseLoanManage</th>\n",
       "      <td>0</td>\n",
       "    </tr>\n",
       "    <tr>\n",
       "      <th>UsePrepayCalc</th>\n",
       "      <td>0</td>\n",
       "    </tr>\n",
       "    <tr>\n",
       "      <th>UseDSRCalc</th>\n",
       "      <td>0</td>\n",
       "    </tr>\n",
       "    <tr>\n",
       "      <th>GetCreditInfo</th>\n",
       "      <td>0</td>\n",
       "    </tr>\n",
       "    <tr>\n",
       "      <th>...</th>\n",
       "      <td>...</td>\n",
       "    </tr>\n",
       "    <tr>\n",
       "      <th>(GetCreditInfo, UseDSRCalc, UseLoanManage, StartLoanApply, UsePrepayCalc)</th>\n",
       "      <td>0</td>\n",
       "    </tr>\n",
       "    <tr>\n",
       "      <th>(GetCreditInfo, UseDSRCalc, UseLoanManage, UsePrepayCalc, StartLoanApply)</th>\n",
       "      <td>0</td>\n",
       "    </tr>\n",
       "    <tr>\n",
       "      <th>(GetCreditInfo, UseDSRCalc, UsePrepayCalc, StartLoanApply, UseLoanManage)</th>\n",
       "      <td>0</td>\n",
       "    </tr>\n",
       "    <tr>\n",
       "      <th>(GetCreditInfo, UseDSRCalc, UsePrepayCalc, UseLoanManage, StartLoanApply)</th>\n",
       "      <td>0</td>\n",
       "    </tr>\n",
       "    <tr>\n",
       "      <th></th>\n",
       "      <td>1050222</td>\n",
       "    </tr>\n",
       "  </tbody>\n",
       "</table>\n",
       "<p>326 rows × 1 columns</p>\n",
       "</div>"
      ],
      "text/plain": [
       "                                                      count\n",
       "StartLoanApply                                            0\n",
       "UseLoanManage                                             0\n",
       "UsePrepayCalc                                             0\n",
       "UseDSRCalc                                                0\n",
       "GetCreditInfo                                             0\n",
       "...                                                     ...\n",
       "(GetCreditInfo, UseDSRCalc, UseLoanManage, Star...        0\n",
       "(GetCreditInfo, UseDSRCalc, UseLoanManage, UseP...        0\n",
       "(GetCreditInfo, UseDSRCalc, UsePrepayCalc, Star...        0\n",
       "(GetCreditInfo, UseDSRCalc, UsePrepayCalc, UseL...        0\n",
       "                                                    1050222\n",
       "\n",
       "[326 rows x 1 columns]"
      ]
     },
     "execution_count": 303,
     "metadata": {},
     "output_type": "execute_result"
    }
   ],
   "source": [
    "log_ngram_df=pd.DataFrame([0]*len(log_columns), index=log_columns, columns=['count'])\n",
    "users_noroute=[]\n",
    "count=0\n",
    "for i in range(len(route_list)):\n",
    "    if len(route_list[i])==1: \n",
    "        count+=1\n",
    "        users_noroute.append(user_list[i])\n",
    "log_ngram_df.loc['']=count\n",
    "\n",
    "print(\"%d명의 유저가 경로가 없음.\"%(len(users_noroute)))\n",
    "log_ngram_df"
   ]
  },
  {
   "cell_type": "code",
   "execution_count": 304,
   "metadata": {},
   "outputs": [
    {
     "data": {
      "text/plain": [
       "[7, 11, 17, 24, 25]"
      ]
     },
     "execution_count": 304,
     "metadata": {},
     "output_type": "execute_result"
    }
   ],
   "source": [
    "users_noroute[:5]"
   ]
  },
  {
   "cell_type": "code",
   "execution_count": 272,
   "metadata": {},
   "outputs": [
    {
     "data": {
      "text/plain": [
       "326"
      ]
     },
     "execution_count": 272,
     "metadata": {},
     "output_type": "execute_result"
    }
   ],
   "source": [
    "# 역색인용 dict\n",
    "log_dict={}\n",
    "for col in log_columns:\n",
    "    log_dict[str(col)]=[]\n",
    "    \n",
    "len(log_dict.keys())"
   ]
  },
  {
   "cell_type": "code",
   "execution_count": 273,
   "metadata": {},
   "outputs": [
    {
     "name": "stderr",
     "output_type": "stream",
     "text": [
      "100%|██████████| 3460762/3460762 [2:34:41<00:00, 372.87it/s]    \n"
     ]
    },
    {
     "data": {
      "text/html": [
       "<div>\n",
       "<style scoped>\n",
       "    .dataframe tbody tr th:only-of-type {\n",
       "        vertical-align: middle;\n",
       "    }\n",
       "\n",
       "    .dataframe tbody tr th {\n",
       "        vertical-align: top;\n",
       "    }\n",
       "\n",
       "    .dataframe thead th {\n",
       "        text-align: right;\n",
       "    }\n",
       "</style>\n",
       "<table border=\"1\" class=\"dataframe\">\n",
       "  <thead>\n",
       "    <tr style=\"text-align: right;\">\n",
       "      <th></th>\n",
       "      <th>count</th>\n",
       "    </tr>\n",
       "  </thead>\n",
       "  <tbody>\n",
       "    <tr>\n",
       "      <th>StartLoanApply</th>\n",
       "      <td>1694042</td>\n",
       "    </tr>\n",
       "    <tr>\n",
       "      <th>UseLoanManage</th>\n",
       "      <td>1423936</td>\n",
       "    </tr>\n",
       "    <tr>\n",
       "      <th>UsePrepayCalc</th>\n",
       "      <td>5783</td>\n",
       "    </tr>\n",
       "    <tr>\n",
       "      <th>UseDSRCalc</th>\n",
       "      <td>3660</td>\n",
       "    </tr>\n",
       "    <tr>\n",
       "      <th>GetCreditInfo</th>\n",
       "      <td>2113762</td>\n",
       "    </tr>\n",
       "  </tbody>\n",
       "</table>\n",
       "</div>"
      ],
      "text/plain": [
       "                  count\n",
       "StartLoanApply  1694042\n",
       "UseLoanManage   1423936\n",
       "UsePrepayCalc      5783\n",
       "UseDSRCalc         3660\n",
       "GetCreditInfo   2113762"
      ]
     },
     "execution_count": 273,
     "metadata": {},
     "output_type": "execute_result"
    }
   ],
   "source": [
    "# screens=['StartLoanApply', 'UseLoanManage', 'UsePrepayCalc', 'UseDSRCalc', 'GetCreditInfo']\n",
    "\n",
    "# 조합별 개수 count와 역색인용 Dict 함께 돌리기\n",
    "for i in tqdm(range(len(route_list))):\n",
    "    if len(route_list[i])==1: continue\n",
    "    for n in range(1, len(route_list[i])):\n",
    "        # 원소 안의 2~5개의 순서 지킨 조합에서\n",
    "            # range에서도 1 빠지고 슬라이싱에서도 1 빠져서 머리 터지는 줄\n",
    "        for k in range(n+1, min(n+1+5, len(route_list[i])+1)):\n",
    "            # print(tuple(route_list[i][n:k]))\n",
    "            # 하나일 때랑 여러개 일 때 들어가는 [] 계층이 다름\n",
    "            if len(route_list[i][n:k])==1: \n",
    "                # count\n",
    "                log_ngram_df.loc[route_list[i][n:k]]+=1\n",
    "                # dict\n",
    "                log_dict[str(route_list[i][n:k][0])].append(i)\n",
    "            else: \n",
    "                try: \n",
    "                    # count\n",
    "                    log_ngram_df.loc[[tuple(route_list[i][n:k])]]+=1\n",
    "                    # dict\n",
    "                    log_dict[str(tuple(route_list[i][n:k]))].append(i)\n",
    "                except KeyError:\n",
    "                    continue\n",
    "# 역색인을 위한 dict 중복 제거\n",
    "for key in list(log_dict.keys()):\n",
    "    log_dict[key]=list(set(log_dict[key]))\n",
    "\n",
    "log_ngram_df.head()"
   ]
  },
  {
   "cell_type": "code",
   "execution_count": 369,
   "metadata": {},
   "outputs": [],
   "source": [
    "log_dict_user=log_dict.copy()\n",
    "\n",
    "for key in log_dict.keys():\n",
    "    users=[]\n",
    "    for i in range(len(log_dict[key])):\n",
    "        users.append(user_list[log_dict[key][i]])\n",
    "        \n",
    "    users=list(set(users))\n",
    "    users.sort()\n",
    "    \n",
    "    log_dict_user[key]=users"
   ]
  },
  {
   "cell_type": "code",
   "execution_count": 370,
   "metadata": {},
   "outputs": [
    {
     "data": {
      "text/plain": [
       "[1, 7, 12, 19]"
      ]
     },
     "execution_count": 370,
     "metadata": {},
     "output_type": "execute_result"
    }
   ],
   "source": [
    "log_dict_user[str(log_columns[6])]"
   ]
  },
  {
   "cell_type": "code",
   "execution_count": 372,
   "metadata": {},
   "outputs": [
    {
     "data": {
      "text/plain": [
       "[264896, 562407, 940087, 1654936, 2229883, 899198]"
      ]
     },
     "execution_count": 372,
     "metadata": {},
     "output_type": "execute_result"
    }
   ],
   "source": [
    "log_dict[str(log_columns[6])]"
   ]
  },
  {
   "cell_type": "code",
   "execution_count": 275,
   "metadata": {},
   "outputs": [],
   "source": [
    "log_ngram_df.to_csv(\"../data/log_ngram_df.csv\", index=False)\n",
    "np.save('../data/log_columns.npy' ,log_columns)\n",
    "\n",
    "import pickle\n",
    "\n",
    "with open('../data/log_dict.pkl','wb') as f:\n",
    "    pickle.dump(log_dict,f)\n",
    "    \n",
    "with open('../data/log_dict_user.pkl','wb') as f:\n",
    "    pickle.dump(log_dict_user,f)\n",
    "\n",
    "# with open('data_dict.pkl','rb') as f:\n",
    "#     mydict = pickle.load(f)"
   ]
  },
  {
   "cell_type": "markdown",
   "metadata": {},
   "source": [
    "---"
   ]
  },
  {
   "cell_type": "markdown",
   "metadata": {},
   "source": [
    "## 시각화"
   ]
  },
  {
   "cell_type": "markdown",
   "metadata": {},
   "source": [
    "- df로 그래프 그려줌"
   ]
  },
  {
   "cell_type": "code",
   "execution_count": 276,
   "metadata": {},
   "outputs": [],
   "source": [
    "def plot_log_cols(log_columns_df, n=-1, rotation=45):\n",
    "    if n==-1: n=len(log_columns_df)\n",
    "    log_columns_str=[str(x) for x in log_columns_df.index]\n",
    "    plt.bar(log_columns_str[:n], log_columns_df.iloc[:n]['count'])\n",
    "    plt.xticks(log_columns_str[:n], rotation=rotation, fontsize=8)\n",
    "    plt.show()"
   ]
  },
  {
   "cell_type": "code",
   "execution_count": 277,
   "metadata": {},
   "outputs": [
    {
     "data": {
      "text/plain": [
       "(5, 20, 60, 120, 120)"
      ]
     },
     "execution_count": 277,
     "metadata": {},
     "output_type": "execute_result"
    }
   ],
   "source": [
    "n1, n2, n3, n4, n5"
   ]
  },
  {
   "cell_type": "code",
   "execution_count": 278,
   "metadata": {},
   "outputs": [
    {
     "data": {
      "text/plain": [
       "StartLoanApply    1694042\n",
       "UseLoanManage     1423936\n",
       "UsePrepayCalc        5783\n",
       "UseDSRCalc           3660\n",
       "GetCreditInfo     2113762\n",
       "Name: count, dtype: int64"
      ]
     },
     "execution_count": 278,
     "metadata": {},
     "output_type": "execute_result"
    }
   ],
   "source": [
    "log_ngram_df.iloc[:n1]['count']"
   ]
  },
  {
   "cell_type": "code",
   "execution_count": 279,
   "metadata": {},
   "outputs": [
    {
     "data": {
      "image/png": "[encoded data removed]",
      "text/plain": [
       "<Figure size 432x288 with 1 Axes>"
      ]
     },
     "metadata": {
      "needs_background": "light"
     },
     "output_type": "display_data"
    }
   ],
   "source": [
    "plot_log_cols(log_ngram_df, n1)"
   ]
  },
  {
   "cell_type": "code",
   "execution_count": 300,
   "metadata": {},
   "outputs": [
    {
     "data": {
      "image/png": "[encoded data removed]",
      "text/plain": [
       "<Figure size 432x288 with 1 Axes>"
      ]
     },
     "metadata": {
      "needs_background": "light"
     },
     "output_type": "display_data"
    }
   ],
   "source": [
    "# 개수 순으로 정렬\n",
    "log_ngram_sort_df=log_ngram_df.sort_values(by=['count'], ascending=False)\n",
    "plot_log_cols(log_ngram_sort_df, n=20, rotation=90)\n"
   ]
  },
  {
   "cell_type": "code",
   "execution_count": 301,
   "metadata": {},
   "outputs": [
    {
     "data": {
      "text/html": [
       "<div>\n",
       "<style scoped>\n",
       "    .dataframe tbody tr th:only-of-type {\n",
       "        vertical-align: middle;\n",
       "    }\n",
       "\n",
       "    .dataframe tbody tr th {\n",
       "        vertical-align: top;\n",
       "    }\n",
       "\n",
       "    .dataframe thead th {\n",
       "        text-align: right;\n",
       "    }\n",
       "</style>\n",
       "<table border=\"1\" class=\"dataframe\">\n",
       "  <thead>\n",
       "    <tr style=\"text-align: right;\">\n",
       "      <th></th>\n",
       "      <th>count</th>\n",
       "    </tr>\n",
       "  </thead>\n",
       "  <tbody>\n",
       "    <tr>\n",
       "      <th>GetCreditInfo</th>\n",
       "      <td>2113762</td>\n",
       "    </tr>\n",
       "    <tr>\n",
       "      <th>StartLoanApply</th>\n",
       "      <td>1694042</td>\n",
       "    </tr>\n",
       "    <tr>\n",
       "      <th>UseLoanManage</th>\n",
       "      <td>1423936</td>\n",
       "    </tr>\n",
       "    <tr>\n",
       "      <th></th>\n",
       "      <td>1050222</td>\n",
       "    </tr>\n",
       "    <tr>\n",
       "      <th>(UseLoanManage, GetCreditInfo)</th>\n",
       "      <td>704835</td>\n",
       "    </tr>\n",
       "    <tr>\n",
       "      <th>(GetCreditInfo, UseLoanManage)</th>\n",
       "      <td>593102</td>\n",
       "    </tr>\n",
       "    <tr>\n",
       "      <th>(GetCreditInfo, StartLoanApply)</th>\n",
       "      <td>309160</td>\n",
       "    </tr>\n",
       "    <tr>\n",
       "      <th>(StartLoanApply, GetCreditInfo)</th>\n",
       "      <td>175437</td>\n",
       "    </tr>\n",
       "    <tr>\n",
       "      <th>(StartLoanApply, UseLoanManage)</th>\n",
       "      <td>138206</td>\n",
       "    </tr>\n",
       "    <tr>\n",
       "      <th>(UseLoanManage, StartLoanApply)</th>\n",
       "      <td>127845</td>\n",
       "    </tr>\n",
       "    <tr>\n",
       "      <th>(UseLoanManage, GetCreditInfo, StartLoanApply)</th>\n",
       "      <td>92385</td>\n",
       "    </tr>\n",
       "    <tr>\n",
       "      <th>(StartLoanApply, UseLoanManage, GetCreditInfo)</th>\n",
       "      <td>79123</td>\n",
       "    </tr>\n",
       "    <tr>\n",
       "      <th>(GetCreditInfo, UseLoanManage, StartLoanApply)</th>\n",
       "      <td>71593</td>\n",
       "    </tr>\n",
       "    <tr>\n",
       "      <th>(StartLoanApply, GetCreditInfo, UseLoanManage)</th>\n",
       "      <td>54148</td>\n",
       "    </tr>\n",
       "    <tr>\n",
       "      <th>(GetCreditInfo, StartLoanApply, UseLoanManage)</th>\n",
       "      <td>32916</td>\n",
       "    </tr>\n",
       "    <tr>\n",
       "      <th>(UseLoanManage, StartLoanApply, GetCreditInfo)</th>\n",
       "      <td>15512</td>\n",
       "    </tr>\n",
       "    <tr>\n",
       "      <th>UsePrepayCalc</th>\n",
       "      <td>5783</td>\n",
       "    </tr>\n",
       "    <tr>\n",
       "      <th>UseDSRCalc</th>\n",
       "      <td>3660</td>\n",
       "    </tr>\n",
       "    <tr>\n",
       "      <th>(UseLoanManage, UsePrepayCalc)</th>\n",
       "      <td>2798</td>\n",
       "    </tr>\n",
       "    <tr>\n",
       "      <th>(GetCreditInfo, UseLoanManage, UsePrepayCalc)</th>\n",
       "      <td>2401</td>\n",
       "    </tr>\n",
       "  </tbody>\n",
       "</table>\n",
       "</div>"
      ],
      "text/plain": [
       "                                                  count\n",
       "GetCreditInfo                                   2113762\n",
       "StartLoanApply                                  1694042\n",
       "UseLoanManage                                   1423936\n",
       "                                                1050222\n",
       "(UseLoanManage, GetCreditInfo)                   704835\n",
       "(GetCreditInfo, UseLoanManage)                   593102\n",
       "(GetCreditInfo, StartLoanApply)                  309160\n",
       "(StartLoanApply, GetCreditInfo)                  175437\n",
       "(StartLoanApply, UseLoanManage)                  138206\n",
       "(UseLoanManage, StartLoanApply)                  127845\n",
       "(UseLoanManage, GetCreditInfo, StartLoanApply)    92385\n",
       "(StartLoanApply, UseLoanManage, GetCreditInfo)    79123\n",
       "(GetCreditInfo, UseLoanManage, StartLoanApply)    71593\n",
       "(StartLoanApply, GetCreditInfo, UseLoanManage)    54148\n",
       "(GetCreditInfo, StartLoanApply, UseLoanManage)    32916\n",
       "(UseLoanManage, StartLoanApply, GetCreditInfo)    15512\n",
       "UsePrepayCalc                                      5783\n",
       "UseDSRCalc                                         3660\n",
       "(UseLoanManage, UsePrepayCalc)                     2798\n",
       "(GetCreditInfo, UseLoanManage, UsePrepayCalc)      2401"
      ]
     },
     "execution_count": 301,
     "metadata": {},
     "output_type": "execute_result"
    }
   ],
   "source": [
    "log_ngram_sort_df.head(20) "
   ]
  },
  {
   "cell_type": "markdown",
   "metadata": {},
   "source": [
    "- 상위 15% 파싱(min 190, count 48)"
   ]
  },
  {
   "cell_type": "code",
   "execution_count": 323,
   "metadata": {},
   "outputs": [
    {
     "data": {
      "text/html": [
       "<div>\n",
       "<style scoped>\n",
       "    .dataframe tbody tr th:only-of-type {\n",
       "        vertical-align: middle;\n",
       "    }\n",
       "\n",
       "    .dataframe tbody tr th {\n",
       "        vertical-align: top;\n",
       "    }\n",
       "\n",
       "    .dataframe thead th {\n",
       "        text-align: right;\n",
       "    }\n",
       "</style>\n",
       "<table border=\"1\" class=\"dataframe\">\n",
       "  <thead>\n",
       "    <tr style=\"text-align: right;\">\n",
       "      <th></th>\n",
       "      <th>count</th>\n",
       "    </tr>\n",
       "  </thead>\n",
       "  <tbody>\n",
       "    <tr>\n",
       "      <th>count</th>\n",
       "      <td>4.800000e+01</td>\n",
       "    </tr>\n",
       "    <tr>\n",
       "      <th>mean</th>\n",
       "      <td>1.814121e+05</td>\n",
       "    </tr>\n",
       "    <tr>\n",
       "      <th>std</th>\n",
       "      <td>4.594921e+05</td>\n",
       "    </tr>\n",
       "    <tr>\n",
       "      <th>min</th>\n",
       "      <td>1.900000e+02</td>\n",
       "    </tr>\n",
       "    <tr>\n",
       "      <th>25%</th>\n",
       "      <td>3.455000e+02</td>\n",
       "    </tr>\n",
       "    <tr>\n",
       "      <th>50%</th>\n",
       "      <td>1.107500e+03</td>\n",
       "    </tr>\n",
       "    <tr>\n",
       "      <th>75%</th>\n",
       "      <td>7.347550e+04</td>\n",
       "    </tr>\n",
       "    <tr>\n",
       "      <th>max</th>\n",
       "      <td>2.113762e+06</td>\n",
       "    </tr>\n",
       "  </tbody>\n",
       "</table>\n",
       "</div>"
      ],
      "text/plain": [
       "              count\n",
       "count  4.800000e+01\n",
       "mean   1.814121e+05\n",
       "std    4.594921e+05\n",
       "min    1.900000e+02\n",
       "25%    3.455000e+02\n",
       "50%    1.107500e+03\n",
       "75%    7.347550e+04\n",
       "max    2.113762e+06"
      ]
     },
     "execution_count": 323,
     "metadata": {},
     "output_type": "execute_result"
    }
   ],
   "source": [
    "log_ngram_sort_df_15=log_ngram_sort_df[:int(len(log_ngram_sort_df)*0.15)]\n",
    "log_ngram_sort_df_15.describe()"
   ]
  },
  {
   "cell_type": "markdown",
   "metadata": {},
   "source": [
    "- 첫 스크린 별로"
   ]
  },
  {
   "cell_type": "code",
   "execution_count": 283,
   "metadata": {},
   "outputs": [
    {
     "data": {
      "text/plain": [
       "['StartLoanApply',\n",
       " 'UseLoanManage',\n",
       " 'UsePrepayCalc',\n",
       " 'UseDSRCalc',\n",
       " 'GetCreditInfo']"
      ]
     },
     "execution_count": 283,
     "metadata": {},
     "output_type": "execute_result"
    }
   ],
   "source": [
    "screens\n",
    "# SL, UL, UP, UD, GC"
   ]
  },
  {
   "cell_type": "code",
   "execution_count": 324,
   "metadata": {},
   "outputs": [],
   "source": [
    "SL=[x for x in log_ngram_sort_df_15.drop(['']).index if x[0]==screens[0] or x==screens[0]]\n",
    "UL=[x for x in log_ngram_sort_df_15.drop(['']).index if x[0]==screens[1] or x==screens[1]]\n",
    "UP=[x for x in log_ngram_sort_df_15.drop(['']).index if x[0]==screens[2] or x==screens[2]]\n",
    "UD=[x for x in log_ngram_sort_df_15.drop(['']).index if x[0]==screens[3] or x==screens[3]]\n",
    "GC=[x for x in log_ngram_sort_df_15.drop(['']).index if x[0]==screens[4] or x==screens[4]]"
   ]
  },
  {
   "cell_type": "code",
   "execution_count": 325,
   "metadata": {},
   "outputs": [],
   "source": [
    "# log_ngram_sort_df_15.loc[[list(list(SL)[0])]]\n",
    "SL_df=log_ngram_sort_df_15.loc[list(SL)]\n",
    "UL_df=log_ngram_sort_df_15.loc[list(UL)]\n",
    "UP_df=log_ngram_sort_df_15.loc[list(UP)]\n",
    "UD_df=log_ngram_sort_df_15.loc[list(UD)]\n",
    "GC_df=log_ngram_sort_df_15.loc[list(GC)]"
   ]
  },
  {
   "cell_type": "code",
   "execution_count": 326,
   "metadata": {},
   "outputs": [],
   "source": [
    "def plot_log_cols_info(log_columns_df, n=-1, rotation=45):\n",
    "    if n==-1: n=len(log_columns_df)\n",
    "    log_columns_str=[str(x) for x in log_columns_df.index]\n",
    "    plt.title(log_columns_str[0]+\"의 분포\")\n",
    "    plt.bar(log_columns_str[:n], log_columns_df.iloc[:n]['count'])\n",
    "    plt.xticks(log_columns_str[:n], rotation=rotation, fontsize=8)\n",
    "    plt.show()\n",
    "    print(log_columns_df.describe())"
   ]
  },
  {
   "cell_type": "code",
   "execution_count": 327,
   "metadata": {},
   "outputs": [
    {
     "data": {
      "image/png": "[encoded data removed]",
      "text/plain": [
       "<Figure size 432x288 with 1 Axes>"
      ]
     },
     "metadata": {
      "needs_background": "light"
     },
     "output_type": "display_data"
    },
    {
     "name": "stdout",
     "output_type": "stream",
     "text": [
      "              count\n",
      "count  7.000000e+00\n",
      "mean   3.059449e+05\n",
      "std    6.155802e+05\n",
      "min    2.900000e+02\n",
      "25%    2.725800e+04\n",
      "50%    7.912300e+04\n",
      "75%    1.568215e+05\n",
      "max    1.694042e+06\n"
     ]
    }
   ],
   "source": [
    "plot_log_cols_info(SL_df, rotation=90)"
   ]
  },
  {
   "cell_type": "code",
   "execution_count": 328,
   "metadata": {},
   "outputs": [
    {
     "data": {
      "image/png": "[encoded data removed]",
      "text/plain": [
       "<Figure size 432x288 with 1 Axes>"
      ]
     },
     "metadata": {
      "needs_background": "light"
     },
     "output_type": "display_data"
    },
    {
     "name": "stdout",
     "output_type": "stream",
     "text": [
      "              count\n",
      "count  1.500000e+01\n",
      "mean   1.582213e+05\n",
      "std    3.940641e+05\n",
      "min    1.960000e+02\n",
      "25%    3.650000e+02\n",
      "50%    1.033000e+03\n",
      "75%    5.394850e+04\n",
      "max    1.423936e+06\n"
     ]
    },
    {
     "data": {
      "text/plain": [
       "(None,)"
      ]
     },
     "execution_count": 328,
     "metadata": {},
     "output_type": "execute_result"
    }
   ],
   "source": [
    "plot_log_cols_info(UL_df, rotation=90), \n"
   ]
  },
  {
   "cell_type": "code",
   "execution_count": 329,
   "metadata": {},
   "outputs": [
    {
     "data": {
      "image/png": "[encoded data removed]",
      "text/plain": [
       "<Figure size 432x288 with 1 Axes>"
      ]
     },
     "metadata": {
      "needs_background": "light"
     },
     "output_type": "display_data"
    },
    {
     "name": "stdout",
     "output_type": "stream",
     "text": [
      "             count\n",
      "count     7.000000\n",
      "mean   1296.428571\n",
      "std    2007.228509\n",
      "min     190.000000\n",
      "25%     335.500000\n",
      "50%     593.000000\n",
      "75%     919.000000\n",
      "max    5783.000000\n"
     ]
    },
    {
     "data": {
      "text/plain": [
       "(None,)"
      ]
     },
     "execution_count": 329,
     "metadata": {},
     "output_type": "execute_result"
    }
   ],
   "source": [
    "plot_log_cols_info(UP_df, rotation=90), "
   ]
  },
  {
   "cell_type": "code",
   "execution_count": 330,
   "metadata": {},
   "outputs": [
    {
     "data": {
      "image/png": "[encoded data removed]",
      "text/plain": [
       "<Figure size 432x288 with 1 Axes>"
      ]
     },
     "metadata": {
      "needs_background": "light"
     },
     "output_type": "display_data"
    },
    {
     "name": "stdout",
     "output_type": "stream",
     "text": [
      "             count\n",
      "count     5.000000\n",
      "mean   1129.000000\n",
      "std    1427.840677\n",
      "min     226.000000\n",
      "25%     410.000000\n",
      "50%     633.000000\n",
      "75%     716.000000\n",
      "max    3660.000000\n"
     ]
    },
    {
     "data": {
      "text/plain": [
       "(None,)"
      ]
     },
     "execution_count": 330,
     "metadata": {},
     "output_type": "execute_result"
    }
   ],
   "source": [
    "plot_log_cols_info(UD_df, rotation=90), "
   ]
  },
  {
   "cell_type": "code",
   "execution_count": 331,
   "metadata": {},
   "outputs": [
    {
     "data": {
      "image/png": "[encoded data removed]",
      "text/plain": [
       "<Figure size 432x288 with 1 Axes>"
      ]
     },
     "metadata": {
      "needs_background": "light"
     },
     "output_type": "display_data"
    },
    {
     "name": "stdout",
     "output_type": "stream",
     "text": [
      "              count\n",
      "count  1.300000e+01\n",
      "mean   2.406082e+05\n",
      "std    5.894178e+05\n",
      "min    2.100000e+02\n",
      "25%    2.890000e+02\n",
      "50%    1.828000e+03\n",
      "75%    7.159300e+04\n",
      "max    2.113762e+06\n"
     ]
    }
   ],
   "source": [
    "plot_log_cols_info(GC_df, rotation=90)"
   ]
  },
  {
   "cell_type": "markdown",
   "metadata": {},
   "source": [
    "- 색인"
   ]
  },
  {
   "cell_type": "code",
   "execution_count": 338,
   "metadata": {},
   "outputs": [
    {
     "data": {
      "text/plain": [
       "['StartLoanApply',\n",
       " 'UseLoanManage',\n",
       " 'UsePrepayCalc',\n",
       " 'UseDSRCalc',\n",
       " 'GetCreditInfo',\n",
       " ('StartLoanApply', 'UseLoanManage'),\n",
       " ('StartLoanApply', 'UsePrepayCalc'),\n",
       " ('StartLoanApply', 'UseDSRCalc'),\n",
       " ('StartLoanApply', 'GetCreditInfo'),\n",
       " ('UseLoanManage', 'StartLoanApply')]"
      ]
     },
     "execution_count": 338,
     "metadata": {},
     "output_type": "execute_result"
    }
   ],
   "source": [
    "log_columns[:10]"
   ]
  },
  {
   "cell_type": "code",
   "execution_count": 373,
   "metadata": {},
   "outputs": [
    {
     "data": {
      "text/plain": [
       "([264896, 562407, 940087, 1654936, 2229883, 899198],\n",
       " [1, 7, 12, 19],\n",
       " ('StartLoanApply', 'UsePrepayCalc'))"
      ]
     },
     "execution_count": 373,
     "metadata": {},
     "output_type": "execute_result"
    }
   ],
   "source": [
    "log_dict[str(tuple(log_columns[6]))], log_dict_user[str(tuple(log_columns[6]))], log_columns[6]"
   ]
  },
  {
   "cell_type": "code",
   "execution_count": 336,
   "metadata": {},
   "outputs": [
    {
     "data": {
      "text/html": [
       "<div>\n",
       "<style scoped>\n",
       "    .dataframe tbody tr th:only-of-type {\n",
       "        vertical-align: middle;\n",
       "    }\n",
       "\n",
       "    .dataframe tbody tr th {\n",
       "        vertical-align: top;\n",
       "    }\n",
       "\n",
       "    .dataframe thead th {\n",
       "        text-align: right;\n",
       "    }\n",
       "</style>\n",
       "<table border=\"1\" class=\"dataframe\">\n",
       "  <thead>\n",
       "    <tr style=\"text-align: right;\">\n",
       "      <th></th>\n",
       "      <th>count</th>\n",
       "      <th>rank</th>\n",
       "    </tr>\n",
       "  </thead>\n",
       "  <tbody>\n",
       "    <tr>\n",
       "      <th>GetCreditInfo</th>\n",
       "      <td>2113762</td>\n",
       "      <td>1</td>\n",
       "    </tr>\n",
       "    <tr>\n",
       "      <th>StartLoanApply</th>\n",
       "      <td>1694042</td>\n",
       "      <td>2</td>\n",
       "    </tr>\n",
       "    <tr>\n",
       "      <th>UseLoanManage</th>\n",
       "      <td>1423936</td>\n",
       "      <td>3</td>\n",
       "    </tr>\n",
       "    <tr>\n",
       "      <th></th>\n",
       "      <td>1050222</td>\n",
       "      <td>4</td>\n",
       "    </tr>\n",
       "    <tr>\n",
       "      <th>(UseLoanManage, GetCreditInfo)</th>\n",
       "      <td>704835</td>\n",
       "      <td>5</td>\n",
       "    </tr>\n",
       "    <tr>\n",
       "      <th>(GetCreditInfo, UseLoanManage)</th>\n",
       "      <td>593102</td>\n",
       "      <td>6</td>\n",
       "    </tr>\n",
       "    <tr>\n",
       "      <th>(GetCreditInfo, StartLoanApply)</th>\n",
       "      <td>309160</td>\n",
       "      <td>7</td>\n",
       "    </tr>\n",
       "    <tr>\n",
       "      <th>(StartLoanApply, GetCreditInfo)</th>\n",
       "      <td>175437</td>\n",
       "      <td>8</td>\n",
       "    </tr>\n",
       "    <tr>\n",
       "      <th>(StartLoanApply, UseLoanManage)</th>\n",
       "      <td>138206</td>\n",
       "      <td>9</td>\n",
       "    </tr>\n",
       "    <tr>\n",
       "      <th>(UseLoanManage, StartLoanApply)</th>\n",
       "      <td>127845</td>\n",
       "      <td>10</td>\n",
       "    </tr>\n",
       "    <tr>\n",
       "      <th>(UseLoanManage, GetCreditInfo, StartLoanApply)</th>\n",
       "      <td>92385</td>\n",
       "      <td>11</td>\n",
       "    </tr>\n",
       "    <tr>\n",
       "      <th>(StartLoanApply, UseLoanManage, GetCreditInfo)</th>\n",
       "      <td>79123</td>\n",
       "      <td>12</td>\n",
       "    </tr>\n",
       "    <tr>\n",
       "      <th>(GetCreditInfo, UseLoanManage, StartLoanApply)</th>\n",
       "      <td>71593</td>\n",
       "      <td>13</td>\n",
       "    </tr>\n",
       "    <tr>\n",
       "      <th>(StartLoanApply, GetCreditInfo, UseLoanManage)</th>\n",
       "      <td>54148</td>\n",
       "      <td>14</td>\n",
       "    </tr>\n",
       "    <tr>\n",
       "      <th>(GetCreditInfo, StartLoanApply, UseLoanManage)</th>\n",
       "      <td>32916</td>\n",
       "      <td>15</td>\n",
       "    </tr>\n",
       "    <tr>\n",
       "      <th>(UseLoanManage, StartLoanApply, GetCreditInfo)</th>\n",
       "      <td>15512</td>\n",
       "      <td>16</td>\n",
       "    </tr>\n",
       "    <tr>\n",
       "      <th>UsePrepayCalc</th>\n",
       "      <td>5783</td>\n",
       "      <td>17</td>\n",
       "    </tr>\n",
       "    <tr>\n",
       "      <th>UseDSRCalc</th>\n",
       "      <td>3660</td>\n",
       "      <td>18</td>\n",
       "    </tr>\n",
       "    <tr>\n",
       "      <th>(UseLoanManage, UsePrepayCalc)</th>\n",
       "      <td>2798</td>\n",
       "      <td>19</td>\n",
       "    </tr>\n",
       "    <tr>\n",
       "      <th>(GetCreditInfo, UseLoanManage, UsePrepayCalc)</th>\n",
       "      <td>2401</td>\n",
       "      <td>20</td>\n",
       "    </tr>\n",
       "    <tr>\n",
       "      <th>(UseLoanManage, UseDSRCalc)</th>\n",
       "      <td>2108</td>\n",
       "      <td>21</td>\n",
       "    </tr>\n",
       "    <tr>\n",
       "      <th>(GetCreditInfo, UseLoanManage, UseDSRCalc)</th>\n",
       "      <td>1828</td>\n",
       "      <td>22</td>\n",
       "    </tr>\n",
       "    <tr>\n",
       "      <th>(UsePrepayCalc, GetCreditInfo)</th>\n",
       "      <td>1230</td>\n",
       "      <td>23</td>\n",
       "    </tr>\n",
       "    <tr>\n",
       "      <th>(GetCreditInfo, UsePrepayCalc)</th>\n",
       "      <td>1182</td>\n",
       "      <td>24</td>\n",
       "    </tr>\n",
       "    <tr>\n",
       "      <th>(UseLoanManage, GetCreditInfo, UsePrepayCalc)</th>\n",
       "      <td>1033</td>\n",
       "      <td>25</td>\n",
       "    </tr>\n",
       "    <tr>\n",
       "      <th>(GetCreditInfo, UseDSRCalc)</th>\n",
       "      <td>993</td>\n",
       "      <td>26</td>\n",
       "    </tr>\n",
       "    <tr>\n",
       "      <th>(UseLoanManage, GetCreditInfo, UseDSRCalc)</th>\n",
       "      <td>844</td>\n",
       "      <td>27</td>\n",
       "    </tr>\n",
       "    <tr>\n",
       "      <th>(UseDSRCalc, GetCreditInfo)</th>\n",
       "      <td>716</td>\n",
       "      <td>28</td>\n",
       "    </tr>\n",
       "    <tr>\n",
       "      <th>(UseDSRCalc, UsePrepayCalc)</th>\n",
       "      <td>633</td>\n",
       "      <td>29</td>\n",
       "    </tr>\n",
       "    <tr>\n",
       "      <th>(UsePrepayCalc, StartLoanApply)</th>\n",
       "      <td>608</td>\n",
       "      <td>30</td>\n",
       "    </tr>\n",
       "    <tr>\n",
       "      <th>(UsePrepayCalc, GetCreditInfo, UseLoanManage)</th>\n",
       "      <td>593</td>\n",
       "      <td>31</td>\n",
       "    </tr>\n",
       "    <tr>\n",
       "      <th>(UseLoanManage, UsePrepayCalc, GetCreditInfo)</th>\n",
       "      <td>592</td>\n",
       "      <td>32</td>\n",
       "    </tr>\n",
       "    <tr>\n",
       "      <th>(UseDSRCalc, StartLoanApply)</th>\n",
       "      <td>410</td>\n",
       "      <td>33</td>\n",
       "    </tr>\n",
       "    <tr>\n",
       "      <th>(UseLoanManage, UseDSRCalc, GetCreditInfo)</th>\n",
       "      <td>395</td>\n",
       "      <td>34</td>\n",
       "    </tr>\n",
       "    <tr>\n",
       "      <th>(StartLoanApply, GetCreditInfo, UseLoanManage, UsePrepayCalc)</th>\n",
       "      <td>368</td>\n",
       "      <td>35</td>\n",
       "    </tr>\n",
       "    <tr>\n",
       "      <th>(UsePrepayCalc, UseDSRCalc)</th>\n",
       "      <td>349</td>\n",
       "      <td>36</td>\n",
       "    </tr>\n",
       "    <tr>\n",
       "      <th>(UseLoanManage, UseDSRCalc, UsePrepayCalc)</th>\n",
       "      <td>335</td>\n",
       "      <td>37</td>\n",
       "    </tr>\n",
       "    <tr>\n",
       "      <th>(UsePrepayCalc, UseLoanManage)</th>\n",
       "      <td>322</td>\n",
       "      <td>38</td>\n",
       "    </tr>\n",
       "    <tr>\n",
       "      <th>(StartLoanApply, GetCreditInfo, UseLoanManage, UseDSRCalc)</th>\n",
       "      <td>290</td>\n",
       "      <td>39</td>\n",
       "    </tr>\n",
       "    <tr>\n",
       "      <th>(GetCreditInfo, UseLoanManage, UseDSRCalc, UsePrepayCalc)</th>\n",
       "      <td>289</td>\n",
       "      <td>40</td>\n",
       "    </tr>\n",
       "    <tr>\n",
       "      <th>(UseLoanManage, UsePrepayCalc, StartLoanApply)</th>\n",
       "      <td>275</td>\n",
       "      <td>41</td>\n",
       "    </tr>\n",
       "    <tr>\n",
       "      <th>(GetCreditInfo, UseDSRCalc, UsePrepayCalc)</th>\n",
       "      <td>236</td>\n",
       "      <td>42</td>\n",
       "    </tr>\n",
       "    <tr>\n",
       "      <th>(GetCreditInfo, UseLoanManage, UsePrepayCalc, StartLoanApply)</th>\n",
       "      <td>234</td>\n",
       "      <td>43</td>\n",
       "    </tr>\n",
       "    <tr>\n",
       "      <th>(UseLoanManage, UseDSRCalc, StartLoanApply)</th>\n",
       "      <td>231</td>\n",
       "      <td>44</td>\n",
       "    </tr>\n",
       "    <tr>\n",
       "      <th>(UseDSRCalc, GetCreditInfo, UseLoanManage)</th>\n",
       "      <td>226</td>\n",
       "      <td>45</td>\n",
       "    </tr>\n",
       "    <tr>\n",
       "      <th>(GetCreditInfo, UseLoanManage, UseDSRCalc, StartLoanApply)</th>\n",
       "      <td>210</td>\n",
       "      <td>46</td>\n",
       "    </tr>\n",
       "    <tr>\n",
       "      <th>(UseLoanManage, GetCreditInfo, UseDSRCalc, UsePrepayCalc)</th>\n",
       "      <td>196</td>\n",
       "      <td>47</td>\n",
       "    </tr>\n",
       "    <tr>\n",
       "      <th>(UsePrepayCalc, UseLoanManage, GetCreditInfo)</th>\n",
       "      <td>190</td>\n",
       "      <td>48</td>\n",
       "    </tr>\n",
       "  </tbody>\n",
       "</table>\n",
       "</div>"
      ],
      "text/plain": [
       "                                                      count  rank\n",
       "GetCreditInfo                                       2113762     1\n",
       "StartLoanApply                                      1694042     2\n",
       "UseLoanManage                                       1423936     3\n",
       "                                                    1050222     4\n",
       "(UseLoanManage, GetCreditInfo)                       704835     5\n",
       "(GetCreditInfo, UseLoanManage)                       593102     6\n",
       "(GetCreditInfo, StartLoanApply)                      309160     7\n",
       "(StartLoanApply, GetCreditInfo)                      175437     8\n",
       "(StartLoanApply, UseLoanManage)                      138206     9\n",
       "(UseLoanManage, StartLoanApply)                      127845    10\n",
       "(UseLoanManage, GetCreditInfo, StartLoanApply)        92385    11\n",
       "(StartLoanApply, UseLoanManage, GetCreditInfo)        79123    12\n",
       "(GetCreditInfo, UseLoanManage, StartLoanApply)        71593    13\n",
       "(StartLoanApply, GetCreditInfo, UseLoanManage)        54148    14\n",
       "(GetCreditInfo, StartLoanApply, UseLoanManage)        32916    15\n",
       "(UseLoanManage, StartLoanApply, GetCreditInfo)        15512    16\n",
       "UsePrepayCalc                                          5783    17\n",
       "UseDSRCalc                                             3660    18\n",
       "(UseLoanManage, UsePrepayCalc)                         2798    19\n",
       "(GetCreditInfo, UseLoanManage, UsePrepayCalc)          2401    20\n",
       "(UseLoanManage, UseDSRCalc)                            2108    21\n",
       "(GetCreditInfo, UseLoanManage, UseDSRCalc)             1828    22\n",
       "(UsePrepayCalc, GetCreditInfo)                         1230    23\n",
       "(GetCreditInfo, UsePrepayCalc)                         1182    24\n",
       "(UseLoanManage, GetCreditInfo, UsePrepayCalc)          1033    25\n",
       "(GetCreditInfo, UseDSRCalc)                             993    26\n",
       "(UseLoanManage, GetCreditInfo, UseDSRCalc)              844    27\n",
       "(UseDSRCalc, GetCreditInfo)                             716    28\n",
       "(UseDSRCalc, UsePrepayCalc)                             633    29\n",
       "(UsePrepayCalc, StartLoanApply)                         608    30\n",
       "(UsePrepayCalc, GetCreditInfo, UseLoanManage)           593    31\n",
       "(UseLoanManage, UsePrepayCalc, GetCreditInfo)           592    32\n",
       "(UseDSRCalc, StartLoanApply)                            410    33\n",
       "(UseLoanManage, UseDSRCalc, GetCreditInfo)              395    34\n",
       "(StartLoanApply, GetCreditInfo, UseLoanManage, ...      368    35\n",
       "(UsePrepayCalc, UseDSRCalc)                             349    36\n",
       "(UseLoanManage, UseDSRCalc, UsePrepayCalc)              335    37\n",
       "(UsePrepayCalc, UseLoanManage)                          322    38\n",
       "(StartLoanApply, GetCreditInfo, UseLoanManage, ...      290    39\n",
       "(GetCreditInfo, UseLoanManage, UseDSRCalc, UseP...      289    40\n",
       "(UseLoanManage, UsePrepayCalc, StartLoanApply)          275    41\n",
       "(GetCreditInfo, UseDSRCalc, UsePrepayCalc)              236    42\n",
       "(GetCreditInfo, UseLoanManage, UsePrepayCalc, S...      234    43\n",
       "(UseLoanManage, UseDSRCalc, StartLoanApply)             231    44\n",
       "(UseDSRCalc, GetCreditInfo, UseLoanManage)              226    45\n",
       "(GetCreditInfo, UseLoanManage, UseDSRCalc, Star...      210    46\n",
       "(UseLoanManage, GetCreditInfo, UseDSRCalc, UseP...      196    47\n",
       "(UsePrepayCalc, UseLoanManage, GetCreditInfo)           190    48"
      ]
     },
     "execution_count": 336,
     "metadata": {},
     "output_type": "execute_result"
    }
   ],
   "source": [
    "# 중요도?\n",
    "log_ngram_sort_df_15['rank']=[x for x in range(1, 49)]\n",
    "log_ngram_sort_df_15"
   ]
  },
  {
   "cell_type": "code",
   "execution_count": null,
   "metadata": {},
   "outputs": [],
   "source": []
  },
  {
   "cell_type": "code",
   "execution_count": null,
   "metadata": {},
   "outputs": [],
   "source": []
  },
  {
   "cell_type": "code",
   "execution_count": null,
   "metadata": {},
   "outputs": [],
   "source": []
  }
 ],
 "metadata": {
  "kernelspec": {
   "display_name": "Python 3.7.13 ('smartfarm')",
   "language": "python",
   "name": "python3"
  },
  "language_info": {
   "codemirror_mode": {
    "name": "ipython",
    "version": 3
   },
   "file_extension": ".py",
   "mimetype": "text/x-python",
   "name": "python",
   "nbconvert_exporter": "python",
   "pygments_lexer": "ipython3",
   "version": "3.7.13"
  },
  "orig_nbformat": 4,
  "vscode": {
   "interpreter": {
    "hash": "2f339d95b8d17851c48fc92de03245aeb578afe773ced39b669b273fa397e1a6"
   }
  }
 },
 "nbformat": 4,
 "nbformat_minor": 2
}
