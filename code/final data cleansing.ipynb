{
 "cells": [
  {
   "cell_type": "code",
   "execution_count": 1,
   "id": "4298cb05",
   "metadata": {},
   "outputs": [],
   "source": [
    "import pandas as pd\n",
    "import numpy as np\n",
    "import seaborn as sns\n",
    "import matplotlib.pyplot as plt\n",
    "import matplotlib\n",
    "import glob\n",
    "import os\n",
    "import seaborn as sns\n",
    "from matplotlib import font_manager, rc\n",
    "font_name = font_manager.FontProperties(fname=\"c:/Windows/Fonts/malgun.ttf\").get_name()\n",
    "rc('font', family=font_name)\n",
    "import warnings\n",
    "warnings.filterwarnings(\"ignore\")"
   ]
  },
  {
   "cell_type": "code",
   "execution_count": 539,
   "id": "d05d80b4",
   "metadata": {},
   "outputs": [],
   "source": [
    "loan_df = pd.read_csv(\"loan_result.csv\")\n",
    "#log_df = pd.read_csv(\"log_data.csv\")\n",
    "user_df = pd.read_csv(\"user_spec.csv\")"
   ]
  },
  {
   "cell_type": "code",
   "execution_count": 540,
   "id": "c64d8d6b",
   "metadata": {},
   "outputs": [
    {
     "data": {
      "text/html": [
       "<div>\n",
       "<style scoped>\n",
       "    .dataframe tbody tr th:only-of-type {\n",
       "        vertical-align: middle;\n",
       "    }\n",
       "\n",
       "    .dataframe tbody tr th {\n",
       "        vertical-align: top;\n",
       "    }\n",
       "\n",
       "    .dataframe thead th {\n",
       "        text-align: right;\n",
       "    }\n",
       "</style>\n",
       "<table border=\"1\" class=\"dataframe\">\n",
       "  <thead>\n",
       "    <tr style=\"text-align: right;\">\n",
       "      <th></th>\n",
       "      <th>신청서_번호</th>\n",
       "      <th>한도조회_일시</th>\n",
       "      <th>금융사_번호</th>\n",
       "      <th>상품번호</th>\n",
       "      <th>승인한도</th>\n",
       "      <th>승인금리</th>\n",
       "      <th>신청_여부(타겟)</th>\n",
       "    </tr>\n",
       "  </thead>\n",
       "  <tbody>\n",
       "    <tr>\n",
       "      <th>0</th>\n",
       "      <td>1748340</td>\n",
       "      <td>2022-06-07 13:05:41</td>\n",
       "      <td>7</td>\n",
       "      <td>191</td>\n",
       "      <td>42000000.0</td>\n",
       "      <td>13.6</td>\n",
       "      <td>NaN</td>\n",
       "    </tr>\n",
       "    <tr>\n",
       "      <th>1</th>\n",
       "      <td>1748340</td>\n",
       "      <td>2022-06-07 13:05:41</td>\n",
       "      <td>25</td>\n",
       "      <td>169</td>\n",
       "      <td>24000000.0</td>\n",
       "      <td>17.9</td>\n",
       "      <td>NaN</td>\n",
       "    </tr>\n",
       "    <tr>\n",
       "      <th>2</th>\n",
       "      <td>1748340</td>\n",
       "      <td>2022-06-07 13:05:41</td>\n",
       "      <td>2</td>\n",
       "      <td>7</td>\n",
       "      <td>24000000.0</td>\n",
       "      <td>18.5</td>\n",
       "      <td>NaN</td>\n",
       "    </tr>\n",
       "    <tr>\n",
       "      <th>3</th>\n",
       "      <td>1748340</td>\n",
       "      <td>2022-06-07 13:05:41</td>\n",
       "      <td>4</td>\n",
       "      <td>268</td>\n",
       "      <td>29000000.0</td>\n",
       "      <td>10.8</td>\n",
       "      <td>NaN</td>\n",
       "    </tr>\n",
       "    <tr>\n",
       "      <th>4</th>\n",
       "      <td>1748340</td>\n",
       "      <td>2022-06-07 13:05:41</td>\n",
       "      <td>11</td>\n",
       "      <td>118</td>\n",
       "      <td>5000000.0</td>\n",
       "      <td>16.4</td>\n",
       "      <td>NaN</td>\n",
       "    </tr>\n",
       "  </tbody>\n",
       "</table>\n",
       "</div>"
      ],
      "text/plain": [
       "    신청서_번호              한도조회_일시  금융사_번호  상품번호        승인한도  승인금리  신청_여부(타겟)\n",
       "0  1748340  2022-06-07 13:05:41       7   191  42000000.0  13.6        NaN\n",
       "1  1748340  2022-06-07 13:05:41      25   169  24000000.0  17.9        NaN\n",
       "2  1748340  2022-06-07 13:05:41       2     7  24000000.0  18.5        NaN\n",
       "3  1748340  2022-06-07 13:05:41       4   268  29000000.0  10.8        NaN\n",
       "4  1748340  2022-06-07 13:05:41      11   118   5000000.0  16.4        NaN"
      ]
     },
     "execution_count": 540,
     "metadata": {},
     "output_type": "execute_result"
    }
   ],
   "source": [
    "loan_df.columns = [\"신청서_번호\",\"한도조회_일시\",\"금융사_번호\",\"상품번호\",\"승인한도\",\"승인금리\",\"신청_여부(타겟)\"]\n",
    "loan_df.head()"
   ]
  },
  {
   "cell_type": "code",
   "execution_count": 541,
   "id": "f3c2da86",
   "metadata": {},
   "outputs": [],
   "source": [
    "user_df.columns = [\"신청서_번호\",\"유저_번호\",\"유저_생년월일\",\"유저_성별\",\"생성일시\",\"한도조회_당시_유저_신용점수\",\n",
    "                  \"연소득\",\"근로형태\",\"입사연월\",\"고용형태\",\"주거소유형태\",\"대출희망금액\",\"대출_목적\",\n",
    "                  \"개인회생자_여부\",\"개인회생자_납입_완료_여부\",\"기대출수\",\"기대출금액\"]"
   ]
  },
  {
   "cell_type": "code",
   "execution_count": 137,
   "id": "7cb385ce",
   "metadata": {},
   "outputs": [],
   "source": [
    "# 승인한도가 없는 데이터 삭제하기\n",
    "loan_df_null = loan_df[loan_df[\"승인한도\"].isnull()]"
   ]
  },
  {
   "cell_type": "code",
   "execution_count": 138,
   "id": "d347ef47",
   "metadata": {},
   "outputs": [],
   "source": [
    "user_df_drop_list = set(loan_df_null['신청서_번호'])\n",
    "user_df.drop(user_df[user_df['신청서_번호'].isin(user_df_drop_list)].index,inplace=True)\n",
    "user_df.sort_values(by = '생성일시',ascending = True,inplace = True)# 날짜순서로 sort\n",
    "user_df.reset_index(drop = True,inplace = True)"
   ]
  },
  {
   "cell_type": "code",
   "execution_count": 139,
   "id": "8ff9d71f",
   "metadata": {},
   "outputs": [
    {
     "data": {
      "text/plain": [
       "신청서_번호                   0\n",
       "유저_번호                    0\n",
       "유저_생년월일              12903\n",
       "유저_성별                12903\n",
       "생성일시                     0\n",
       "한도조회_당시_유저_신용점수     104459\n",
       "연소득                     90\n",
       "근로형태                    85\n",
       "입사연월                170626\n",
       "고용형태                    85\n",
       "주거소유형태                  85\n",
       "대출희망금액                  85\n",
       "대출_목적                   85\n",
       "개인회생자_여부            584678\n",
       "개인회생자_납입_완료_여부     1196880\n",
       "기대출수                197572\n",
       "기대출금액               312331\n",
       "dtype: int64"
      ]
     },
     "execution_count": 139,
     "metadata": {},
     "output_type": "execute_result"
    }
   ],
   "source": [
    "user_df.isnull().sum()"
   ]
  },
  {
   "cell_type": "markdown",
   "id": "543c06a5",
   "metadata": {},
   "source": [
    "### 85개의 결측 빼기\n",
    "- 대출_목적, 희망금액 ... 등 결측치가 많은 85명 우선적으로 처리하기"
   ]
  },
  {
   "cell_type": "code",
   "execution_count": 140,
   "id": "55bfab72",
   "metadata": {},
   "outputs": [],
   "source": [
    "user_df = user_df[user_df[\"대출_목적\"].notnull()]"
   ]
  },
  {
   "cell_type": "code",
   "execution_count": 141,
   "id": "186a341e",
   "metadata": {},
   "outputs": [
    {
     "data": {
      "text/plain": [
       "신청서_번호                   0\n",
       "유저_번호                    0\n",
       "유저_생년월일              12901\n",
       "유저_성별                12901\n",
       "생성일시                     0\n",
       "한도조회_당시_유저_신용점수     104456\n",
       "연소득                      5\n",
       "근로형태                     0\n",
       "입사연월                170541\n",
       "고용형태                     0\n",
       "주거소유형태                   0\n",
       "대출희망금액                   0\n",
       "대출_목적                    0\n",
       "개인회생자_여부            584593\n",
       "개인회생자_납입_완료_여부     1196795\n",
       "기대출수                197556\n",
       "기대출금액               312309\n",
       "dtype: int64"
      ]
     },
     "execution_count": 141,
     "metadata": {},
     "output_type": "execute_result"
    }
   ],
   "source": [
    "user_df.isnull().sum()"
   ]
  },
  {
   "cell_type": "markdown",
   "id": "012f06ac",
   "metadata": {},
   "source": [
    "### 개인회생자 처리하기"
   ]
  },
  {
   "cell_type": "code",
   "execution_count": 142,
   "id": "2c466d6c",
   "metadata": {},
   "outputs": [],
   "source": [
    "user_df.loc[(user_df['개인회생자_여부']==0)&\n",
    "                      (user_df['개인회생자_납입_완료_여부']==1),'개인회생자_납입_완료_여부']=0 # 개인회생자가 아니면서 납입완료된 유저는 3명 -> 완료여부 0으로 변경\n",
    "\n",
    "user_df.loc[(user_df['개인회생자_여부']==0)&\n",
    "                      (user_df['개인회생자_납입_완료_여부'].isnull()),'개인회생자_납입_완료_여부'] = 0"
   ]
  },
  {
   "cell_type": "code",
   "execution_count": 143,
   "id": "9a41e96c",
   "metadata": {},
   "outputs": [],
   "source": [
    "user_df['개인회생자'] = 10 #null값인 데이터는 처리 못한 상황\n",
    "\n",
    "user_df.loc[(user_df['개인회생자_여부']==0)\n",
    "                      &(user_df['개인회생자_납입_완료_여부']==0),'개인회생자'] = 0\n",
    "\n",
    "user_df.loc[(user_df['개인회생자_여부']==1)\n",
    "                      &(user_df['개인회생자_납입_완료_여부']==0),'개인회생자'] = 1\n",
    "\n",
    "user_df.loc[(user_df['개인회생자_여부']==1)\n",
    "                      &(user_df['개인회생자_납입_완료_여부']==1),'개인회생자'] = 2"
   ]
  },
  {
   "cell_type": "code",
   "execution_count": 144,
   "id": "6bc6916f",
   "metadata": {},
   "outputs": [
    {
     "data": {
      "text/plain": [
       "0     789515\n",
       "10    584593\n",
       "1      11321\n",
       "2       1340\n",
       "Name: 개인회생자, dtype: int64"
      ]
     },
     "execution_count": 144,
     "metadata": {},
     "output_type": "execute_result"
    }
   ],
   "source": [
    "user_df[\"개인회생자\"].value_counts()"
   ]
  },
  {
   "cell_type": "markdown",
   "id": "14d0517b",
   "metadata": {},
   "source": [
    "### 신용점수 등급추가하기"
   ]
  },
  {
   "cell_type": "code",
   "execution_count": 145,
   "id": "52161234",
   "metadata": {},
   "outputs": [],
   "source": [
    "bins = [0, 444, 514, 599, 664, 749, 804, 839, 869, 899, 1000]\n",
    "#labels = ['null', '10등급', '9등급', '8등급', '7등급', '6등급', '5등급', '4등급', '3등급', '2등급', '1등급']\n",
    "labels = [10, 9, 8, 7, 6, 5, 4, 3, 2, 1]\n",
    "\n",
    "\n",
    "user_df['신용점수등급'] = pd.cut(user_df['한도조회_당시_유저_신용점수'],bins = bins, labels = labels)\n",
    "user_df.loc[user_df['한도조회_당시_유저_신용점수'].isnull(),'한도조회_당시_유저_신용점수'] = 0"
   ]
  },
  {
   "cell_type": "code",
   "execution_count": 146,
   "id": "d911d15b",
   "metadata": {},
   "outputs": [
    {
     "data": {
      "text/plain": [
       "104456"
      ]
     },
     "execution_count": 146,
     "metadata": {},
     "output_type": "execute_result"
    }
   ],
   "source": [
    "user_df[\"신용점수등급\"].isnull().sum()"
   ]
  },
  {
   "cell_type": "markdown",
   "id": "8ea31ab3",
   "metadata": {},
   "source": [
    "### 성별 결측치 채우기"
   ]
  },
  {
   "cell_type": "markdown",
   "id": "9ae7a38e",
   "metadata": {},
   "source": [
    "이미 기존의 데이터에 성별 및 생년월일이 존재한다면 대체"
   ]
  },
  {
   "cell_type": "code",
   "execution_count": 149,
   "id": "af517dc8",
   "metadata": {},
   "outputs": [],
   "source": [
    "sex_null_list = set(user_df[(user_df['유저_번호'].isin(\n",
    "    set(user_df[user_df['유저_성별'].isnull()]['유저_번호'])))&(user_df['유저_성별'].notnull())]['유저_번호'])\n",
    "for i in sex_null_list:\n",
    "    user_df.loc[(user_df['유저_번호']==i)&(user_df['유저_생년월일'].isnull()),\n",
    "                  '유저_생년월일'] = user_df[user_df['유저_번호'] ==i]['유저_생년월일'].dropna().unique().item()\n",
    "    user_df.loc[(user_df['유저_번호']==i)&(user_df['유저_성별'].isnull()),\n",
    "                  '유저_성별'] = user_df[user_df['유저_번호'] ==i]['유저_성별'].dropna().unique().item()"
   ]
  },
  {
   "cell_type": "code",
   "execution_count": 150,
   "id": "17d95993",
   "metadata": {},
   "outputs": [
    {
     "data": {
      "text/plain": [
       "신청서_번호                  0\n",
       "유저_번호                   0\n",
       "유저_생년월일              9680\n",
       "유저_성별                9680\n",
       "생성일시                    0\n",
       "한도조회_당시_유저_신용점수         0\n",
       "연소득                     5\n",
       "근로형태                    0\n",
       "입사연월               170541\n",
       "고용형태                    0\n",
       "주거소유형태                  0\n",
       "대출희망금액                  0\n",
       "대출_목적                   0\n",
       "개인회생자_여부           584593\n",
       "개인회생자_납입_완료_여부     584593\n",
       "기대출수               197556\n",
       "기대출금액              312309\n",
       "개인회생자                   0\n",
       "신용점수등급             104456\n",
       "dtype: int64"
      ]
     },
     "execution_count": 150,
     "metadata": {},
     "output_type": "execute_result"
    }
   ],
   "source": [
    "user_df.isnull().sum()"
   ]
  },
  {
   "cell_type": "code",
   "execution_count": 177,
   "id": "30c6a16b",
   "metadata": {},
   "outputs": [
    {
     "data": {
      "text/html": [
       "<div>\n",
       "<style scoped>\n",
       "    .dataframe tbody tr th:only-of-type {\n",
       "        vertical-align: middle;\n",
       "    }\n",
       "\n",
       "    .dataframe tbody tr th {\n",
       "        vertical-align: top;\n",
       "    }\n",
       "\n",
       "    .dataframe thead th {\n",
       "        text-align: right;\n",
       "    }\n",
       "</style>\n",
       "<table border=\"1\" class=\"dataframe\">\n",
       "  <thead>\n",
       "    <tr style=\"text-align: right;\">\n",
       "      <th></th>\n",
       "      <th>유저_성별</th>\n",
       "      <th>연소득</th>\n",
       "      <th>근로형태</th>\n",
       "      <th>고용형태</th>\n",
       "      <th>주거소유형태</th>\n",
       "      <th>대출희망금액</th>\n",
       "      <th>대출_목적</th>\n",
       "      <th>개인회생자</th>\n",
       "    </tr>\n",
       "  </thead>\n",
       "  <tbody>\n",
       "    <tr>\n",
       "      <th>58</th>\n",
       "      <td>NaN</td>\n",
       "      <td>24000000.0</td>\n",
       "      <td>EARNEDINCOME</td>\n",
       "      <td>정규직</td>\n",
       "      <td>전월세</td>\n",
       "      <td>30000000.0</td>\n",
       "      <td>대환대출</td>\n",
       "      <td>10</td>\n",
       "    </tr>\n",
       "    <tr>\n",
       "      <th>99</th>\n",
       "      <td>NaN</td>\n",
       "      <td>30000000.0</td>\n",
       "      <td>EARNEDINCOME</td>\n",
       "      <td>정규직</td>\n",
       "      <td>전월세</td>\n",
       "      <td>3000000.0</td>\n",
       "      <td>생활비</td>\n",
       "      <td>10</td>\n",
       "    </tr>\n",
       "    <tr>\n",
       "      <th>114</th>\n",
       "      <td>NaN</td>\n",
       "      <td>30000000.0</td>\n",
       "      <td>EARNEDINCOME</td>\n",
       "      <td>정규직</td>\n",
       "      <td>전월세</td>\n",
       "      <td>10000000.0</td>\n",
       "      <td>생활비</td>\n",
       "      <td>10</td>\n",
       "    </tr>\n",
       "  </tbody>\n",
       "</table>\n",
       "</div>"
      ],
      "text/plain": [
       "     유저_성별         연소득          근로형태 고용형태 주거소유형태      대출희망금액 대출_목적  개인회생자\n",
       "58     NaN  24000000.0  EARNEDINCOME  정규직    전월세  30000000.0  대환대출     10\n",
       "99     NaN  30000000.0  EARNEDINCOME  정규직    전월세   3000000.0   생활비     10\n",
       "114    NaN  30000000.0  EARNEDINCOME  정규직    전월세  10000000.0   생활비     10"
      ]
     },
     "execution_count": 177,
     "metadata": {},
     "output_type": "execute_result"
    }
   ],
   "source": [
    "train_data = user_df.dropna(how = 'any')[[\"유저_성별\",\"연소득\",\"근로형태\",\"고용형태\",\"주거소유형태\",\"대출희망금액\",\"대출_목적\",\n",
    "                                             \"개인회생자\"]]\n",
    "\n",
    "\n",
    "test_data = user_df[user_df[\"유저_성별\"].isnull()][[\"유저_성별\",\"연소득\",\"근로형태\",\n",
    "                                                       \"고용형태\",\"주거소유형태\",\"대출희망금액\",\"대출_목적\",\"개인회생자\"]]\n",
    "test_data.head(3)"
   ]
  },
  {
   "cell_type": "code",
   "execution_count": 178,
   "id": "b053dcab",
   "metadata": {},
   "outputs": [
    {
     "data": {
      "text/plain": [
       "(553869, 8)"
      ]
     },
     "execution_count": 178,
     "metadata": {},
     "output_type": "execute_result"
    }
   ],
   "source": [
    "train_data.shape"
   ]
  },
  {
   "cell_type": "code",
   "execution_count": 179,
   "id": "7dcd93cb",
   "metadata": {},
   "outputs": [
    {
     "data": {
      "text/plain": [
       "(563549, 8)"
      ]
     },
     "execution_count": 179,
     "metadata": {},
     "output_type": "execute_result"
    }
   ],
   "source": [
    "data = pd.concat([train_data,test_data],axis=0)\n",
    "data.shape"
   ]
  },
  {
   "cell_type": "code",
   "execution_count": 180,
   "id": "3a6ff49e",
   "metadata": {},
   "outputs": [],
   "source": [
    "from sklearn.preprocessing import LabelEncoder\n",
    "from sklearn.model_selection import train_test_split\n",
    "from sklearn.preprocessing import MinMaxScaler\n",
    "\n",
    "le = LabelEncoder()\n",
    "for col in [\"고용형태\",\"주거소유형태\",\"대출_목적\",\"근로형태\"]:\n",
    "    data[col] = le.fit_transform(data[col])\n",
    "\n",
    "for col in [\"연소득\",\"대출희망금액\"]:\n",
    "    data[col] = np.log1p(data[col])   \n",
    "    \n",
    "train_data = data.iloc[:553869,:]    \n",
    "test_data = data.iloc[553869:,:]    \n",
    "    \n",
    "features_train = train_data.drop(\"유저_성별\",axis=1)\n",
    "labels_train = train_data[\"유저_성별\"]\n",
    "\n",
    "features_test = test_data.drop(\"유저_성별\",axis=1)\n",
    "labels_test = test_data[\"유저_성별\"]\n",
    "\n",
    "scaler = MinMaxScaler(feature_range = (0,1))\n",
    "\n",
    "scaler.fit(features_train)\n",
    "features_train = scaler.transform(features_train)\n",
    "features_test = scaler.transform(features_test)\n",
    "\n",
    "X_train, X_test, y_train, y_test = train_test_split(features_train,labels_train,\n",
    "                                                    random_state=0,test_size=0.2,shuffle=True,stratify=labels_train)"
   ]
  },
  {
   "cell_type": "code",
   "execution_count": 55,
   "id": "2e8d8c08",
   "metadata": {},
   "outputs": [
    {
     "name": "stdout",
     "output_type": "stream",
     "text": [
      "test accuracy :  0.6962555903601368\n",
      "최적의 parameters :  {'C': 0.001, 'max_iter': 100}\n"
     ]
    }
   ],
   "source": [
    "from sklearn.model_selection import GridSearchCV\n",
    "from sklearn.linear_model import LogisticRegression\n",
    "\n",
    "param_grid = {\n",
    "    'C' : [0.001, 0.01, 0.1, 1, 10, 100],\n",
    "    'max_iter' : [100,1000]\n",
    "}\n",
    "\n",
    "grid_search = GridSearchCV(LogisticRegression(), param_grid, cv=5)\n",
    "\n",
    "grid_search.fit(X_train, y_train)\n",
    "print('test accuracy : ', grid_search.score(X_test, y_test))\n",
    "print('최적의 parameters : ', grid_search.best_params_)"
   ]
  },
  {
   "cell_type": "code",
   "execution_count": 181,
   "id": "d359c8bf",
   "metadata": {},
   "outputs": [],
   "source": [
    "from sklearn.metrics import accuracy_score, precision_score, recall_score, confusion_matrix, f1_score\n",
    "\n",
    "def get_clf_eval(y_test, pred):\n",
    "    confusion = confusion_matrix(y_test, pred)\n",
    "    accuracy = accuracy_score(y_test, pred)\n",
    "    precision = precision_score(y_test, pred)\n",
    "    recall = recall_score(y_test, pred)\n",
    "    f1_score_ = f1_score(y_test, pred)\n",
    "    print('Confusion Matrix')\n",
    "    print(confusion)\n",
    "    print('정확도:{}, 정밀도:{}, 재현율:{}'.format(accuracy, precision, recall))\n",
    "    print('f1 score:{}'.format(f1_score_))"
   ]
  },
  {
   "cell_type": "code",
   "execution_count": 182,
   "id": "6205d251",
   "metadata": {},
   "outputs": [
    {
     "name": "stdout",
     "output_type": "stream",
     "text": [
      "Confusion Matrix\n",
      "[[   68 33594]\n",
      " [  121 76991]]\n",
      "정확도:0.6956415765432322, 정밀도:0.6962155807749695, 재현율:0.9984308538230107\n",
      "f1 score:0.8203753922545379\n"
     ]
    }
   ],
   "source": [
    "lm = LogisticRegression(max_iter = 100, C=0.001)\n",
    "lm.fit(X_train, y_train)\n",
    "pred = lm.predict(X_test)\n",
    "get_clf_eval(y_test, pred)"
   ]
  },
  {
   "cell_type": "markdown",
   "id": "a94c8b25",
   "metadata": {},
   "source": [
    "성별 예측진행하기"
   ]
  },
  {
   "cell_type": "code",
   "execution_count": 183,
   "id": "2d4c389a",
   "metadata": {},
   "outputs": [],
   "source": [
    "sex_predict = lm.predict(features_test) # 12901개의 데이터가 예측완료"
   ]
  },
  {
   "cell_type": "code",
   "execution_count": 184,
   "id": "d0bb6f28",
   "metadata": {},
   "outputs": [
    {
     "data": {
      "text/plain": [
       "9680"
      ]
     },
     "execution_count": 184,
     "metadata": {},
     "output_type": "execute_result"
    }
   ],
   "source": [
    "len(sex_predict)"
   ]
  },
  {
   "cell_type": "code",
   "execution_count": 185,
   "id": "fb1936c3",
   "metadata": {},
   "outputs": [],
   "source": [
    "user_df_sex_null = user_df[user_df[\"유저_성별\"].isnull()].reset_index(drop=True)\n",
    "user_df_sex_nonull = user_df[user_df[\"유저_성별\"].notnull()].reset_index(drop=True)\n",
    "\n",
    "user_df_sex_null[\"유저_성별\"] = sex_predict"
   ]
  },
  {
   "cell_type": "markdown",
   "id": "23724a67",
   "metadata": {},
   "source": [
    "### 성별 결측치가 채워진 user_df_2"
   ]
  },
  {
   "cell_type": "code",
   "execution_count": 201,
   "id": "e68077a7",
   "metadata": {},
   "outputs": [],
   "source": [
    "user_df_2 = pd.concat([user_df_sex_nonull,user_df_sex_null],axis=0)"
   ]
  },
  {
   "cell_type": "code",
   "execution_count": 202,
   "id": "792e2117",
   "metadata": {},
   "outputs": [],
   "source": [
    "user_df_2 = user_df_2.drop([\"개인회생자_여부\",\"개인회생자_납입_완료_여부\"],axis=1).reset_index(drop=True)"
   ]
  },
  {
   "cell_type": "code",
   "execution_count": 203,
   "id": "dbf1cabc",
   "metadata": {},
   "outputs": [
    {
     "data": {
      "text/plain": [
       "(1386769, 17)"
      ]
     },
     "execution_count": 203,
     "metadata": {},
     "output_type": "execute_result"
    }
   ],
   "source": [
    "user_df_2.shape"
   ]
  },
  {
   "cell_type": "code",
   "execution_count": 204,
   "id": "e6b0e6eb",
   "metadata": {},
   "outputs": [
    {
     "data": {
      "text/plain": [
       "신청서_번호                  0\n",
       "유저_번호                   0\n",
       "유저_생년월일              9680\n",
       "유저_성별                   0\n",
       "생성일시                    0\n",
       "한도조회_당시_유저_신용점수         0\n",
       "연소득                     5\n",
       "근로형태                    0\n",
       "입사연월               170541\n",
       "고용형태                    0\n",
       "주거소유형태                  0\n",
       "대출희망금액                  0\n",
       "대출_목적                   0\n",
       "기대출수               197556\n",
       "기대출금액              312309\n",
       "개인회생자                   0\n",
       "신용점수등급             104456\n",
       "dtype: int64"
      ]
     },
     "execution_count": 204,
     "metadata": {},
     "output_type": "execute_result"
    }
   ],
   "source": [
    "user_df_2.isnull().sum()"
   ]
  },
  {
   "cell_type": "markdown",
   "id": "6192585a",
   "metadata": {},
   "source": []
  },
  {
   "cell_type": "markdown",
   "id": "ba45418a",
   "metadata": {},
   "source": [
    "### numeric한 데이터에 대한 이상치 처리\n",
    "- 만원 단위로 낮춰서하기\n",
    "- 성별, 근로형태, 고용형태, 주거소유형태 : 평균값으로 numeric 데이터 이상치 처리해주기"
   ]
  },
  {
   "cell_type": "code",
   "execution_count": 543,
   "id": "988aa935",
   "metadata": {},
   "outputs": [],
   "source": [
    "# 이상치 처리 시작\n",
    "user_df_3 = user_df_2.copy()"
   ]
  },
  {
   "cell_type": "markdown",
   "id": "f12bff17",
   "metadata": {},
   "source": [
    "### 소득분위 구간 추가하기\n",
    "- https://insfiler.com/detail/rt_285_incomeq10-0001"
   ]
  },
  {
   "cell_type": "code",
   "execution_count": 544,
   "id": "dd39f518",
   "metadata": {},
   "outputs": [],
   "source": [
    "for col in [\"기대출금액\",\"연소득\",\"대출희망금액\"]:\n",
    "    user_df_3[col] = user_df_3[col] / 10000"
   ]
  },
  {
   "cell_type": "code",
   "execution_count": 545,
   "id": "f155bbab",
   "metadata": {},
   "outputs": [],
   "source": [
    "bins = [-2, 70, 170, 2400, 3100, 3800, 4600, 5500, 6600, 8100, 12600,1000001]\n",
    "#labels = ['null', '1분위', '9분위', '8등급', '7등급', '6등급', '5등급', '4등급', '3등급', '2등급', '1등급']\n",
    "labels = [0,1,2,3,4,5,6,7,8,9,10]\n",
    "\n",
    "\n",
    "user_df_3['연소득분위'] = pd.cut(user_df_3['연소득'],bins = bins, labels = labels)\n",
    "user_df_3.loc[user_df_3['연소득'].isnull(),'연소득'] = 0"
   ]
  },
  {
   "cell_type": "code",
   "execution_count": 546,
   "id": "881e8cab",
   "metadata": {},
   "outputs": [],
   "source": [
    "user_df_3['연소득분위'] = pd.cut(user_df_3['연소득'],bins = bins, labels = labels)"
   ]
  },
  {
   "cell_type": "code",
   "execution_count": 547,
   "id": "a717c91a",
   "metadata": {},
   "outputs": [
    {
     "data": {
      "text/plain": [
       "신청서_번호                  0\n",
       "유저_번호                   0\n",
       "유저_생년월일              9680\n",
       "유저_성별                   0\n",
       "생성일시                    0\n",
       "한도조회_당시_유저_신용점수         0\n",
       "연소득                     0\n",
       "근로형태                    0\n",
       "입사연월               170541\n",
       "고용형태                    0\n",
       "주거소유형태                  0\n",
       "대출희망금액                  0\n",
       "대출_목적                   0\n",
       "기대출수               197556\n",
       "기대출금액              312309\n",
       "개인회생자                   0\n",
       "신용점수등급             104456\n",
       "연소득분위                   0\n",
       "dtype: int64"
      ]
     },
     "execution_count": 547,
     "metadata": {},
     "output_type": "execute_result"
    }
   ],
   "source": [
    "user_df_3.isnull().sum()"
   ]
  },
  {
   "cell_type": "markdown",
   "id": "ea07c7dc",
   "metadata": {},
   "source": [
    "##### 결측치 처리하기\n",
    "- 성별, 근로형태, 고용형태, 주거소유형태, 연소득분위로 하나의 그룹을 생성하고 해당 그룹의 평균값으로 채워주기\n",
    "\n",
    "- 기대출수, 기대출금액, 신용점수등급 결측치 채우기"
   ]
  },
  {
   "cell_type": "markdown",
   "id": "f2960d32",
   "metadata": {},
   "source": [
    "\"유저_성별\",\"근로형태\",\"고용형태\",\"주거소유형태\",\"연소득분위\""
   ]
  },
  {
   "cell_type": "code",
   "execution_count": 548,
   "id": "0a65c192",
   "metadata": {},
   "outputs": [],
   "source": [
    "def get_replace_null(data,col):\n",
    "    df = data.copy()\n",
    "\n",
    "    null_data = df[df[col].isnull()]\n",
    "\n",
    "    nonull_data = df[df[col].notnull()]\n",
    "    \n",
    "    # 대체할 데이터가 담긴\n",
    "    standard_df = nonull_data.groupby([\"유저_성별\",\"근로형태\",\"고용형태\",\"주거소유형태\",\"연소득분위\"]).mean().reset_index()\n",
    "    \n",
    "    # null값이 대체될 데이터\n",
    "    null_replace = pd.merge(null_data.drop(col,axis=1),\n",
    "\n",
    "                  standard_df[[\"유저_성별\",\"근로형태\",\"고용형태\",\"주거소유형태\",\"연소득분위\",col]]\n",
    "\n",
    "             ,on=[\"유저_성별\",\"근로형태\",\"고용형태\",\"주거소유형태\",\"연소득분위\"],how=\"inner\")\n",
    "\n",
    "    # 이상치 대체하고나서 concat해주기\n",
    "    final = pd.concat([null_replace[df.columns],\n",
    "               nonull_data],\n",
    "             axis = 0)\n",
    "\n",
    "    #final[col] = final[col].astype(int)\n",
    "    \n",
    "    return final.reset_index(drop=True)"
   ]
  },
  {
   "cell_type": "markdown",
   "id": "e819b135",
   "metadata": {},
   "source": [
    "\"유저_성별\",\"근로형태\",\"고용형태\",\"주거소유형태\""
   ]
  },
  {
   "cell_type": "code",
   "execution_count": 549,
   "id": "d7e65dd8",
   "metadata": {},
   "outputs": [],
   "source": [
    "def get_replace_null_(data,col):\n",
    "    df = data.copy()\n",
    "\n",
    "    null_data = df[df[col].isnull()]\n",
    "\n",
    "    nonull_data = df[df[col].notnull()]\n",
    "    \n",
    "    # 대체할 데이터가 담긴\n",
    "    standard_df = nonull_data.groupby([\"유저_성별\",\"근로형태\",\"고용형태\",\"주거소유형태\"]).mean().reset_index()\n",
    "    \n",
    "    # null값이 대체될 데이터\n",
    "    null_replace = pd.merge(null_data.drop(col,axis=1),\n",
    "\n",
    "                  standard_df[[\"유저_성별\",\"근로형태\",\"고용형태\",\"주거소유형태\",col]]\n",
    "\n",
    "             ,on=[\"유저_성별\",\"근로형태\",\"고용형태\",\"주거소유형태\"],how=\"inner\")\n",
    "\n",
    "    # 이상치 대체하고나서 concat해주기\n",
    "    final = pd.concat([null_replace[df.columns],\n",
    "               nonull_data],\n",
    "             axis = 0)\n",
    "\n",
    "    #final[col] = final[col].astype(int)\n",
    "    \n",
    "    return final.reset_index(drop=True)"
   ]
  },
  {
   "cell_type": "code",
   "execution_count": null,
   "id": "5e486032",
   "metadata": {},
   "outputs": [],
   "source": [
    "for col in [\"기대출수\",\"기대출금액\"]:\n",
    "    user_df_3 = get_replace_null(user_df_3,col)\n",
    "    user_df_3 = get_replace_null_(user_df_3,col)"
   ]
  },
  {
   "cell_type": "markdown",
   "id": "024c64b8",
   "metadata": {},
   "source": [
    "###### 신용점수 결측치 채우기\n",
    "- 신용점수가 0점인 얘들은 원래 다 결측치\n",
    "- 신용점수가 0점인 얘들은 신용점수랑 신용점수 등급 날려주기"
   ]
  },
  {
   "cell_type": "code",
   "execution_count": 552,
   "id": "e8697979",
   "metadata": {},
   "outputs": [
    {
     "data": {
      "text/plain": [
       "신청서_번호                  0\n",
       "유저_번호                   0\n",
       "유저_생년월일              9680\n",
       "유저_성별                   0\n",
       "생성일시                    0\n",
       "한도조회_당시_유저_신용점수         0\n",
       "연소득                     0\n",
       "근로형태                    0\n",
       "입사연월               170540\n",
       "고용형태                    0\n",
       "주거소유형태                  0\n",
       "대출희망금액                  0\n",
       "대출_목적                   0\n",
       "기대출수                    0\n",
       "기대출금액                   0\n",
       "개인회생자                   0\n",
       "신용점수등급             104451\n",
       "연소득분위                   0\n",
       "dtype: int64"
      ]
     },
     "execution_count": 552,
     "metadata": {},
     "output_type": "execute_result"
    }
   ],
   "source": [
    "def make_null(data):\n",
    "    d"
   ]
  },
  {
   "cell_type": "markdown",
   "id": "1d3ecb67",
   "metadata": {},
   "source": []
  },
  {
   "cell_type": "markdown",
   "id": "fda57a4c",
   "metadata": {},
   "source": [
    "##### 기대출수 먼저 이상치 잡기\n",
    "##### 대출희망금액 먼저 이상치 잡기"
   ]
  },
  {
   "cell_type": "code",
   "execution_count": 395,
   "id": "6e96ec87",
   "metadata": {},
   "outputs": [],
   "source": [
    "def find_outlier_z(data):\n",
    "    \n",
    "    threshold = 3\n",
    "    \n",
    "    mean = np.mean(data)\n",
    "    std = np.std(data)\n",
    "    \n",
    "    z_score = [(y-mean) / std for y in data]\n",
    "    \n",
    "    masks = np.where(np.abs(z_score) > threshold)\n",
    "    \n",
    "    #print(mean+threshold*std)\n",
    "    #print(mean-threshold*std)\n",
    "    return masks[0]"
   ]
  },
  {
   "cell_type": "code",
   "execution_count": 396,
   "id": "262bd8f0",
   "metadata": {},
   "outputs": [],
   "source": [
    "def no_outlier_z(data):\n",
    "    \n",
    "    threshold = 3\n",
    "    \n",
    "    mean = np.mean(data)\n",
    "    std = np.std(data)\n",
    "    \n",
    "    z_score = [(y-mean) / std for y in data]\n",
    "    \n",
    "    masks = np.where(np.abs(z_score) <= threshold)\n",
    "    \n",
    "    #print(mean+threshold*std)\n",
    "    #print(mean-threshold*std)\n",
    "    return masks[0]"
   ]
  },
  {
   "cell_type": "markdown",
   "id": "f179ce12",
   "metadata": {},
   "source": [
    "결측을 채울 기준이 되는 dataframe\n",
    "- 기준이 되는 dataframe : standard_df"
   ]
  },
  {
   "cell_type": "code",
   "execution_count": 377,
   "id": "c4bd0a66",
   "metadata": {},
   "outputs": [],
   "source": [
    "def iqr_func(x):\n",
    "    q3, q1 = np.percentile(x, [75, 25])\n",
    "    iqr = q3 - q1\n",
    "    final = q3 + 1.5*iqr\n",
    "    return int(final)"
   ]
  },
  {
   "cell_type": "code",
   "execution_count": 422,
   "id": "e1f6ff6f",
   "metadata": {},
   "outputs": [],
   "source": [
    "def get_replace_outlier(data,col):\n",
    "    # col에 해당하는 이상치 대체하기\n",
    "    # data : 이상치 대체할 데이터프레임\n",
    "    \n",
    "    df = data.copy()\n",
    "    \n",
    "    # 이상치 대체의 기준 dataframe\n",
    "    standard_df = df[df[col].notnull()].groupby([\"유저_성별\",\"근로형태\",\"고용형태\",\"주거소유형태\",\"연소득분위\"]\n",
    "                               ).agg({col: iqr_func}).reset_index()\n",
    "    \n",
    "    # 이상치의 index\n",
    "    outlier_index = find_outlier_z(user_df_3[col])\n",
    "    \n",
    "    # 이상치 아닌 것 index\n",
    "    nooutlier_index = no_outlier_z(user_df_3[col])\n",
    "    \n",
    "    # 이상치에 속하는 데이터\n",
    "    outlier_data = df.loc[outlier_index,:]\n",
    "    \n",
    "    # 이상치가 아닌 것에 속하는 데이터\n",
    "    nooutlier_data = df.loc[nooutlier_index,:]\n",
    "    \n",
    "    # 이상치가 대체된 데이터프레임\n",
    "    \n",
    "    outlier_replace = pd.merge(outlier_data.drop(col,axis=1),\n",
    "              \n",
    "              standard_df[[\"유저_성별\",\"근로형태\",\"고용형태\",\"주거소유형태\",\"연소득분위\",col]]\n",
    "         \n",
    "         ,on=[\"유저_성별\",\"근로형태\",\"고용형태\",\"주거소유형태\",\"연소득분위\"],how=\"inner\")\n",
    "\n",
    "    \n",
    "    # 이상치 대체하고나서 concat해주기\n",
    "    final = pd.concat([outlier_replace[df.columns],\n",
    "           nooutlier_data,\n",
    "          df[df[col].isnull()]],\n",
    "         axis = 0)\n",
    "    \n",
    "    \n",
    "    return final.reset_index(drop=True)"
   ]
  },
  {
   "cell_type": "markdown",
   "id": "07db70e4",
   "metadata": {},
   "source": [
    "##### user_df_4 : column의 이상치가 처리된 dataframe"
   ]
  },
  {
   "cell_type": "code",
   "execution_count": 479,
   "id": "91de681f",
   "metadata": {},
   "outputs": [],
   "source": [
    "user_df_4 = get_replace_outlier(user_df_3,\"기대출수\")\n",
    "\n",
    "user_df_4 = get_replace_outlier(user_df_4,\"기대출금액\")\n",
    "\n",
    "user_df_4 = get_replace_outlier(user_df_4,\"대출희망금액\")\n",
    "\n",
    "user_df_4 = get_replace_outlier(user_df_4,\"연소득\")"
   ]
  },
  {
   "cell_type": "markdown",
   "id": "159b8201",
   "metadata": {},
   "source": [
    "##### user_df_5 : 연소득 0원 이상치가 처리된 dataframe"
   ]
  },
  {
   "cell_type": "code",
   "execution_count": 480,
   "id": "d05df278",
   "metadata": {
    "scrolled": true
   },
   "outputs": [
    {
     "data": {
      "text/html": [
       "<div>\n",
       "<style scoped>\n",
       "    .dataframe tbody tr th:only-of-type {\n",
       "        vertical-align: middle;\n",
       "    }\n",
       "\n",
       "    .dataframe tbody tr th {\n",
       "        vertical-align: top;\n",
       "    }\n",
       "\n",
       "    .dataframe thead th {\n",
       "        text-align: right;\n",
       "    }\n",
       "</style>\n",
       "<table border=\"1\" class=\"dataframe\">\n",
       "  <thead>\n",
       "    <tr style=\"text-align: right;\">\n",
       "      <th></th>\n",
       "      <th>신청서_번호</th>\n",
       "      <th>유저_번호</th>\n",
       "      <th>유저_생년월일</th>\n",
       "      <th>유저_성별</th>\n",
       "      <th>생성일시</th>\n",
       "      <th>한도조회_당시_유저_신용점수</th>\n",
       "      <th>연소득</th>\n",
       "      <th>근로형태</th>\n",
       "      <th>입사연월</th>\n",
       "      <th>고용형태</th>\n",
       "      <th>주거소유형태</th>\n",
       "      <th>대출희망금액</th>\n",
       "      <th>대출_목적</th>\n",
       "      <th>기대출수</th>\n",
       "      <th>기대출금액</th>\n",
       "      <th>개인회생자</th>\n",
       "      <th>신용점수등급</th>\n",
       "      <th>연소득분위</th>\n",
       "    </tr>\n",
       "  </thead>\n",
       "  <tbody>\n",
       "    <tr>\n",
       "      <th>392</th>\n",
       "      <td>638976</td>\n",
       "      <td>780692</td>\n",
       "      <td>1987.0</td>\n",
       "      <td>1.0</td>\n",
       "      <td>2022-05-26 18:48:57</td>\n",
       "      <td>600.0</td>\n",
       "      <td>3450.0</td>\n",
       "      <td>EARNEDINCOME</td>\n",
       "      <td>201603.0</td>\n",
       "      <td>정규직</td>\n",
       "      <td>기타가족소유</td>\n",
       "      <td>0.0</td>\n",
       "      <td>생활비</td>\n",
       "      <td>7.0</td>\n",
       "      <td>5300.0</td>\n",
       "      <td>0</td>\n",
       "      <td>7</td>\n",
       "      <td>3</td>\n",
       "    </tr>\n",
       "    <tr>\n",
       "      <th>595</th>\n",
       "      <td>1255683</td>\n",
       "      <td>487083</td>\n",
       "      <td>1984.0</td>\n",
       "      <td>1.0</td>\n",
       "      <td>2022-05-12 01:29:52</td>\n",
       "      <td>580.0</td>\n",
       "      <td>5250.0</td>\n",
       "      <td>EARNEDINCOME</td>\n",
       "      <td>202008.0</td>\n",
       "      <td>정규직</td>\n",
       "      <td>자가</td>\n",
       "      <td>0.0</td>\n",
       "      <td>대환대출</td>\n",
       "      <td>11.0</td>\n",
       "      <td>8200.0</td>\n",
       "      <td>0</td>\n",
       "      <td>8</td>\n",
       "      <td>5</td>\n",
       "    </tr>\n",
       "    <tr>\n",
       "      <th>1019</th>\n",
       "      <td>296029</td>\n",
       "      <td>360245</td>\n",
       "      <td>1980.0</td>\n",
       "      <td>1.0</td>\n",
       "      <td>2022-04-14 15:05:32</td>\n",
       "      <td>610.0</td>\n",
       "      <td>3900.0</td>\n",
       "      <td>EARNEDINCOME</td>\n",
       "      <td>201908.0</td>\n",
       "      <td>정규직</td>\n",
       "      <td>자가</td>\n",
       "      <td>0.0</td>\n",
       "      <td>생활비</td>\n",
       "      <td>7.0</td>\n",
       "      <td>8200.0</td>\n",
       "      <td>10</td>\n",
       "      <td>7</td>\n",
       "      <td>4</td>\n",
       "    </tr>\n",
       "    <tr>\n",
       "      <th>1636</th>\n",
       "      <td>367209</td>\n",
       "      <td>418274</td>\n",
       "      <td>1986.0</td>\n",
       "      <td>1.0</td>\n",
       "      <td>2022-04-05 14:44:37</td>\n",
       "      <td>1000.0</td>\n",
       "      <td>12800.0</td>\n",
       "      <td>EARNEDINCOME</td>\n",
       "      <td>202105.0</td>\n",
       "      <td>정규직</td>\n",
       "      <td>전월세</td>\n",
       "      <td>0.0</td>\n",
       "      <td>생활비</td>\n",
       "      <td>1.0</td>\n",
       "      <td>NaN</td>\n",
       "      <td>10</td>\n",
       "      <td>1</td>\n",
       "      <td>9</td>\n",
       "    </tr>\n",
       "    <tr>\n",
       "      <th>1994</th>\n",
       "      <td>776605</td>\n",
       "      <td>676504</td>\n",
       "      <td>1991.0</td>\n",
       "      <td>0.0</td>\n",
       "      <td>2022-04-30 00:58:35</td>\n",
       "      <td>670.0</td>\n",
       "      <td>3600.0</td>\n",
       "      <td>EARNEDINCOME</td>\n",
       "      <td>202203.0</td>\n",
       "      <td>계약직</td>\n",
       "      <td>기타가족소유</td>\n",
       "      <td>0.0</td>\n",
       "      <td>대환대출</td>\n",
       "      <td>4.0</td>\n",
       "      <td>1600.0</td>\n",
       "      <td>0</td>\n",
       "      <td>6</td>\n",
       "      <td>3</td>\n",
       "    </tr>\n",
       "    <tr>\n",
       "      <th>...</th>\n",
       "      <td>...</td>\n",
       "      <td>...</td>\n",
       "      <td>...</td>\n",
       "      <td>...</td>\n",
       "      <td>...</td>\n",
       "      <td>...</td>\n",
       "      <td>...</td>\n",
       "      <td>...</td>\n",
       "      <td>...</td>\n",
       "      <td>...</td>\n",
       "      <td>...</td>\n",
       "      <td>...</td>\n",
       "      <td>...</td>\n",
       "      <td>...</td>\n",
       "      <td>...</td>\n",
       "      <td>...</td>\n",
       "      <td>...</td>\n",
       "      <td>...</td>\n",
       "    </tr>\n",
       "    <tr>\n",
       "      <th>1386670</th>\n",
       "      <td>1683479</td>\n",
       "      <td>690827</td>\n",
       "      <td>NaN</td>\n",
       "      <td>0.0</td>\n",
       "      <td>2022-06-30 10:24:34</td>\n",
       "      <td>750.0</td>\n",
       "      <td>0.0</td>\n",
       "      <td>OTHERINCOME</td>\n",
       "      <td>NaN</td>\n",
       "      <td>기타</td>\n",
       "      <td>기타가족소유</td>\n",
       "      <td>0.0</td>\n",
       "      <td>생활비</td>\n",
       "      <td>NaN</td>\n",
       "      <td>NaN</td>\n",
       "      <td>0</td>\n",
       "      <td>5</td>\n",
       "      <td>0</td>\n",
       "    </tr>\n",
       "    <tr>\n",
       "      <th>1386685</th>\n",
       "      <td>913619</td>\n",
       "      <td>639785</td>\n",
       "      <td>NaN</td>\n",
       "      <td>0.0</td>\n",
       "      <td>2022-06-30 11:05:11</td>\n",
       "      <td>950.0</td>\n",
       "      <td>0.0</td>\n",
       "      <td>OTHERINCOME</td>\n",
       "      <td>NaN</td>\n",
       "      <td>기타</td>\n",
       "      <td>기타가족소유</td>\n",
       "      <td>0.0</td>\n",
       "      <td>생활비</td>\n",
       "      <td>NaN</td>\n",
       "      <td>NaN</td>\n",
       "      <td>0</td>\n",
       "      <td>1</td>\n",
       "      <td>0</td>\n",
       "    </tr>\n",
       "    <tr>\n",
       "      <th>1386697</th>\n",
       "      <td>2153455</td>\n",
       "      <td>503527</td>\n",
       "      <td>NaN</td>\n",
       "      <td>0.0</td>\n",
       "      <td>2022-06-30 11:47:58</td>\n",
       "      <td>710.0</td>\n",
       "      <td>0.0</td>\n",
       "      <td>OTHERINCOME</td>\n",
       "      <td>NaN</td>\n",
       "      <td>기타</td>\n",
       "      <td>기타가족소유</td>\n",
       "      <td>0.0</td>\n",
       "      <td>생활비</td>\n",
       "      <td>NaN</td>\n",
       "      <td>NaN</td>\n",
       "      <td>0</td>\n",
       "      <td>6</td>\n",
       "      <td>0</td>\n",
       "    </tr>\n",
       "    <tr>\n",
       "      <th>1386703</th>\n",
       "      <td>251831</td>\n",
       "      <td>104787</td>\n",
       "      <td>NaN</td>\n",
       "      <td>0.0</td>\n",
       "      <td>2022-06-30 12:27:22</td>\n",
       "      <td>750.0</td>\n",
       "      <td>0.0</td>\n",
       "      <td>OTHERINCOME</td>\n",
       "      <td>NaN</td>\n",
       "      <td>기타</td>\n",
       "      <td>자가</td>\n",
       "      <td>0.0</td>\n",
       "      <td>생활비</td>\n",
       "      <td>NaN</td>\n",
       "      <td>NaN</td>\n",
       "      <td>0</td>\n",
       "      <td>5</td>\n",
       "      <td>0</td>\n",
       "    </tr>\n",
       "    <tr>\n",
       "      <th>1386759</th>\n",
       "      <td>1390157</td>\n",
       "      <td>695319</td>\n",
       "      <td>NaN</td>\n",
       "      <td>0.0</td>\n",
       "      <td>2022-06-30 17:33:28</td>\n",
       "      <td>740.0</td>\n",
       "      <td>0.0</td>\n",
       "      <td>OTHERINCOME</td>\n",
       "      <td>NaN</td>\n",
       "      <td>기타</td>\n",
       "      <td>전월세</td>\n",
       "      <td>0.0</td>\n",
       "      <td>생활비</td>\n",
       "      <td>NaN</td>\n",
       "      <td>NaN</td>\n",
       "      <td>0</td>\n",
       "      <td>6</td>\n",
       "      <td>0</td>\n",
       "    </tr>\n",
       "  </tbody>\n",
       "</table>\n",
       "<p>4901 rows × 18 columns</p>\n",
       "</div>"
      ],
      "text/plain": [
       "          신청서_번호   유저_번호  유저_생년월일  유저_성별                 생성일시  \\\n",
       "392       638976  780692   1987.0    1.0  2022-05-26 18:48:57   \n",
       "595      1255683  487083   1984.0    1.0  2022-05-12 01:29:52   \n",
       "1019      296029  360245   1980.0    1.0  2022-04-14 15:05:32   \n",
       "1636      367209  418274   1986.0    1.0  2022-04-05 14:44:37   \n",
       "1994      776605  676504   1991.0    0.0  2022-04-30 00:58:35   \n",
       "...          ...     ...      ...    ...                  ...   \n",
       "1386670  1683479  690827      NaN    0.0  2022-06-30 10:24:34   \n",
       "1386685   913619  639785      NaN    0.0  2022-06-30 11:05:11   \n",
       "1386697  2153455  503527      NaN    0.0  2022-06-30 11:47:58   \n",
       "1386703   251831  104787      NaN    0.0  2022-06-30 12:27:22   \n",
       "1386759  1390157  695319      NaN    0.0  2022-06-30 17:33:28   \n",
       "\n",
       "         한도조회_당시_유저_신용점수      연소득          근로형태      입사연월 고용형태  주거소유형태  \\\n",
       "392                600.0   3450.0  EARNEDINCOME  201603.0  정규직  기타가족소유   \n",
       "595                580.0   5250.0  EARNEDINCOME  202008.0  정규직      자가   \n",
       "1019               610.0   3900.0  EARNEDINCOME  201908.0  정규직      자가   \n",
       "1636              1000.0  12800.0  EARNEDINCOME  202105.0  정규직     전월세   \n",
       "1994               670.0   3600.0  EARNEDINCOME  202203.0  계약직  기타가족소유   \n",
       "...                  ...      ...           ...       ...  ...     ...   \n",
       "1386670            750.0      0.0   OTHERINCOME       NaN   기타  기타가족소유   \n",
       "1386685            950.0      0.0   OTHERINCOME       NaN   기타  기타가족소유   \n",
       "1386697            710.0      0.0   OTHERINCOME       NaN   기타  기타가족소유   \n",
       "1386703            750.0      0.0   OTHERINCOME       NaN   기타      자가   \n",
       "1386759            740.0      0.0   OTHERINCOME       NaN   기타     전월세   \n",
       "\n",
       "         대출희망금액 대출_목적  기대출수   기대출금액  개인회생자 신용점수등급 연소득분위  \n",
       "392         0.0   생활비   7.0  5300.0      0      7     3  \n",
       "595         0.0  대환대출  11.0  8200.0      0      8     5  \n",
       "1019        0.0   생활비   7.0  8200.0     10      7     4  \n",
       "1636        0.0   생활비   1.0     NaN     10      1     9  \n",
       "1994        0.0  대환대출   4.0  1600.0      0      6     3  \n",
       "...         ...   ...   ...     ...    ...    ...   ...  \n",
       "1386670     0.0   생활비   NaN     NaN      0      5     0  \n",
       "1386685     0.0   생활비   NaN     NaN      0      1     0  \n",
       "1386697     0.0   생활비   NaN     NaN      0      6     0  \n",
       "1386703     0.0   생활비   NaN     NaN      0      5     0  \n",
       "1386759     0.0   생활비   NaN     NaN      0      6     0  \n",
       "\n",
       "[4901 rows x 18 columns]"
      ]
     },
     "execution_count": 480,
     "metadata": {},
     "output_type": "execute_result"
    }
   ],
   "source": [
    "user_df_5 = user_df_4.copy()\n",
    "user_df_5[user_df_5[\"대출희망금액\"] == 0]"
   ]
  },
  {
   "cell_type": "markdown",
   "id": "270a7ef5",
   "metadata": {},
   "source": [
    "#### 연소득 0원 데이터 처리하기\n",
    "- OTHERINCOME 기타소득을 제외하곤 연소득 0원을 평균으로 대체하기"
   ]
  },
  {
   "cell_type": "code",
   "execution_count": 481,
   "id": "39d60286",
   "metadata": {},
   "outputs": [
    {
     "data": {
      "text/plain": [
       "OTHERINCOME        17245\n",
       "FREELANCER          1352\n",
       "PRIVATEBUSINESS      750\n",
       "EARNEDINCOME         525\n",
       "EARNEDINCOME2        203\n",
       "PRACTITIONER          22\n",
       "Name: 근로형태, dtype: int64"
      ]
     },
     "execution_count": 481,
     "metadata": {},
     "output_type": "execute_result"
    }
   ],
   "source": [
    "user_df_5[user_df_5[\"연소득\"] == 0][\"근로형태\"].value_counts()"
   ]
  },
  {
   "cell_type": "markdown",
   "id": "fde509bc",
   "metadata": {},
   "source": [
    "- 근로형태에 따라서 하나씩 평균값 대입"
   ]
  },
  {
   "cell_type": "code",
   "execution_count": 482,
   "id": "ccd7cfa8",
   "metadata": {},
   "outputs": [
    {
     "name": "stdout",
     "output_type": "stream",
     "text": [
      "FREELANCER 전처리 끝\n",
      "PRIVATEBUSINESS 전처리 끝\n",
      "EARNEDINCOME 전처리 끝\n",
      "EARNEDINCOME2 전처리 끝\n",
      "PRACTITIONER 전처리 끝\n"
     ]
    }
   ],
   "source": [
    "df_lst = []\n",
    "\n",
    "for work_type in ['FREELANCER', 'PRIVATEBUSINESS', 'EARNEDINCOME', 'EARNEDINCOME2',\n",
    "       'PRACTITIONER']:\n",
    "    \n",
    "    # 연소득 0원 채워야하는 데이터\n",
    "    replaced = user_df_5[(user_df_5[\"연소득\"] == 0) & (user_df_5[\"근로형태\"] == work_type)]\n",
    "\n",
    "    # 연소득 0원이 아닌 데이터\n",
    "    no_replace = user_df_5[(user_df_5[\"연소득\"] != 0) & (user_df_5[\"근로형태\"] == work_type)]\n",
    "    \n",
    "    standard_df = user_df_5.groupby([\"유저_성별\",\"근로형태\",\"고용형태\",\"주거소유형태\"]).mean().reset_index()\n",
    "   \n",
    "    # 0값이 처리된 데이터\n",
    "    zero_replace = pd.merge(replaced.drop(\"연소득\",axis=1),\n",
    "\n",
    "                  standard_df[[\"유저_성별\",\"근로형태\",\"고용형태\",\"주거소유형태\",\"연소득\"]]\n",
    "\n",
    "             ,on=[\"유저_성별\",\"근로형태\",\"고용형태\",\"주거소유형태\"],how=\"inner\")\n",
    "\n",
    "    zero_replace = zero_replace[user_df_5.columns] # 0값이 처리된 데이터\n",
    "    zero_replace[\"연소득\"] = zero_replace[\"연소득\"].astype(int)\n",
    "    \n",
    "    print(work_type,\"전처리 끝\")\n",
    "    \n",
    "    df_lst.append(zero_replace)\n",
    "    df_lst.append(no_replace)\n",
    "    \n",
    "df_lst.append(user_df_5[user_df_5[\"근로형태\"] == \"OTHERINCOME\"])"
   ]
  },
  {
   "cell_type": "markdown",
   "id": "c6e1e09d",
   "metadata": {},
   "source": [
    "#### 대출희망금액 0원 전처리\n",
    "- \"유저_성별\",\"근로형태\",\"고용형태\",\"주거소유형태\",\"연소득분위\" 기반 평균으로 대체\n",
    "- 그래도 0이면?\n",
    "- \"유저_성별\",\"근로형태\",\"고용형태\",\"주거소유형태\" 기반 평균으로 대체"
   ]
  },
  {
   "cell_type": "code",
   "execution_count": 483,
   "id": "40ae94b0",
   "metadata": {},
   "outputs": [],
   "source": [
    "user_df_5 = pd.concat(df_lst,axis=0).reset_index(drop=True)"
   ]
  },
  {
   "cell_type": "code",
   "execution_count": 484,
   "id": "c609e3c1",
   "metadata": {},
   "outputs": [
    {
     "data": {
      "text/plain": [
       "(1386769, 18)"
      ]
     },
     "execution_count": 484,
     "metadata": {},
     "output_type": "execute_result"
    }
   ],
   "source": [
    "user_df_5.shape"
   ]
  },
  {
   "cell_type": "code",
   "execution_count": 485,
   "id": "38bbe061",
   "metadata": {},
   "outputs": [
    {
     "data": {
      "text/plain": [
       "EARNEDINCOME       2250\n",
       "OTHERINCOME        1807\n",
       "FREELANCER          397\n",
       "EARNEDINCOME2       260\n",
       "PRIVATEBUSINESS     114\n",
       "PRACTITIONER         73\n",
       "Name: 근로형태, dtype: int64"
      ]
     },
     "execution_count": 485,
     "metadata": {},
     "output_type": "execute_result"
    }
   ],
   "source": [
    "user_df_5[user_df_5[\"대출희망금액\"] == 0][\"근로형태\"].value_counts()"
   ]
  },
  {
   "cell_type": "code",
   "execution_count": 486,
   "id": "a4b2c57f",
   "metadata": {},
   "outputs": [],
   "source": [
    "# 대출희망금액 0원 채워야하는 데이터\n",
    "replaced = user_df_5[(user_df_5[\"대출희망금액\"] == 0)]\n",
    "\n",
    "# 대출희망금액 0원이 아닌 데이터\n",
    "no_replace = user_df_5[(user_df_5[\"대출희망금액\"] != 0)]\n",
    "    \n",
    "standard_df = user_df_5.groupby([\"유저_성별\",\"근로형태\",\"고용형태\",\"주거소유형태\",\"연소득분위\"]).mean().reset_index()"
   ]
  },
  {
   "cell_type": "code",
   "execution_count": 487,
   "id": "92741e5d",
   "metadata": {},
   "outputs": [],
   "source": [
    "# 0값이 처리된 데이터\n",
    "zero_replace = pd.merge(replaced.drop(\"대출희망금액\",axis=1),\n",
    "                  standard_df[[\"유저_성별\",\"근로형태\",\"고용형태\",\"주거소유형태\",\"연소득분위\",\"대출희망금액\"]]\n",
    "\n",
    "             ,on=[\"유저_성별\",\"근로형태\",\"고용형태\",\"주거소유형태\",\"연소득분위\"],how=\"inner\")\n",
    "\n",
    "zero_replace = zero_replace[user_df_5.columns] # 0값이 처리된 데이터\n",
    "zero_replace[\"대출희망금액\"] = zero_replace[\"대출희망금액\"].astype(int)"
   ]
  },
  {
   "cell_type": "code",
   "execution_count": 488,
   "id": "745064af",
   "metadata": {},
   "outputs": [],
   "source": [
    "user_df_5 = pd.concat([zero_replace,no_replace],axis=0).reset_index(drop=True)"
   ]
  },
  {
   "cell_type": "markdown",
   "id": "eac4838b",
   "metadata": {},
   "source": [
    "\"유저_성별\",\"근로형태\",\"고용형태\",\"주거소유형태\" 기반 평균으로 대체"
   ]
  },
  {
   "cell_type": "code",
   "execution_count": 489,
   "id": "b28c8304",
   "metadata": {},
   "outputs": [],
   "source": [
    "# 대출희망금액 0원 채워야하는 데이터\n",
    "replaced = user_df_5[(user_df_5[\"대출희망금액\"] == 0)]\n",
    "\n",
    "# 대출희망금액 0원이 아닌 데이터\n",
    "no_replace = user_df_5[(user_df_5[\"대출희망금액\"] != 0)]\n",
    "    \n",
    "standard_df = user_df_5.groupby([\"유저_성별\",\"근로형태\",\"고용형태\",\"주거소유형태\"]).mean().reset_index()\n",
    "\n",
    "# 0값이 처리된 데이터\n",
    "zero_replace = pd.merge(replaced.drop(\"대출희망금액\",axis=1),\n",
    "                  standard_df[[\"유저_성별\",\"근로형태\",\"고용형태\",\"주거소유형태\",\"대출희망금액\"]]\n",
    "\n",
    "             ,on=[\"유저_성별\",\"근로형태\",\"고용형태\",\"주거소유형태\"],how=\"inner\")\n",
    "\n",
    "zero_replace = zero_replace[user_df_5.columns] # 0값이 처리된 데이터\n",
    "zero_replace[\"대출희망금액\"] = zero_replace[\"대출희망금액\"].astype(int)\n",
    "\n",
    "user_df_5 = pd.concat([zero_replace,no_replace],axis=0).reset_index(drop=True)"
   ]
  },
  {
   "cell_type": "markdown",
   "id": "88d3d500",
   "metadata": {},
   "source": [
    "############### 이상치 처리 끝 #####################"
   ]
  },
  {
   "cell_type": "code",
   "execution_count": 490,
   "id": "69a65ab6",
   "metadata": {},
   "outputs": [
    {
     "data": {
      "text/html": [
       "<div>\n",
       "<style scoped>\n",
       "    .dataframe tbody tr th:only-of-type {\n",
       "        vertical-align: middle;\n",
       "    }\n",
       "\n",
       "    .dataframe tbody tr th {\n",
       "        vertical-align: top;\n",
       "    }\n",
       "\n",
       "    .dataframe thead th {\n",
       "        text-align: right;\n",
       "    }\n",
       "</style>\n",
       "<table border=\"1\" class=\"dataframe\">\n",
       "  <thead>\n",
       "    <tr style=\"text-align: right;\">\n",
       "      <th></th>\n",
       "      <th>신청서_번호</th>\n",
       "      <th>유저_번호</th>\n",
       "      <th>유저_생년월일</th>\n",
       "      <th>유저_성별</th>\n",
       "      <th>생성일시</th>\n",
       "      <th>한도조회_당시_유저_신용점수</th>\n",
       "      <th>연소득</th>\n",
       "      <th>근로형태</th>\n",
       "      <th>입사연월</th>\n",
       "      <th>고용형태</th>\n",
       "      <th>주거소유형태</th>\n",
       "      <th>대출희망금액</th>\n",
       "      <th>대출_목적</th>\n",
       "      <th>기대출수</th>\n",
       "      <th>기대출금액</th>\n",
       "      <th>개인회생자</th>\n",
       "      <th>신용점수등급</th>\n",
       "      <th>연소득분위</th>\n",
       "    </tr>\n",
       "  </thead>\n",
       "  <tbody>\n",
       "    <tr>\n",
       "      <th>0</th>\n",
       "      <td>19242</td>\n",
       "      <td>855132</td>\n",
       "      <td>1982.0</td>\n",
       "      <td>0.0</td>\n",
       "      <td>2022-04-22 14:57:23</td>\n",
       "      <td>860.0</td>\n",
       "      <td>3249.0</td>\n",
       "      <td>EARNEDINCOME</td>\n",
       "      <td>202010.0</td>\n",
       "      <td>일용직</td>\n",
       "      <td>자가</td>\n",
       "      <td>3593.0</td>\n",
       "      <td>생활비</td>\n",
       "      <td>1.0</td>\n",
       "      <td>NaN</td>\n",
       "      <td>1</td>\n",
       "      <td>3</td>\n",
       "      <td>0</td>\n",
       "    </tr>\n",
       "    <tr>\n",
       "      <th>1</th>\n",
       "      <td>19242</td>\n",
       "      <td>855132</td>\n",
       "      <td>1982.0</td>\n",
       "      <td>0.0</td>\n",
       "      <td>2022-04-22 14:57:23</td>\n",
       "      <td>860.0</td>\n",
       "      <td>3249.0</td>\n",
       "      <td>EARNEDINCOME</td>\n",
       "      <td>202010.0</td>\n",
       "      <td>일용직</td>\n",
       "      <td>자가</td>\n",
       "      <td>3593.0</td>\n",
       "      <td>생활비</td>\n",
       "      <td>1.0</td>\n",
       "      <td>NaN</td>\n",
       "      <td>1</td>\n",
       "      <td>3</td>\n",
       "      <td>0</td>\n",
       "    </tr>\n",
       "    <tr>\n",
       "      <th>2</th>\n",
       "      <td>1451516</td>\n",
       "      <td>274024</td>\n",
       "      <td>1973.0</td>\n",
       "      <td>1.0</td>\n",
       "      <td>2022-06-25 19:16:30</td>\n",
       "      <td>680.0</td>\n",
       "      <td>3827.0</td>\n",
       "      <td>PRACTITIONER</td>\n",
       "      <td>20020725.0</td>\n",
       "      <td>기타</td>\n",
       "      <td>전월세</td>\n",
       "      <td>2464.0</td>\n",
       "      <td>생활비</td>\n",
       "      <td>3.0</td>\n",
       "      <td>2300.0</td>\n",
       "      <td>0</td>\n",
       "      <td>6</td>\n",
       "      <td>0</td>\n",
       "    </tr>\n",
       "    <tr>\n",
       "      <th>3</th>\n",
       "      <td>1061944</td>\n",
       "      <td>647131</td>\n",
       "      <td>2003.0</td>\n",
       "      <td>0.0</td>\n",
       "      <td>2022-04-23 11:47:38</td>\n",
       "      <td>0.0</td>\n",
       "      <td>2903.0</td>\n",
       "      <td>PRACTITIONER</td>\n",
       "      <td>202201.0</td>\n",
       "      <td>계약직</td>\n",
       "      <td>기타가족소유</td>\n",
       "      <td>2214.0</td>\n",
       "      <td>생활비</td>\n",
       "      <td>NaN</td>\n",
       "      <td>NaN</td>\n",
       "      <td>0</td>\n",
       "      <td>NaN</td>\n",
       "      <td>0</td>\n",
       "    </tr>\n",
       "    <tr>\n",
       "      <th>4</th>\n",
       "      <td>1061944</td>\n",
       "      <td>647131</td>\n",
       "      <td>2003.0</td>\n",
       "      <td>0.0</td>\n",
       "      <td>2022-04-23 11:47:38</td>\n",
       "      <td>0.0</td>\n",
       "      <td>2903.0</td>\n",
       "      <td>PRACTITIONER</td>\n",
       "      <td>202201.0</td>\n",
       "      <td>계약직</td>\n",
       "      <td>기타가족소유</td>\n",
       "      <td>2214.0</td>\n",
       "      <td>생활비</td>\n",
       "      <td>NaN</td>\n",
       "      <td>NaN</td>\n",
       "      <td>0</td>\n",
       "      <td>NaN</td>\n",
       "      <td>0</td>\n",
       "    </tr>\n",
       "    <tr>\n",
       "      <th>...</th>\n",
       "      <td>...</td>\n",
       "      <td>...</td>\n",
       "      <td>...</td>\n",
       "      <td>...</td>\n",
       "      <td>...</td>\n",
       "      <td>...</td>\n",
       "      <td>...</td>\n",
       "      <td>...</td>\n",
       "      <td>...</td>\n",
       "      <td>...</td>\n",
       "      <td>...</td>\n",
       "      <td>...</td>\n",
       "      <td>...</td>\n",
       "      <td>...</td>\n",
       "      <td>...</td>\n",
       "      <td>...</td>\n",
       "      <td>...</td>\n",
       "      <td>...</td>\n",
       "    </tr>\n",
       "    <tr>\n",
       "      <th>1386764</th>\n",
       "      <td>415760</td>\n",
       "      <td>562410</td>\n",
       "      <td>NaN</td>\n",
       "      <td>1.0</td>\n",
       "      <td>2022-06-30 17:37:42</td>\n",
       "      <td>470.0</td>\n",
       "      <td>3000.0</td>\n",
       "      <td>OTHERINCOME</td>\n",
       "      <td>NaN</td>\n",
       "      <td>기타</td>\n",
       "      <td>자가</td>\n",
       "      <td>300.0</td>\n",
       "      <td>생활비</td>\n",
       "      <td>NaN</td>\n",
       "      <td>NaN</td>\n",
       "      <td>0</td>\n",
       "      <td>9</td>\n",
       "      <td>3</td>\n",
       "    </tr>\n",
       "    <tr>\n",
       "      <th>1386765</th>\n",
       "      <td>1629388</td>\n",
       "      <td>92748</td>\n",
       "      <td>NaN</td>\n",
       "      <td>1.0</td>\n",
       "      <td>2022-06-30 17:46:34</td>\n",
       "      <td>250.0</td>\n",
       "      <td>2000.0</td>\n",
       "      <td>OTHERINCOME</td>\n",
       "      <td>NaN</td>\n",
       "      <td>기타</td>\n",
       "      <td>자가</td>\n",
       "      <td>100.0</td>\n",
       "      <td>생활비</td>\n",
       "      <td>NaN</td>\n",
       "      <td>NaN</td>\n",
       "      <td>0</td>\n",
       "      <td>10</td>\n",
       "      <td>2</td>\n",
       "    </tr>\n",
       "    <tr>\n",
       "      <th>1386766</th>\n",
       "      <td>957433</td>\n",
       "      <td>773358</td>\n",
       "      <td>NaN</td>\n",
       "      <td>1.0</td>\n",
       "      <td>2022-06-30 17:54:05</td>\n",
       "      <td>470.0</td>\n",
       "      <td>3000.0</td>\n",
       "      <td>OTHERINCOME</td>\n",
       "      <td>NaN</td>\n",
       "      <td>기타</td>\n",
       "      <td>자가</td>\n",
       "      <td>300.0</td>\n",
       "      <td>생활비</td>\n",
       "      <td>NaN</td>\n",
       "      <td>NaN</td>\n",
       "      <td>0</td>\n",
       "      <td>9</td>\n",
       "      <td>3</td>\n",
       "    </tr>\n",
       "    <tr>\n",
       "      <th>1386767</th>\n",
       "      <td>1131790</td>\n",
       "      <td>821338</td>\n",
       "      <td>NaN</td>\n",
       "      <td>1.0</td>\n",
       "      <td>2022-06-30 18:50:37</td>\n",
       "      <td>470.0</td>\n",
       "      <td>3000.0</td>\n",
       "      <td>OTHERINCOME</td>\n",
       "      <td>NaN</td>\n",
       "      <td>기타</td>\n",
       "      <td>자가</td>\n",
       "      <td>300.0</td>\n",
       "      <td>생활비</td>\n",
       "      <td>NaN</td>\n",
       "      <td>NaN</td>\n",
       "      <td>0</td>\n",
       "      <td>9</td>\n",
       "      <td>3</td>\n",
       "    </tr>\n",
       "    <tr>\n",
       "      <th>1386768</th>\n",
       "      <td>1557061</td>\n",
       "      <td>574274</td>\n",
       "      <td>NaN</td>\n",
       "      <td>1.0</td>\n",
       "      <td>2022-06-30 19:21:36</td>\n",
       "      <td>720.0</td>\n",
       "      <td>1500.0</td>\n",
       "      <td>OTHERINCOME</td>\n",
       "      <td>NaN</td>\n",
       "      <td>기타</td>\n",
       "      <td>기타가족소유</td>\n",
       "      <td>500.0</td>\n",
       "      <td>생활비</td>\n",
       "      <td>NaN</td>\n",
       "      <td>NaN</td>\n",
       "      <td>0</td>\n",
       "      <td>6</td>\n",
       "      <td>2</td>\n",
       "    </tr>\n",
       "  </tbody>\n",
       "</table>\n",
       "<p>1386769 rows × 18 columns</p>\n",
       "</div>"
      ],
      "text/plain": [
       "          신청서_번호   유저_번호  유저_생년월일  유저_성별                 생성일시  \\\n",
       "0          19242  855132   1982.0    0.0  2022-04-22 14:57:23   \n",
       "1          19242  855132   1982.0    0.0  2022-04-22 14:57:23   \n",
       "2        1451516  274024   1973.0    1.0  2022-06-25 19:16:30   \n",
       "3        1061944  647131   2003.0    0.0  2022-04-23 11:47:38   \n",
       "4        1061944  647131   2003.0    0.0  2022-04-23 11:47:38   \n",
       "...          ...     ...      ...    ...                  ...   \n",
       "1386764   415760  562410      NaN    1.0  2022-06-30 17:37:42   \n",
       "1386765  1629388   92748      NaN    1.0  2022-06-30 17:46:34   \n",
       "1386766   957433  773358      NaN    1.0  2022-06-30 17:54:05   \n",
       "1386767  1131790  821338      NaN    1.0  2022-06-30 18:50:37   \n",
       "1386768  1557061  574274      NaN    1.0  2022-06-30 19:21:36   \n",
       "\n",
       "         한도조회_당시_유저_신용점수     연소득          근로형태        입사연월 고용형태  주거소유형태  \\\n",
       "0                  860.0  3249.0  EARNEDINCOME    202010.0  일용직      자가   \n",
       "1                  860.0  3249.0  EARNEDINCOME    202010.0  일용직      자가   \n",
       "2                  680.0  3827.0  PRACTITIONER  20020725.0   기타     전월세   \n",
       "3                    0.0  2903.0  PRACTITIONER    202201.0  계약직  기타가족소유   \n",
       "4                    0.0  2903.0  PRACTITIONER    202201.0  계약직  기타가족소유   \n",
       "...                  ...     ...           ...         ...  ...     ...   \n",
       "1386764            470.0  3000.0   OTHERINCOME         NaN   기타      자가   \n",
       "1386765            250.0  2000.0   OTHERINCOME         NaN   기타      자가   \n",
       "1386766            470.0  3000.0   OTHERINCOME         NaN   기타      자가   \n",
       "1386767            470.0  3000.0   OTHERINCOME         NaN   기타      자가   \n",
       "1386768            720.0  1500.0   OTHERINCOME         NaN   기타  기타가족소유   \n",
       "\n",
       "         대출희망금액 대출_목적  기대출수   기대출금액  개인회생자 신용점수등급 연소득분위  \n",
       "0        3593.0   생활비   1.0     NaN      1      3     0  \n",
       "1        3593.0   생활비   1.0     NaN      1      3     0  \n",
       "2        2464.0   생활비   3.0  2300.0      0      6     0  \n",
       "3        2214.0   생활비   NaN     NaN      0    NaN     0  \n",
       "4        2214.0   생활비   NaN     NaN      0    NaN     0  \n",
       "...         ...   ...   ...     ...    ...    ...   ...  \n",
       "1386764   300.0   생활비   NaN     NaN      0      9     3  \n",
       "1386765   100.0   생활비   NaN     NaN      0     10     2  \n",
       "1386766   300.0   생활비   NaN     NaN      0      9     3  \n",
       "1386767   300.0   생활비   NaN     NaN      0      9     3  \n",
       "1386768   500.0   생활비   NaN     NaN      0      6     2  \n",
       "\n",
       "[1386769 rows x 18 columns]"
      ]
     },
     "execution_count": 490,
     "metadata": {},
     "output_type": "execute_result"
    }
   ],
   "source": [
    "user_df_5"
   ]
  },
  {
   "cell_type": "code",
   "execution_count": null,
   "id": "c2b7d6ce",
   "metadata": {},
   "outputs": [],
   "source": []
  }
 ],
 "metadata": {
  "kernelspec": {
   "display_name": "Python 3 (ipykernel)",
   "language": "python",
   "name": "python3"
  },
  "language_info": {
   "codemirror_mode": {
    "name": "ipython",
    "version": 3
   },
   "file_extension": ".py",
   "mimetype": "text/x-python",
   "name": "python",
   "nbconvert_exporter": "python",
   "pygments_lexer": "ipython3",
   "version": "3.9.12"
  }
 },
 "nbformat": 4,
 "nbformat_minor": 5
}
